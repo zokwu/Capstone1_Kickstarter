{
 "cells": [
  {
   "cell_type": "code",
   "execution_count": 1,
   "metadata": {},
   "outputs": [],
   "source": [
    "import pandas as pd\n",
    "from datetime import datetime"
   ]
  },
  {
   "cell_type": "code",
   "execution_count": 2,
   "metadata": {},
   "outputs": [],
   "source": [
    "def convert_time(df, column):\n",
    "    col_lst = [datetime.fromtimestamp(i) for i in df[column]]\n",
    "    df[column] = pd.Series(col_lst)"
   ]
  },
  {
   "cell_type": "code",
   "execution_count": 3,
   "metadata": {},
   "outputs": [],
   "source": [
    "file = 'data/Kickstarter_2019-10-17T03_20_19_421Z.json'\n",
    "df0 = pd.read_json(file, lines=True)"
   ]
  },
  {
   "cell_type": "code",
   "execution_count": 4,
   "metadata": {},
   "outputs": [],
   "source": [
    "df = pd.DataFrame(list(df0.data))"
   ]
  },
  {
   "cell_type": "code",
   "execution_count": 5,
   "metadata": {},
   "outputs": [
    {
     "data": {
      "text/plain": [
       "Index(['backers_count', 'blurb', 'category', 'converted_pledged_amount',\n",
       "       'country', 'country_displayable_name', 'created_at', 'creator',\n",
       "       'currency', 'currency_symbol', 'currency_trailing_code',\n",
       "       'current_currency', 'deadline', 'disable_communication', 'friends',\n",
       "       'fx_rate', 'goal', 'id', 'is_backing', 'is_starrable', 'is_starred',\n",
       "       'launched_at', 'location', 'name', 'permissions', 'photo', 'pledged',\n",
       "       'profile', 'slug', 'source_url', 'spotlight', 'staff_pick', 'state',\n",
       "       'state_changed_at', 'static_usd_rate', 'urls', 'usd_pledged',\n",
       "       'usd_type'],\n",
       "      dtype='object')"
      ]
     },
     "execution_count": 5,
     "metadata": {},
     "output_type": "execute_result"
    }
   ],
   "source": [
    "df.columns"
   ]
  },
  {
   "cell_type": "code",
   "execution_count": 6,
   "metadata": {},
   "outputs": [
    {
     "data": {
      "text/plain": [
       "(205227, 38)"
      ]
     },
     "execution_count": 6,
     "metadata": {},
     "output_type": "execute_result"
    }
   ],
   "source": [
    "df.shape"
   ]
  },
  {
   "cell_type": "code",
   "execution_count": 13,
   "metadata": {},
   "outputs": [
    {
     "data": {
      "text/plain": [
       "{'id': 270,\n",
       " 'name': 'Gaming Hardware',\n",
       " 'slug': 'games/gaming hardware',\n",
       " 'position': 1,\n",
       " 'parent_id': 12,\n",
       " 'color': 51627,\n",
       " 'urls': {'web': {'discover': 'http://www.kickstarter.com/discover/categories/games/gaming%20hardware'}}}"
      ]
     },
     "execution_count": 13,
     "metadata": {},
     "output_type": "execute_result"
    }
   ],
   "source": [
    "df.category[0]"
   ]
  },
  {
   "cell_type": "code",
   "execution_count": 7,
   "metadata": {},
   "outputs": [
    {
     "data": {
      "text/plain": [
       "'games/gaming hardware'"
      ]
     },
     "execution_count": 7,
     "metadata": {},
     "output_type": "execute_result"
    }
   ],
   "source": [
    "df['category'][0]['slug']"
   ]
  },
  {
   "cell_type": "code",
   "execution_count": 8,
   "metadata": {},
   "outputs": [
    {
     "data": {
      "text/plain": [
       "0    games\n",
       "1    music\n",
       "2    music\n",
       "3      art\n",
       "4    music\n",
       "Name: main_cat, dtype: object"
      ]
     },
     "execution_count": 8,
     "metadata": {},
     "output_type": "execute_result"
    }
   ],
   "source": [
    "main_cat_lst = [i['slug'].split('/')[0] for i in df['category']]\n",
    "df['main_cat'] = main_cat_lst\n",
    "df.main_cat.head()"
   ]
  },
  {
   "cell_type": "code",
   "execution_count": 9,
   "metadata": {},
   "outputs": [
    {
     "data": {
      "text/plain": [
       "0    Gaming Hardware\n",
       "1              Metal\n",
       "2               Jazz\n",
       "3        Mixed Media\n",
       "4               Jazz\n",
       "Name: sub_cat, dtype: object"
      ]
     },
     "execution_count": 9,
     "metadata": {},
     "output_type": "execute_result"
    }
   ],
   "source": [
    "sub_cat_lst = [i['name'] for i in df.category]\n",
    "df['sub_cat'] = sub_cat_lst\n",
    "df.sub_cat.head()"
   ]
  },
  {
   "cell_type": "code",
   "execution_count": 10,
   "metadata": {},
   "outputs": [],
   "source": [
    "convert_time(df, 'created_at')\n",
    "convert_time(df, 'launched_at')\n",
    "convert_time(df, 'deadline')\n",
    "convert_time(df, 'state_changed_at')"
   ]
  },
  {
   "cell_type": "code",
   "execution_count": 11,
   "metadata": {},
   "outputs": [
    {
     "data": {
      "text/plain": [
       "0   2017-04-11 01:28:29\n",
       "1   2013-05-23 12:23:41\n",
       "2   2013-08-16 08:13:59\n",
       "3   2018-07-10 13:38:49\n",
       "4   2013-04-28 20:31:00\n",
       "Name: created_at, dtype: datetime64[ns]"
      ]
     },
     "execution_count": 11,
     "metadata": {},
     "output_type": "execute_result"
    }
   ],
   "source": [
    "df.created_at.head()"
   ]
  },
  {
   "cell_type": "code",
   "execution_count": 12,
   "metadata": {},
   "outputs": [
    {
     "data": {
      "text/html": [
       "<div>\n",
       "<style scoped>\n",
       "    .dataframe tbody tr th:only-of-type {\n",
       "        vertical-align: middle;\n",
       "    }\n",
       "\n",
       "    .dataframe tbody tr th {\n",
       "        vertical-align: top;\n",
       "    }\n",
       "\n",
       "    .dataframe thead th {\n",
       "        text-align: right;\n",
       "    }\n",
       "</style>\n",
       "<table border=\"1\" class=\"dataframe\">\n",
       "  <thead>\n",
       "    <tr style=\"text-align: right;\">\n",
       "      <th></th>\n",
       "      <th>name</th>\n",
       "      <th>main_cat</th>\n",
       "      <th>pledged</th>\n",
       "      <th>goal</th>\n",
       "      <th>converted_pledged_amount</th>\n",
       "      <th>usd_pledged</th>\n",
       "      <th>currency</th>\n",
       "      <th>current_currency</th>\n",
       "      <th>usd_type</th>\n",
       "      <th>fx_rate</th>\n",
       "      <th>static_usd_rate</th>\n",
       "    </tr>\n",
       "  </thead>\n",
       "  <tbody>\n",
       "    <tr>\n",
       "      <th>0</th>\n",
       "      <td>Playable Certification (Canceled)</td>\n",
       "      <td>games</td>\n",
       "      <td>24989.0</td>\n",
       "      <td>375000.0</td>\n",
       "      <td>2963</td>\n",
       "      <td>2963.98652185</td>\n",
       "      <td>SEK</td>\n",
       "      <td>USD</td>\n",
       "      <td>domestic</td>\n",
       "      <td>0.101884</td>\n",
       "      <td>0.118612</td>\n",
       "    </tr>\n",
       "    <tr>\n",
       "      <th>1</th>\n",
       "      <td>Deadiron's Next Album!</td>\n",
       "      <td>music</td>\n",
       "      <td>3485.0</td>\n",
       "      <td>1000.0</td>\n",
       "      <td>3485</td>\n",
       "      <td>3485.0</td>\n",
       "      <td>USD</td>\n",
       "      <td>USD</td>\n",
       "      <td>domestic</td>\n",
       "      <td>1.000000</td>\n",
       "      <td>1.000000</td>\n",
       "    </tr>\n",
       "    <tr>\n",
       "      <th>2</th>\n",
       "      <td>Lindsey Holland Rick Holland Christmas Project...</td>\n",
       "      <td>music</td>\n",
       "      <td>3575.0</td>\n",
       "      <td>3500.0</td>\n",
       "      <td>3575</td>\n",
       "      <td>3575.0</td>\n",
       "      <td>USD</td>\n",
       "      <td>USD</td>\n",
       "      <td>international</td>\n",
       "      <td>1.000000</td>\n",
       "      <td>1.000000</td>\n",
       "    </tr>\n",
       "    <tr>\n",
       "      <th>3</th>\n",
       "      <td>The Belly of the Whale is the Belly of You</td>\n",
       "      <td>art</td>\n",
       "      <td>5523.0</td>\n",
       "      <td>5500.0</td>\n",
       "      <td>5523</td>\n",
       "      <td>5523.0</td>\n",
       "      <td>USD</td>\n",
       "      <td>USD</td>\n",
       "      <td>domestic</td>\n",
       "      <td>1.000000</td>\n",
       "      <td>1.000000</td>\n",
       "    </tr>\n",
       "    <tr>\n",
       "      <th>4</th>\n",
       "      <td>Quartet Style... Recording my jazz vocal CD \"B...</td>\n",
       "      <td>music</td>\n",
       "      <td>100.0</td>\n",
       "      <td>9000.0</td>\n",
       "      <td>100</td>\n",
       "      <td>100.0</td>\n",
       "      <td>USD</td>\n",
       "      <td>USD</td>\n",
       "      <td>international</td>\n",
       "      <td>1.000000</td>\n",
       "      <td>1.000000</td>\n",
       "    </tr>\n",
       "    <tr>\n",
       "      <th>5</th>\n",
       "      <td>GETTING BY Language: Spanish 1</td>\n",
       "      <td>publishing</td>\n",
       "      <td>50.0</td>\n",
       "      <td>15000.0</td>\n",
       "      <td>50</td>\n",
       "      <td>50.0</td>\n",
       "      <td>USD</td>\n",
       "      <td>USD</td>\n",
       "      <td>domestic</td>\n",
       "      <td>1.000000</td>\n",
       "      <td>1.000000</td>\n",
       "    </tr>\n",
       "  </tbody>\n",
       "</table>\n",
       "</div>"
      ],
      "text/plain": [
       "                                                name    main_cat  pledged  \\\n",
       "0                  Playable Certification (Canceled)       games  24989.0   \n",
       "1                             Deadiron's Next Album!       music   3485.0   \n",
       "2  Lindsey Holland Rick Holland Christmas Project...       music   3575.0   \n",
       "3         The Belly of the Whale is the Belly of You         art   5523.0   \n",
       "4  Quartet Style... Recording my jazz vocal CD \"B...       music    100.0   \n",
       "5                     GETTING BY Language: Spanish 1  publishing     50.0   \n",
       "\n",
       "       goal  converted_pledged_amount    usd_pledged currency  \\\n",
       "0  375000.0                      2963  2963.98652185      SEK   \n",
       "1    1000.0                      3485         3485.0      USD   \n",
       "2    3500.0                      3575         3575.0      USD   \n",
       "3    5500.0                      5523         5523.0      USD   \n",
       "4    9000.0                       100          100.0      USD   \n",
       "5   15000.0                        50           50.0      USD   \n",
       "\n",
       "  current_currency       usd_type   fx_rate  static_usd_rate  \n",
       "0              USD       domestic  0.101884         0.118612  \n",
       "1              USD       domestic  1.000000         1.000000  \n",
       "2              USD  international  1.000000         1.000000  \n",
       "3              USD       domestic  1.000000         1.000000  \n",
       "4              USD  international  1.000000         1.000000  \n",
       "5              USD       domestic  1.000000         1.000000  "
      ]
     },
     "execution_count": 12,
     "metadata": {},
     "output_type": "execute_result"
    }
   ],
   "source": [
    "df.loc[:5, ['name', 'main_cat', 'pledged', 'goal', 'converted_pledged_amount', 'usd_pledged', 'currency', 'current_currency', 'usd_type', 'fx_rate', 'static_usd_rate']]"
   ]
  },
  {
   "cell_type": "code",
   "execution_count": 13,
   "metadata": {},
   "outputs": [
    {
     "data": {
      "text/html": [
       "<div>\n",
       "<style scoped>\n",
       "    .dataframe tbody tr th:only-of-type {\n",
       "        vertical-align: middle;\n",
       "    }\n",
       "\n",
       "    .dataframe tbody tr th {\n",
       "        vertical-align: top;\n",
       "    }\n",
       "\n",
       "    .dataframe thead th {\n",
       "        text-align: right;\n",
       "    }\n",
       "</style>\n",
       "<table border=\"1\" class=\"dataframe\">\n",
       "  <thead>\n",
       "    <tr style=\"text-align: right;\">\n",
       "      <th></th>\n",
       "      <th>name</th>\n",
       "      <th>main_cat</th>\n",
       "      <th>pledged</th>\n",
       "      <th>goal</th>\n",
       "      <th>converted_pledged_amount</th>\n",
       "      <th>usd_pledged</th>\n",
       "      <th>currency</th>\n",
       "      <th>current_currency</th>\n",
       "      <th>usd_type</th>\n",
       "      <th>fx_rate</th>\n",
       "      <th>static_usd_rate</th>\n",
       "    </tr>\n",
       "  </thead>\n",
       "  <tbody>\n",
       "    <tr>\n",
       "      <th>1867</th>\n",
       "      <td>Project Space Boost</td>\n",
       "      <td>games</td>\n",
       "      <td>1.0</td>\n",
       "      <td>500.0</td>\n",
       "      <td>1</td>\n",
       "      <td>1.0</td>\n",
       "      <td>USD</td>\n",
       "      <td>CAD</td>\n",
       "      <td>None</td>\n",
       "      <td>1.320395</td>\n",
       "      <td>1.000000</td>\n",
       "    </tr>\n",
       "    <tr>\n",
       "      <th>1995</th>\n",
       "      <td>Surprise Senpai - An Adult Visual Novel/RPG/Da...</td>\n",
       "      <td>games</td>\n",
       "      <td>1611.0</td>\n",
       "      <td>2500.0</td>\n",
       "      <td>2356</td>\n",
       "      <td>1772.4819681</td>\n",
       "      <td>EUR</td>\n",
       "      <td>CAD</td>\n",
       "      <td>None</td>\n",
       "      <td>1.462672</td>\n",
       "      <td>1.100237</td>\n",
       "    </tr>\n",
       "    <tr>\n",
       "      <th>2162</th>\n",
       "      <td>The Beast Within</td>\n",
       "      <td>games</td>\n",
       "      <td>1.0</td>\n",
       "      <td>1506.0</td>\n",
       "      <td>1</td>\n",
       "      <td>1.0</td>\n",
       "      <td>USD</td>\n",
       "      <td>CAD</td>\n",
       "      <td>None</td>\n",
       "      <td>1.320395</td>\n",
       "      <td>1.000000</td>\n",
       "    </tr>\n",
       "    <tr>\n",
       "      <th>2373</th>\n",
       "      <td>ilumee: 4K LED Projector with Ultimate Short T...</td>\n",
       "      <td>technology</td>\n",
       "      <td>35683.0</td>\n",
       "      <td>50000.0</td>\n",
       "      <td>32212</td>\n",
       "      <td>35683.0</td>\n",
       "      <td>USD</td>\n",
       "      <td>EUR</td>\n",
       "      <td>None</td>\n",
       "      <td>0.902728</td>\n",
       "      <td>1.000000</td>\n",
       "    </tr>\n",
       "    <tr>\n",
       "      <th>2688</th>\n",
       "      <td>Amazing Original Vector Logo Design and Branding</td>\n",
       "      <td>design</td>\n",
       "      <td>791.0</td>\n",
       "      <td>100.0</td>\n",
       "      <td>714</td>\n",
       "      <td>791.0</td>\n",
       "      <td>USD</td>\n",
       "      <td>EUR</td>\n",
       "      <td>None</td>\n",
       "      <td>0.902728</td>\n",
       "      <td>1.000000</td>\n",
       "    </tr>\n",
       "  </tbody>\n",
       "</table>\n",
       "</div>"
      ],
      "text/plain": [
       "                                                   name    main_cat  pledged  \\\n",
       "1867                                Project Space Boost       games      1.0   \n",
       "1995  Surprise Senpai - An Adult Visual Novel/RPG/Da...       games   1611.0   \n",
       "2162                                   The Beast Within       games      1.0   \n",
       "2373  ilumee: 4K LED Projector with Ultimate Short T...  technology  35683.0   \n",
       "2688   Amazing Original Vector Logo Design and Branding      design    791.0   \n",
       "\n",
       "         goal  converted_pledged_amount   usd_pledged currency  \\\n",
       "1867    500.0                         1           1.0      USD   \n",
       "1995   2500.0                      2356  1772.4819681      EUR   \n",
       "2162   1506.0                         1           1.0      USD   \n",
       "2373  50000.0                     32212       35683.0      USD   \n",
       "2688    100.0                       714         791.0      USD   \n",
       "\n",
       "     current_currency usd_type   fx_rate  static_usd_rate  \n",
       "1867              CAD     None  1.320395         1.000000  \n",
       "1995              CAD     None  1.462672         1.100237  \n",
       "2162              CAD     None  1.320395         1.000000  \n",
       "2373              EUR     None  0.902728         1.000000  \n",
       "2688              EUR     None  0.902728         1.000000  "
      ]
     },
     "execution_count": 13,
     "metadata": {},
     "output_type": "execute_result"
    }
   ],
   "source": [
    "df[df.current_currency != 'USD'].loc[:, ['name', 'main_cat', 'pledged', 'goal', 'converted_pledged_amount', 'usd_pledged', 'currency', 'current_currency', 'usd_type', 'fx_rate', 'static_usd_rate']].head()"
   ]
  },
  {
   "cell_type": "code",
   "execution_count": 14,
   "metadata": {},
   "outputs": [
    {
     "data": {
      "text/plain": [
       "Index(['backers_count', 'blurb', 'category', 'converted_pledged_amount',\n",
       "       'country', 'country_displayable_name', 'created_at', 'creator',\n",
       "       'currency', 'currency_symbol', 'currency_trailing_code',\n",
       "       'current_currency', 'deadline', 'disable_communication', 'friends',\n",
       "       'fx_rate', 'goal', 'id', 'is_backing', 'is_starrable', 'is_starred',\n",
       "       'launched_at', 'location', 'name', 'permissions', 'photo', 'pledged',\n",
       "       'profile', 'slug', 'source_url', 'spotlight', 'staff_pick', 'state',\n",
       "       'state_changed_at', 'static_usd_rate', 'urls', 'usd_pledged',\n",
       "       'usd_type', 'main_cat', 'sub_cat'],\n",
       "      dtype='object')"
      ]
     },
     "execution_count": 14,
     "metadata": {},
     "output_type": "execute_result"
    }
   ],
   "source": [
    "df.columns"
   ]
  },
  {
   "cell_type": "code",
   "execution_count": 15,
   "metadata": {},
   "outputs": [
    {
     "name": "stdout",
     "output_type": "stream",
     "text": [
      "Wall time: 20.4 s\n"
     ]
    }
   ],
   "source": [
    "%%time\n",
    "loc_name_lst = [None]*len(df)\n",
    "state_lst = [None]*len(df)\n",
    "for index, row in df.iterrows():\n",
    "    if type(row['location']) == dict:\n",
    "        loc_name_lst[index] = row['location']['name']\n",
    "        state_lst[index] = row['location']['state']"
   ]
  },
  {
   "cell_type": "code",
   "execution_count": 16,
   "metadata": {},
   "outputs": [],
   "source": [
    "df['loc_name'] = loc_name_lst\n",
    "df['loc_state'] = state_lst"
   ]
  },
  {
   "cell_type": "code",
   "execution_count": 17,
   "metadata": {},
   "outputs": [
    {
     "data": {
      "text/html": [
       "<div>\n",
       "<style scoped>\n",
       "    .dataframe tbody tr th:only-of-type {\n",
       "        vertical-align: middle;\n",
       "    }\n",
       "\n",
       "    .dataframe tbody tr th {\n",
       "        vertical-align: top;\n",
       "    }\n",
       "\n",
       "    .dataframe thead th {\n",
       "        text-align: right;\n",
       "    }\n",
       "</style>\n",
       "<table border=\"1\" class=\"dataframe\">\n",
       "  <thead>\n",
       "    <tr style=\"text-align: right;\">\n",
       "      <th></th>\n",
       "      <th>loc_name</th>\n",
       "      <th>state</th>\n",
       "      <th>country</th>\n",
       "      <th>country_displayable_name</th>\n",
       "    </tr>\n",
       "  </thead>\n",
       "  <tbody>\n",
       "    <tr>\n",
       "      <th>0</th>\n",
       "      <td>Uppsala</td>\n",
       "      <td>canceled</td>\n",
       "      <td>SE</td>\n",
       "      <td>Sweden</td>\n",
       "    </tr>\n",
       "    <tr>\n",
       "      <th>1</th>\n",
       "      <td>Cleveland Heights</td>\n",
       "      <td>successful</td>\n",
       "      <td>US</td>\n",
       "      <td>the United States</td>\n",
       "    </tr>\n",
       "    <tr>\n",
       "      <th>2</th>\n",
       "      <td>Buffalo</td>\n",
       "      <td>successful</td>\n",
       "      <td>US</td>\n",
       "      <td>the United States</td>\n",
       "    </tr>\n",
       "    <tr>\n",
       "      <th>3</th>\n",
       "      <td>Manhattan</td>\n",
       "      <td>successful</td>\n",
       "      <td>US</td>\n",
       "      <td>the United States</td>\n",
       "    </tr>\n",
       "    <tr>\n",
       "      <th>4</th>\n",
       "      <td>Hollywood</td>\n",
       "      <td>failed</td>\n",
       "      <td>US</td>\n",
       "      <td>the United States</td>\n",
       "    </tr>\n",
       "    <tr>\n",
       "      <th>5</th>\n",
       "      <td>Los Angeles</td>\n",
       "      <td>failed</td>\n",
       "      <td>US</td>\n",
       "      <td>the United States</td>\n",
       "    </tr>\n",
       "    <tr>\n",
       "      <th>6</th>\n",
       "      <td>De Land</td>\n",
       "      <td>successful</td>\n",
       "      <td>US</td>\n",
       "      <td>the United States</td>\n",
       "    </tr>\n",
       "    <tr>\n",
       "      <th>7</th>\n",
       "      <td>Indianapolis</td>\n",
       "      <td>live</td>\n",
       "      <td>US</td>\n",
       "      <td>the United States</td>\n",
       "    </tr>\n",
       "    <tr>\n",
       "      <th>8</th>\n",
       "      <td>Grand Rapids</td>\n",
       "      <td>successful</td>\n",
       "      <td>US</td>\n",
       "      <td>the United States</td>\n",
       "    </tr>\n",
       "    <tr>\n",
       "      <th>9</th>\n",
       "      <td>Miami</td>\n",
       "      <td>failed</td>\n",
       "      <td>US</td>\n",
       "      <td>the United States</td>\n",
       "    </tr>\n",
       "    <tr>\n",
       "      <th>10</th>\n",
       "      <td>Fresno</td>\n",
       "      <td>successful</td>\n",
       "      <td>US</td>\n",
       "      <td>the United States</td>\n",
       "    </tr>\n",
       "  </tbody>\n",
       "</table>\n",
       "</div>"
      ],
      "text/plain": [
       "             loc_name       state country country_displayable_name\n",
       "0             Uppsala    canceled      SE                   Sweden\n",
       "1   Cleveland Heights  successful      US        the United States\n",
       "2             Buffalo  successful      US        the United States\n",
       "3           Manhattan  successful      US        the United States\n",
       "4           Hollywood      failed      US        the United States\n",
       "5         Los Angeles      failed      US        the United States\n",
       "6             De Land  successful      US        the United States\n",
       "7        Indianapolis        live      US        the United States\n",
       "8        Grand Rapids  successful      US        the United States\n",
       "9               Miami      failed      US        the United States\n",
       "10             Fresno  successful      US        the United States"
      ]
     },
     "execution_count": 17,
     "metadata": {},
     "output_type": "execute_result"
    }
   ],
   "source": [
    "df.loc[:10, ['loc_name', 'state', 'country', 'country_displayable_name']]"
   ]
  },
  {
   "cell_type": "code",
   "execution_count": 18,
   "metadata": {},
   "outputs": [
    {
     "data": {
      "text/plain": [
       "Index(['backers_count', 'blurb', 'category', 'converted_pledged_amount',\n",
       "       'country', 'country_displayable_name', 'created_at', 'creator',\n",
       "       'currency', 'currency_symbol', 'currency_trailing_code',\n",
       "       'current_currency', 'deadline', 'disable_communication', 'friends',\n",
       "       'fx_rate', 'goal', 'id', 'is_backing', 'is_starrable', 'is_starred',\n",
       "       'launched_at', 'location', 'name', 'permissions', 'photo', 'pledged',\n",
       "       'profile', 'slug', 'source_url', 'spotlight', 'staff_pick', 'state',\n",
       "       'state_changed_at', 'static_usd_rate', 'urls', 'usd_pledged',\n",
       "       'usd_type', 'main_cat', 'sub_cat', 'loc_name', 'loc_state'],\n",
       "      dtype='object')"
      ]
     },
     "execution_count": 18,
     "metadata": {},
     "output_type": "execute_result"
    }
   ],
   "source": [
    "df.columns"
   ]
  },
  {
   "cell_type": "code",
   "execution_count": 19,
   "metadata": {
    "scrolled": true
   },
   "outputs": [
    {
     "data": {
      "text/plain": [
       "{'id': 1984360892,\n",
       " 'name': 'Felipe Garcia',\n",
       " 'is_registered': None,\n",
       " 'chosen_currency': None,\n",
       " 'is_superbacker': None,\n",
       " 'avatar': {'thumb': 'https://ksr-ugc.imgix.net/assets/017/344/415/2854e64bf720927babc73e4d686186cb_original.JPG?ixlib=rb-2.1.0&w=40&h=40&fit=crop&v=1498991353&auto=format&frame=1&q=92&s=b0b7954efdeb54319b1e4faa9b703dcf',\n",
       "  'small': 'https://ksr-ugc.imgix.net/assets/017/344/415/2854e64bf720927babc73e4d686186cb_original.JPG?ixlib=rb-2.1.0&w=160&h=160&fit=crop&v=1498991353&auto=format&frame=1&q=92&s=b20d7bb4f7e472f70e2ba23ca346a4d7',\n",
       "  'medium': 'https://ksr-ugc.imgix.net/assets/017/344/415/2854e64bf720927babc73e4d686186cb_original.JPG?ixlib=rb-2.1.0&w=160&h=160&fit=crop&v=1498991353&auto=format&frame=1&q=92&s=b20d7bb4f7e472f70e2ba23ca346a4d7'},\n",
       " 'urls': {'web': {'user': 'https://www.kickstarter.com/profile/1984360892'},\n",
       "  'api': {'user': 'https://api.kickstarter.com/v1/users/1984360892?signature=1571370022.6e2fbc9ffaad29f35e678667bab789d0d6859abd'}}}"
      ]
     },
     "execution_count": 19,
     "metadata": {},
     "output_type": "execute_result"
    }
   ],
   "source": [
    "df.creator[0]"
   ]
  },
  {
   "cell_type": "code",
   "execution_count": 20,
   "metadata": {},
   "outputs": [
    {
     "name": "stdout",
     "output_type": "stream",
     "text": [
      "Wall time: 19.4 s\n"
     ]
    }
   ],
   "source": [
    "%%time\n",
    "creator_id_lst = [None]*len(df)\n",
    "creator_name_lst = [None]*len(df)\n",
    "for index, row in df.iterrows():\n",
    "    if type(row['creator']) == dict:\n",
    "        creator_id_lst[index] = row['creator']['id']\n",
    "        creator_name_lst[index] = row['creator']['name']"
   ]
  },
  {
   "cell_type": "code",
   "execution_count": 21,
   "metadata": {},
   "outputs": [],
   "source": [
    "df['creator_id'] = creator_id_lst\n",
    "df['creator_name'] = creator_name_lst"
   ]
  },
  {
   "cell_type": "code",
   "execution_count": 22,
   "metadata": {},
   "outputs": [
    {
     "data": {
      "text/plain": [
       "0              Felipe Garcia\n",
       "1                   Deadiron\n",
       "2               Rick Holland\n",
       "3    Julia \"Jelly\"  Morrison\n",
       "4            John Eric Booth\n",
       "Name: creator_name, dtype: object"
      ]
     },
     "execution_count": 22,
     "metadata": {},
     "output_type": "execute_result"
    }
   ],
   "source": [
    "df.creator_name.head()"
   ]
  },
  {
   "cell_type": "code",
   "execution_count": 18,
   "metadata": {},
   "outputs": [
    {
     "data": {
      "text/plain": [
       "'Whales are washing up around the world with deadly tummy aches. The culprit? Our plastic waste.  This is not OK for me.  Is it OKFORU?'"
      ]
     },
     "execution_count": 18,
     "metadata": {},
     "output_type": "execute_result"
    }
   ],
   "source": [
    "df.blurb[3]"
   ]
  },
  {
   "cell_type": "code",
   "execution_count": 28,
   "metadata": {},
   "outputs": [
    {
     "data": {
      "text/plain": [
       "'lindsey-holland-rick-holland-christmas-project-voc'"
      ]
     },
     "execution_count": 28,
     "metadata": {},
     "output_type": "execute_result"
    }
   ],
   "source": [
    "df.slug[2]"
   ]
  },
  {
   "cell_type": "code",
   "execution_count": 23,
   "metadata": {},
   "outputs": [],
   "source": [
    "df['blurb_len'] = [len(i) for i in df.blurb]"
   ]
  },
  {
   "cell_type": "code",
   "execution_count": 24,
   "metadata": {},
   "outputs": [
    {
     "data": {
      "text/plain": [
       "['backers_count',\n",
       " 'country',\n",
       " 'country_displayable_name',\n",
       " 'created_at',\n",
       " 'currency',\n",
       " 'currency_symbol',\n",
       " 'deadline',\n",
       " 'disable_communication',\n",
       " 'goal',\n",
       " 'id',\n",
       " 'is_starrable',\n",
       " 'launched_at',\n",
       " 'name',\n",
       " 'pledged',\n",
       " 'slug',\n",
       " 'spotlight',\n",
       " 'staff_pick',\n",
       " 'state',\n",
       " 'state_changed_at',\n",
       " 'static_usd_rate',\n",
       " 'usd_pledged',\n",
       " 'main_cat',\n",
       " 'sub_cat',\n",
       " 'loc_name',\n",
       " 'loc_state',\n",
       " 'creator_id',\n",
       " 'creator_name',\n",
       " 'blurb_len']"
      ]
     },
     "execution_count": 24,
     "metadata": {},
     "output_type": "execute_result"
    }
   ],
   "source": [
    "drop_list = ['converted_pledged_amount', 'currency_trailing_code', 'current_currency', 'fx_rate', \n",
    "             'blurb', 'category', 'friends', 'is_backing', 'permissions', 'source_url',\n",
    "             'urls', 'photo', 'profile', 'creator', 'location', 'usd_type']\n",
    "keep_col = [i for i in df.columns if i not in drop_list]\n",
    "keep_col"
   ]
  },
  {
   "cell_type": "code",
   "execution_count": 25,
   "metadata": {},
   "outputs": [],
   "source": [
    "df.to_json('data/cleaned_full_dataset.json')"
   ]
  },
  {
   "cell_type": "code",
   "execution_count": 26,
   "metadata": {},
   "outputs": [],
   "source": [
    "df.to_csv('data/cleaned_useful_dataset.csv', header=True, columns=keep_col)"
   ]
  },
  {
   "cell_type": "code",
   "execution_count": 27,
   "metadata": {},
   "outputs": [],
   "source": [
    "df2 = pd.read_csv('data/cleaned_useful_dataset.csv', index_col=0)"
   ]
  },
  {
   "cell_type": "code",
   "execution_count": 28,
   "metadata": {},
   "outputs": [
    {
     "name": "stdout",
     "output_type": "stream",
     "text": [
      "<class 'pandas.core.frame.DataFrame'>\n",
      "Int64Index: 205227 entries, 0 to 205226\n",
      "Data columns (total 28 columns):\n",
      "backers_count               205227 non-null int64\n",
      "country                     205227 non-null object\n",
      "country_displayable_name    205227 non-null object\n",
      "created_at                  205227 non-null object\n",
      "currency                    205227 non-null object\n",
      "currency_symbol             205227 non-null object\n",
      "deadline                    205227 non-null object\n",
      "disable_communication       205227 non-null bool\n",
      "goal                        205227 non-null float64\n",
      "id                          205227 non-null int64\n",
      "is_starrable                205227 non-null bool\n",
      "launched_at                 205227 non-null object\n",
      "name                        205227 non-null object\n",
      "pledged                     205227 non-null float64\n",
      "slug                        205227 non-null object\n",
      "spotlight                   205227 non-null bool\n",
      "staff_pick                  205227 non-null bool\n",
      "state                       205227 non-null object\n",
      "state_changed_at            205227 non-null object\n",
      "static_usd_rate             205227 non-null float64\n",
      "usd_pledged                 205227 non-null float64\n",
      "main_cat                    205227 non-null object\n",
      "sub_cat                     205227 non-null object\n",
      "loc_name                    205044 non-null object\n",
      "loc_state                   204977 non-null object\n",
      "creator_id                  205227 non-null int64\n",
      "creator_name                205226 non-null object\n",
      "blurb_len                   205227 non-null int64\n",
      "dtypes: bool(4), float64(4), int64(4), object(16)\n",
      "memory usage: 39.9+ MB\n"
     ]
    }
   ],
   "source": [
    "df2.info()"
   ]
  },
  {
   "cell_type": "code",
   "execution_count": 29,
   "metadata": {},
   "outputs": [
    {
     "data": {
      "text/html": [
       "<div>\n",
       "<style scoped>\n",
       "    .dataframe tbody tr th:only-of-type {\n",
       "        vertical-align: middle;\n",
       "    }\n",
       "\n",
       "    .dataframe tbody tr th {\n",
       "        vertical-align: top;\n",
       "    }\n",
       "\n",
       "    .dataframe thead th {\n",
       "        text-align: right;\n",
       "    }\n",
       "</style>\n",
       "<table border=\"1\" class=\"dataframe\">\n",
       "  <thead>\n",
       "    <tr style=\"text-align: right;\">\n",
       "      <th></th>\n",
       "      <th>backers_count</th>\n",
       "      <th>country</th>\n",
       "      <th>country_displayable_name</th>\n",
       "      <th>created_at</th>\n",
       "      <th>currency</th>\n",
       "      <th>currency_symbol</th>\n",
       "      <th>deadline</th>\n",
       "      <th>disable_communication</th>\n",
       "      <th>goal</th>\n",
       "      <th>id</th>\n",
       "      <th>...</th>\n",
       "      <th>state_changed_at</th>\n",
       "      <th>static_usd_rate</th>\n",
       "      <th>usd_pledged</th>\n",
       "      <th>main_cat</th>\n",
       "      <th>sub_cat</th>\n",
       "      <th>loc_name</th>\n",
       "      <th>loc_state</th>\n",
       "      <th>creator_id</th>\n",
       "      <th>creator_name</th>\n",
       "      <th>blurb_len</th>\n",
       "    </tr>\n",
       "  </thead>\n",
       "  <tbody>\n",
       "    <tr>\n",
       "      <th>0</th>\n",
       "      <td>31</td>\n",
       "      <td>SE</td>\n",
       "      <td>Sweden</td>\n",
       "      <td>2017-04-11 01:28:29</td>\n",
       "      <td>SEK</td>\n",
       "      <td>kr</td>\n",
       "      <td>2017-12-24 05:00:00</td>\n",
       "      <td>False</td>\n",
       "      <td>375000.0</td>\n",
       "      <td>1520616480</td>\n",
       "      <td>...</td>\n",
       "      <td>2017-12-19 08:47:25</td>\n",
       "      <td>0.118612</td>\n",
       "      <td>2963.986522</td>\n",
       "      <td>games</td>\n",
       "      <td>Gaming Hardware</td>\n",
       "      <td>Uppsala</td>\n",
       "      <td>Uppsala</td>\n",
       "      <td>1984360892</td>\n",
       "      <td>Felipe Garcia</td>\n",
       "      <td>129</td>\n",
       "    </tr>\n",
       "    <tr>\n",
       "      <th>1</th>\n",
       "      <td>39</td>\n",
       "      <td>US</td>\n",
       "      <td>the United States</td>\n",
       "      <td>2013-05-23 12:23:41</td>\n",
       "      <td>USD</td>\n",
       "      <td>$</td>\n",
       "      <td>2013-08-31 20:59:00</td>\n",
       "      <td>False</td>\n",
       "      <td>1000.0</td>\n",
       "      <td>1580890627</td>\n",
       "      <td>...</td>\n",
       "      <td>2013-08-31 20:59:02</td>\n",
       "      <td>1.000000</td>\n",
       "      <td>3485.000000</td>\n",
       "      <td>music</td>\n",
       "      <td>Metal</td>\n",
       "      <td>Cleveland Heights</td>\n",
       "      <td>OH</td>\n",
       "      <td>1340525642</td>\n",
       "      <td>Deadiron</td>\n",
       "      <td>130</td>\n",
       "    </tr>\n",
       "    <tr>\n",
       "      <th>2</th>\n",
       "      <td>42</td>\n",
       "      <td>US</td>\n",
       "      <td>the United States</td>\n",
       "      <td>2013-08-16 08:13:59</td>\n",
       "      <td>USD</td>\n",
       "      <td>$</td>\n",
       "      <td>2013-10-22 19:58:57</td>\n",
       "      <td>False</td>\n",
       "      <td>3500.0</td>\n",
       "      <td>1826214726</td>\n",
       "      <td>...</td>\n",
       "      <td>2013-10-22 19:58:58</td>\n",
       "      <td>1.000000</td>\n",
       "      <td>3575.000000</td>\n",
       "      <td>music</td>\n",
       "      <td>Jazz</td>\n",
       "      <td>Buffalo</td>\n",
       "      <td>NY</td>\n",
       "      <td>1679924770</td>\n",
       "      <td>Rick Holland</td>\n",
       "      <td>59</td>\n",
       "    </tr>\n",
       "    <tr>\n",
       "      <th>3</th>\n",
       "      <td>21</td>\n",
       "      <td>US</td>\n",
       "      <td>the United States</td>\n",
       "      <td>2018-07-10 13:38:49</td>\n",
       "      <td>USD</td>\n",
       "      <td>$</td>\n",
       "      <td>2018-09-03 14:00:00</td>\n",
       "      <td>False</td>\n",
       "      <td>5500.0</td>\n",
       "      <td>1314966709</td>\n",
       "      <td>...</td>\n",
       "      <td>2018-09-03 14:00:00</td>\n",
       "      <td>1.000000</td>\n",
       "      <td>5523.000000</td>\n",
       "      <td>art</td>\n",
       "      <td>Mixed Media</td>\n",
       "      <td>Manhattan</td>\n",
       "      <td>NY</td>\n",
       "      <td>673151337</td>\n",
       "      <td>Julia \"Jelly\"  Morrison</td>\n",
       "      <td>134</td>\n",
       "    </tr>\n",
       "    <tr>\n",
       "      <th>4</th>\n",
       "      <td>1</td>\n",
       "      <td>US</td>\n",
       "      <td>the United States</td>\n",
       "      <td>2013-04-28 20:31:00</td>\n",
       "      <td>USD</td>\n",
       "      <td>$</td>\n",
       "      <td>2013-07-05 14:43:05</td>\n",
       "      <td>False</td>\n",
       "      <td>9000.0</td>\n",
       "      <td>1694208217</td>\n",
       "      <td>...</td>\n",
       "      <td>2013-07-05 14:43:07</td>\n",
       "      <td>1.000000</td>\n",
       "      <td>100.000000</td>\n",
       "      <td>music</td>\n",
       "      <td>Jazz</td>\n",
       "      <td>Hollywood</td>\n",
       "      <td>CA</td>\n",
       "      <td>2018121664</td>\n",
       "      <td>John Eric Booth</td>\n",
       "      <td>121</td>\n",
       "    </tr>\n",
       "  </tbody>\n",
       "</table>\n",
       "<p>5 rows × 28 columns</p>\n",
       "</div>"
      ],
      "text/plain": [
       "   backers_count country country_displayable_name           created_at  \\\n",
       "0             31      SE                   Sweden  2017-04-11 01:28:29   \n",
       "1             39      US        the United States  2013-05-23 12:23:41   \n",
       "2             42      US        the United States  2013-08-16 08:13:59   \n",
       "3             21      US        the United States  2018-07-10 13:38:49   \n",
       "4              1      US        the United States  2013-04-28 20:31:00   \n",
       "\n",
       "  currency currency_symbol             deadline  disable_communication  \\\n",
       "0      SEK              kr  2017-12-24 05:00:00                  False   \n",
       "1      USD               $  2013-08-31 20:59:00                  False   \n",
       "2      USD               $  2013-10-22 19:58:57                  False   \n",
       "3      USD               $  2018-09-03 14:00:00                  False   \n",
       "4      USD               $  2013-07-05 14:43:05                  False   \n",
       "\n",
       "       goal          id  ...     state_changed_at static_usd_rate  \\\n",
       "0  375000.0  1520616480  ...  2017-12-19 08:47:25        0.118612   \n",
       "1    1000.0  1580890627  ...  2013-08-31 20:59:02        1.000000   \n",
       "2    3500.0  1826214726  ...  2013-10-22 19:58:58        1.000000   \n",
       "3    5500.0  1314966709  ...  2018-09-03 14:00:00        1.000000   \n",
       "4    9000.0  1694208217  ...  2013-07-05 14:43:07        1.000000   \n",
       "\n",
       "   usd_pledged  main_cat          sub_cat           loc_name  loc_state  \\\n",
       "0  2963.986522     games  Gaming Hardware            Uppsala    Uppsala   \n",
       "1  3485.000000     music            Metal  Cleveland Heights         OH   \n",
       "2  3575.000000     music             Jazz            Buffalo         NY   \n",
       "3  5523.000000       art      Mixed Media          Manhattan         NY   \n",
       "4   100.000000     music             Jazz          Hollywood         CA   \n",
       "\n",
       "   creator_id             creator_name  blurb_len  \n",
       "0  1984360892            Felipe Garcia        129  \n",
       "1  1340525642                 Deadiron        130  \n",
       "2  1679924770             Rick Holland         59  \n",
       "3   673151337  Julia \"Jelly\"  Morrison        134  \n",
       "4  2018121664          John Eric Booth        121  \n",
       "\n",
       "[5 rows x 28 columns]"
      ]
     },
     "execution_count": 29,
     "metadata": {},
     "output_type": "execute_result"
    }
   ],
   "source": [
    "df2.head()"
   ]
  },
  {
   "cell_type": "code",
   "execution_count": 29,
   "metadata": {},
   "outputs": [
    {
     "ename": "NameError",
     "evalue": "name 'df2' is not defined",
     "output_type": "error",
     "traceback": [
      "\u001b[1;31m---------------------------------------------------------------------------\u001b[0m",
      "\u001b[1;31mNameError\u001b[0m                                 Traceback (most recent call last)",
      "\u001b[1;32m<ipython-input-29-d7bde18747fa>\u001b[0m in \u001b[0;36m<module>\u001b[1;34m\u001b[0m\n\u001b[1;32m----> 1\u001b[1;33m \u001b[0mdf2\u001b[0m\u001b[1;33m.\u001b[0m\u001b[0mloc\u001b[0m\u001b[1;33m[\u001b[0m\u001b[1;34m'n'\u001b[0m\u001b[1;33m]\u001b[0m \u001b[1;33m=\u001b[0m \u001b[1;36m1\u001b[0m\u001b[1;33m\u001b[0m\u001b[1;33m\u001b[0m\u001b[0m\n\u001b[0m",
      "\u001b[1;31mNameError\u001b[0m: name 'df2' is not defined"
     ]
    }
   ],
   "source": [
    "df2.loc['n'] = 1"
   ]
  },
  {
   "cell_type": "code",
   "execution_count": 31,
   "metadata": {},
   "outputs": [
    {
     "data": {
      "text/plain": [
       "0                               playable-certification\n",
       "1                                 deadirons-next-album\n",
       "2    lindsey-holland-rick-holland-christmas-project...\n",
       "3           the-belly-of-the-whale-is-the-belly-of-you\n",
       "4    quartet-style-recording-my-jazz-vocal-cd-back-...\n",
       "Name: slug, dtype: object"
      ]
     },
     "execution_count": 31,
     "metadata": {},
     "output_type": "execute_result"
    }
   ],
   "source": [
    "df2.slug.head()"
   ]
  },
  {
   "cell_type": "code",
   "execution_count": null,
   "metadata": {},
   "outputs": [],
   "source": []
  }
 ],
 "metadata": {
  "kernelspec": {
   "display_name": "Python 3",
   "language": "python",
   "name": "python3"
  },
  "language_info": {
   "codemirror_mode": {
    "name": "ipython",
    "version": 3
   },
   "file_extension": ".py",
   "mimetype": "text/x-python",
   "name": "python",
   "nbconvert_exporter": "python",
   "pygments_lexer": "ipython3",
   "version": "3.7.3"
  }
 },
 "nbformat": 4,
 "nbformat_minor": 2
}
