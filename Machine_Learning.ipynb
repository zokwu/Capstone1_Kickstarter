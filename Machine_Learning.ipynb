{
 "cells": [
  {
   "cell_type": "code",
   "execution_count": 1,
   "metadata": {},
   "outputs": [],
   "source": [
    "import pandas as pd\n",
    "import numpy as np\n",
    "import matplotlib.pyplot as plt\n",
    "import seaborn as sns\n",
    "from scipy import stats"
   ]
  },
  {
   "cell_type": "markdown",
   "metadata": {},
   "source": [
    "Load cleaned dataset"
   ]
  },
  {
   "cell_type": "code",
   "execution_count": 2,
   "metadata": {},
   "outputs": [
    {
     "name": "stdout",
     "output_type": "stream",
     "text": [
      "Wall time: 2.55 s\n"
     ]
    }
   ],
   "source": [
    "%%time\n",
    "df = pd.read_csv('data/df_cleaned_2.csv', index_col=0, parse_dates=['created_at', 'launched_at', 'deadline', 'state_changed_at'])"
   ]
  },
  {
   "cell_type": "code",
   "execution_count": 3,
   "metadata": {},
   "outputs": [
    {
     "name": "stdout",
     "output_type": "stream",
     "text": [
      "<class 'pandas.core.frame.DataFrame'>\n",
      "Int64Index: 205227 entries, 0 to 205226\n",
      "Data columns (total 33 columns):\n",
      "backers_count               205227 non-null int64\n",
      "blurb                       205219 non-null object\n",
      "country                     205227 non-null object\n",
      "country_displayable_name    205227 non-null object\n",
      "created_at                  205227 non-null datetime64[ns]\n",
      "currency                    205227 non-null object\n",
      "currency_symbol             205227 non-null object\n",
      "deadline                    205227 non-null datetime64[ns]\n",
      "disable_communication       205227 non-null bool\n",
      "goal                        205227 non-null float64\n",
      "id                          205227 non-null int64\n",
      "is_starrable                205227 non-null bool\n",
      "launched_at                 205227 non-null datetime64[ns]\n",
      "name                        205227 non-null object\n",
      "pledged                     205227 non-null float64\n",
      "spotlight                   205227 non-null bool\n",
      "staff_pick                  205227 non-null bool\n",
      "state                       205227 non-null object\n",
      "state_changed_at            205227 non-null datetime64[ns]\n",
      "static_usd_rate             205227 non-null float64\n",
      "usd_pledged                 205227 non-null float64\n",
      "main_cat                    205227 non-null object\n",
      "sub_cat                     205227 non-null object\n",
      "loc_name                    205044 non-null object\n",
      "loc_state                   204977 non-null object\n",
      "creator_id                  205227 non-null int64\n",
      "creator_name                205226 non-null object\n",
      "duration                    205227 non-null float64\n",
      "usd_goal                    205227 non-null float64\n",
      "fund_rate                   205227 non-null float64\n",
      "pledge_perc                 205227 non-null float64\n",
      "year                        205227 non-null int64\n",
      "month                       205227 non-null int64\n",
      "dtypes: bool(4), datetime64[ns](4), float64(8), int64(5), object(12)\n",
      "memory usage: 47.8+ MB\n"
     ]
    }
   ],
   "source": [
    "df.info()"
   ]
  },
  {
   "cell_type": "code",
   "execution_count": 4,
   "metadata": {},
   "outputs": [
    {
     "data": {
      "text/plain": [
       "0"
      ]
     },
     "execution_count": 4,
     "metadata": {},
     "output_type": "execute_result"
    }
   ],
   "source": [
    "sum(df.spotlight != (df.state == 'successful'))"
   ]
  },
  {
   "cell_type": "markdown",
   "metadata": {},
   "source": [
    "Delete spotlight column from training set, as it's exactly the same as successful projects."
   ]
  },
  {
   "cell_type": "markdown",
   "metadata": {},
   "source": [
    "Some project didn't provide location or state, as we decide to use those features for model training, we will drop all features with null entries. As from the result we can see after dropping those entries we still have 188532 entries, which is sufficient for model training, testing and cross validations."
   ]
  },
  {
   "cell_type": "code",
   "execution_count": 5,
   "metadata": {},
   "outputs": [
    {
     "name": "stdout",
     "output_type": "stream",
     "text": [
      "<class 'pandas.core.frame.DataFrame'>\n",
      "Int64Index: 188532 entries, 1 to 205226\n",
      "Data columns (total 33 columns):\n",
      "backers_count               188532 non-null int64\n",
      "blurb                       188532 non-null object\n",
      "country                     188532 non-null object\n",
      "country_displayable_name    188532 non-null object\n",
      "created_at                  188532 non-null datetime64[ns]\n",
      "currency                    188532 non-null object\n",
      "currency_symbol             188532 non-null object\n",
      "deadline                    188532 non-null datetime64[ns]\n",
      "disable_communication       188532 non-null bool\n",
      "goal                        188532 non-null float64\n",
      "id                          188532 non-null int64\n",
      "is_starrable                188532 non-null bool\n",
      "launched_at                 188532 non-null datetime64[ns]\n",
      "name                        188532 non-null object\n",
      "pledged                     188532 non-null float64\n",
      "spotlight                   188532 non-null bool\n",
      "staff_pick                  188532 non-null bool\n",
      "state                       188532 non-null object\n",
      "state_changed_at            188532 non-null datetime64[ns]\n",
      "static_usd_rate             188532 non-null float64\n",
      "usd_pledged                 188532 non-null float64\n",
      "main_cat                    188532 non-null object\n",
      "sub_cat                     188532 non-null object\n",
      "loc_name                    188532 non-null object\n",
      "loc_state                   188532 non-null object\n",
      "creator_id                  188532 non-null int64\n",
      "creator_name                188532 non-null object\n",
      "duration                    188532 non-null float64\n",
      "usd_goal                    188532 non-null float64\n",
      "fund_rate                   188532 non-null float64\n",
      "pledge_perc                 188532 non-null float64\n",
      "year                        188532 non-null int64\n",
      "month                       188532 non-null int64\n",
      "dtypes: bool(4), datetime64[ns](4), float64(8), int64(5), object(12)\n",
      "memory usage: 43.9+ MB\n"
     ]
    }
   ],
   "source": [
    "df = df.dropna()\n",
    "df = df[np.logical_or(df.state == 'successful', df.state == 'failed')]\n",
    "df.info()"
   ]
  },
  {
   "cell_type": "markdown",
   "metadata": {},
   "source": [
    "I use two different method to encode categorical features, one is one hot encoder, for which feature numbers increase as each unique category entries, so we only use 'country', 'main_cat' and 'loc_state' as features for this encoder. To keep more features, we use binary encoder from category_encoder, which allow to keep more features while limit the dimension of the dataset. Binary encoder perform ordinary encoder on categorical features first, then convert each number to binary code and seperate into different columns."
   ]
  },
  {
   "cell_type": "markdown",
   "metadata": {},
   "source": [
    "Pick features for training set. Numeric column we chose duration, usd_goal, year and month, we dropped backers counts as it can only be confirmed once project is finished. For bollean columns we pick disable_communication, is_starrable and staff_pick. For categorical columns, we will use two seperate encoder to encode categorical columns, one is one hot encoder and the other is binary encoder. For one hot encoder, due to it will expand dimension according to the number of unique combinations, we only pick country, main_cat and loc_state, which provide location and category information with relative small unique entries as shown below. Those columns was stored in cat_col. For binary encoder, each catergorical columns get ordinal encoded first, then convert the number to binary code and use each digit as feature, this way cancel out the ordinal features to avoid provide false ordinal information to the model. Those columns was stored in cat_col2."
   ]
  },
  {
   "cell_type": "code",
   "execution_count": 6,
   "metadata": {},
   "outputs": [],
   "source": [
    "num_col = ['duration', 'usd_goal', 'year', 'month']\n",
    "bol_col = ['disable_communication', 'is_starrable', 'staff_pick']\n",
    "cat_col = ['country', 'main_cat', 'loc_state']\n",
    "cat_col2 = ['country', 'main_cat', 'sub_cat', 'loc_name', 'loc_state']"
   ]
  },
  {
   "cell_type": "code",
   "execution_count": 7,
   "metadata": {},
   "outputs": [
    {
     "data": {
      "text/html": [
       "<div>\n",
       "<style scoped>\n",
       "    .dataframe tbody tr th:only-of-type {\n",
       "        vertical-align: middle;\n",
       "    }\n",
       "\n",
       "    .dataframe tbody tr th {\n",
       "        vertical-align: top;\n",
       "    }\n",
       "\n",
       "    .dataframe thead th {\n",
       "        text-align: right;\n",
       "    }\n",
       "</style>\n",
       "<table border=\"1\" class=\"dataframe\">\n",
       "  <thead>\n",
       "    <tr style=\"text-align: right;\">\n",
       "      <th></th>\n",
       "      <th>country</th>\n",
       "      <th>main_cat</th>\n",
       "      <th>sub_cat</th>\n",
       "      <th>loc_name</th>\n",
       "      <th>loc_state</th>\n",
       "    </tr>\n",
       "  </thead>\n",
       "  <tbody>\n",
       "    <tr>\n",
       "      <th>count</th>\n",
       "      <td>188532</td>\n",
       "      <td>188532</td>\n",
       "      <td>188532</td>\n",
       "      <td>188532</td>\n",
       "      <td>188532</td>\n",
       "    </tr>\n",
       "    <tr>\n",
       "      <th>unique</th>\n",
       "      <td>22</td>\n",
       "      <td>15</td>\n",
       "      <td>159</td>\n",
       "      <td>12128</td>\n",
       "      <td>1103</td>\n",
       "    </tr>\n",
       "    <tr>\n",
       "      <th>top</th>\n",
       "      <td>US</td>\n",
       "      <td>music</td>\n",
       "      <td>Web</td>\n",
       "      <td>Los Angeles</td>\n",
       "      <td>CA</td>\n",
       "    </tr>\n",
       "    <tr>\n",
       "      <th>freq</th>\n",
       "      <td>131910</td>\n",
       "      <td>24142</td>\n",
       "      <td>4338</td>\n",
       "      <td>8434</td>\n",
       "      <td>24007</td>\n",
       "    </tr>\n",
       "  </tbody>\n",
       "</table>\n",
       "</div>"
      ],
      "text/plain": [
       "       country main_cat sub_cat     loc_name loc_state\n",
       "count   188532   188532  188532       188532    188532\n",
       "unique      22       15     159        12128      1103\n",
       "top         US    music     Web  Los Angeles        CA\n",
       "freq    131910    24142    4338         8434     24007"
      ]
     },
     "execution_count": 7,
     "metadata": {},
     "output_type": "execute_result"
    }
   ],
   "source": [
    "df[cat_col2].describe()"
   ]
  },
  {
   "cell_type": "markdown",
   "metadata": {},
   "source": [
    "Convert numerical columns to np array X_num"
   ]
  },
  {
   "cell_type": "code",
   "execution_count": 8,
   "metadata": {},
   "outputs": [],
   "source": [
    "X_num = np.array(df[num_col])"
   ]
  },
  {
   "cell_type": "code",
   "execution_count": 9,
   "metadata": {},
   "outputs": [
    {
     "data": {
      "text/plain": [
       "array([[3.32628935e+01, 1.00000000e+03, 2.01300000e+03, 7.00000000e+00],\n",
       "       [6.00000000e+01, 3.50000000e+03, 2.01300000e+03, 8.00000000e+00],\n",
       "       [3.32306134e+01, 5.50000000e+03, 2.01800000e+03, 8.00000000e+00],\n",
       "       ...,\n",
       "       [2.24077199e+01, 9.00000000e+03, 2.01900000e+03, 2.00000000e+00],\n",
       "       [3.00000000e+01, 1.00000000e+03, 2.01500000e+03, 3.00000000e+00],\n",
       "       [3.00000000e+01, 1.00000000e+06, 2.01500000e+03, 7.00000000e+00]])"
      ]
     },
     "execution_count": 9,
     "metadata": {},
     "output_type": "execute_result"
    }
   ],
   "source": [
    "X_num"
   ]
  },
  {
   "cell_type": "markdown",
   "metadata": {},
   "source": [
    "Convert bollean columns to np array X_bol"
   ]
  },
  {
   "cell_type": "code",
   "execution_count": 10,
   "metadata": {},
   "outputs": [],
   "source": [
    "X_bol = np.array(df[bol_col])"
   ]
  },
  {
   "cell_type": "code",
   "execution_count": 11,
   "metadata": {},
   "outputs": [
    {
     "data": {
      "text/plain": [
       "array([[False, False, False],\n",
       "       [False, False, False],\n",
       "       [False, False, False],\n",
       "       ...,\n",
       "       [False, False, False],\n",
       "       [False, False, False],\n",
       "       [False, False, False]])"
      ]
     },
     "execution_count": 11,
     "metadata": {},
     "output_type": "execute_result"
    }
   ],
   "source": [
    "X_bol"
   ]
  },
  {
   "cell_type": "markdown",
   "metadata": {},
   "source": [
    "Convert categorical features to X_cat and X_cat2, which are features prepared for one hot encoder and binary encoder."
   ]
  },
  {
   "cell_type": "code",
   "execution_count": 12,
   "metadata": {},
   "outputs": [
    {
     "data": {
      "text/plain": [
       "array([['US', 'music', 'OH'],\n",
       "       ['US', 'music', 'NY'],\n",
       "       ['US', 'art', 'NY'],\n",
       "       ...,\n",
       "       ['US', 'games', 'ID'],\n",
       "       ['US', 'technology', 'IN'],\n",
       "       ['US', 'photography', 'MA']], dtype=object)"
      ]
     },
     "execution_count": 12,
     "metadata": {},
     "output_type": "execute_result"
    }
   ],
   "source": [
    "X_cat = np.array(df[cat_col])\n",
    "X_cat"
   ]
  },
  {
   "cell_type": "code",
   "execution_count": 13,
   "metadata": {},
   "outputs": [
    {
     "data": {
      "text/plain": [
       "array([['US', 'music', 'Metal', 'Cleveland Heights', 'OH'],\n",
       "       ['US', 'music', 'Jazz', 'Buffalo', 'NY'],\n",
       "       ['US', 'art', 'Mixed Media', 'Manhattan', 'NY'],\n",
       "       ...,\n",
       "       ['US', 'games', 'Playing Cards', 'Boise', 'ID'],\n",
       "       ['US', 'technology', 'Software', 'South Bend', 'IN'],\n",
       "       ['US', 'photography', 'Fine Art', 'Worcester', 'MA']], dtype=object)"
      ]
     },
     "execution_count": 13,
     "metadata": {},
     "output_type": "execute_result"
    }
   ],
   "source": [
    "X_cat2 = np.array(df[cat_col2])\n",
    "X_cat2"
   ]
  },
  {
   "cell_type": "markdown",
   "metadata": {},
   "source": [
    "Use one hot encoder to encode X_cat"
   ]
  },
  {
   "cell_type": "code",
   "execution_count": 14,
   "metadata": {},
   "outputs": [
    {
     "name": "stdout",
     "output_type": "stream",
     "text": [
      "Wall time: 605 ms\n"
     ]
    }
   ],
   "source": [
    "%%time\n",
    "from sklearn.preprocessing import OneHotEncoder\n",
    "\n",
    "enc = OneHotEncoder(sparse=False)\n",
    "enc.fit(X_cat)\n",
    "X_enc = enc.transform(X_cat)"
   ]
  },
  {
   "cell_type": "markdown",
   "metadata": {},
   "source": [
    "Use binary encoder to encode X_cat2"
   ]
  },
  {
   "cell_type": "code",
   "execution_count": 15,
   "metadata": {},
   "outputs": [],
   "source": [
    "import category_encoders as ce\n",
    "\n",
    "benc = ce.BinaryEncoder()\n",
    "X_enc2 = benc.fit_transform(X_cat2)"
   ]
  },
  {
   "cell_type": "markdown",
   "metadata": {},
   "source": [
    "Store binary encoder feature names in enc_col for future use. Features names was stored as binary encoded label already, which is the first step from ce.BinaryEncoder. Use re to convert those feature names back to readable features."
   ]
  },
  {
   "cell_type": "code",
   "execution_count": 16,
   "metadata": {},
   "outputs": [
    {
     "data": {
      "text/plain": [
       "['0_0',\n",
       " '0_1',\n",
       " '0_2',\n",
       " '0_3',\n",
       " '0_4',\n",
       " '0_5',\n",
       " '1_0',\n",
       " '1_1',\n",
       " '1_2',\n",
       " '1_3',\n",
       " '1_4',\n",
       " '2_0',\n",
       " '2_1',\n",
       " '2_2',\n",
       " '2_3',\n",
       " '2_4',\n",
       " '2_5',\n",
       " '2_6',\n",
       " '2_7',\n",
       " '2_8',\n",
       " '3_0',\n",
       " '3_1',\n",
       " '3_2',\n",
       " '3_3',\n",
       " '3_4',\n",
       " '3_5',\n",
       " '3_6',\n",
       " '3_7',\n",
       " '3_8',\n",
       " '3_9',\n",
       " '3_10',\n",
       " '3_11',\n",
       " '3_12',\n",
       " '3_13',\n",
       " '3_14',\n",
       " '4_0',\n",
       " '4_1',\n",
       " '4_2',\n",
       " '4_3',\n",
       " '4_4',\n",
       " '4_5',\n",
       " '4_6',\n",
       " '4_7',\n",
       " '4_8',\n",
       " '4_9',\n",
       " '4_10',\n",
       " '4_11']"
      ]
     },
     "execution_count": 16,
     "metadata": {},
     "output_type": "execute_result"
    }
   ],
   "source": [
    "enc_col = benc.get_feature_names()\n",
    "enc_col"
   ]
  },
  {
   "cell_type": "code",
   "execution_count": 17,
   "metadata": {},
   "outputs": [],
   "source": [
    "import re\n",
    "\n",
    "cat_col_b = []\n",
    "for i in enc_col:\n",
    "    n = int(i.split('_')[0])\n",
    "    i = re.sub(r'.*_', cat_col2[n], i)\n",
    "    cat_col_b.append(i)"
   ]
  },
  {
   "cell_type": "code",
   "execution_count": 18,
   "metadata": {},
   "outputs": [
    {
     "data": {
      "text/plain": [
       "['country0',\n",
       " 'country1',\n",
       " 'country2',\n",
       " 'country3',\n",
       " 'country4',\n",
       " 'country5',\n",
       " 'main_cat0',\n",
       " 'main_cat1',\n",
       " 'main_cat2',\n",
       " 'main_cat3',\n",
       " 'main_cat4',\n",
       " 'sub_cat0',\n",
       " 'sub_cat1',\n",
       " 'sub_cat2',\n",
       " 'sub_cat3',\n",
       " 'sub_cat4',\n",
       " 'sub_cat5',\n",
       " 'sub_cat6',\n",
       " 'sub_cat7',\n",
       " 'sub_cat8',\n",
       " 'loc_name0',\n",
       " 'loc_name1',\n",
       " 'loc_name2',\n",
       " 'loc_name3',\n",
       " 'loc_name4',\n",
       " 'loc_name5',\n",
       " 'loc_name6',\n",
       " 'loc_name7',\n",
       " 'loc_name8',\n",
       " 'loc_name9',\n",
       " 'loc_name10',\n",
       " 'loc_name11',\n",
       " 'loc_name12',\n",
       " 'loc_name13',\n",
       " 'loc_name14',\n",
       " 'loc_state0',\n",
       " 'loc_state1',\n",
       " 'loc_state2',\n",
       " 'loc_state3',\n",
       " 'loc_state4',\n",
       " 'loc_state5',\n",
       " 'loc_state6',\n",
       " 'loc_state7',\n",
       " 'loc_state8',\n",
       " 'loc_state9',\n",
       " 'loc_state10',\n",
       " 'loc_state11']"
      ]
     },
     "execution_count": 18,
     "metadata": {},
     "output_type": "execute_result"
    }
   ],
   "source": [
    "cat_col_b"
   ]
  },
  {
   "cell_type": "markdown",
   "metadata": {},
   "source": [
    "Store numerical and bollean feature names in features"
   ]
  },
  {
   "cell_type": "code",
   "execution_count": 19,
   "metadata": {},
   "outputs": [
    {
     "data": {
      "text/plain": [
       "['duration',\n",
       " 'usd_goal',\n",
       " 'year',\n",
       " 'month',\n",
       " 'disable_communication',\n",
       " 'is_starrable',\n",
       " 'staff_pick']"
      ]
     },
     "execution_count": 19,
     "metadata": {},
     "output_type": "execute_result"
    }
   ],
   "source": [
    "features = num_col + bol_col\n",
    "features"
   ]
  },
  {
   "cell_type": "markdown",
   "metadata": {},
   "source": [
    "I prepared 3 training set to compare effect of encoders, as well as the usefulness of categorical features in general. X1 use one hot encoder, X2 use binary encoder, which include more features, X3 use only numeric and boolean features"
   ]
  },
  {
   "cell_type": "code",
   "execution_count": 20,
   "metadata": {},
   "outputs": [
    {
     "name": "stdout",
     "output_type": "stream",
     "text": [
      "Wall time: 926 ms\n"
     ]
    },
    {
     "data": {
      "text/plain": [
       "(188532, 1147)"
      ]
     },
     "execution_count": 20,
     "metadata": {},
     "output_type": "execute_result"
    }
   ],
   "source": [
    "%%time\n",
    "\n",
    "X1 = np.concatenate((X_num, X_bol, X_enc), axis=1)\n",
    "X1.shape"
   ]
  },
  {
   "cell_type": "code",
   "execution_count": 21,
   "metadata": {},
   "outputs": [
    {
     "data": {
      "text/plain": [
       "(188532, 54)"
      ]
     },
     "execution_count": 21,
     "metadata": {},
     "output_type": "execute_result"
    }
   ],
   "source": [
    "X2 = np.concatenate((X_num, X_bol, X_enc2), axis=1)\n",
    "X2.shape"
   ]
  },
  {
   "cell_type": "code",
   "execution_count": 22,
   "metadata": {},
   "outputs": [
    {
     "data": {
      "text/plain": [
       "(188532, 7)"
      ]
     },
     "execution_count": 22,
     "metadata": {},
     "output_type": "execute_result"
    }
   ],
   "source": [
    "X3 = np.concatenate((X_num, X_bol), axis=1)\n",
    "X3.shape"
   ]
  },
  {
   "cell_type": "markdown",
   "metadata": {},
   "source": [
    "Prepare target set from df.state, successful entries is 1. As the main purpose of this project is to predict whether a project can be successful or not with provided project information."
   ]
  },
  {
   "cell_type": "code",
   "execution_count": 23,
   "metadata": {},
   "outputs": [
    {
     "data": {
      "text/plain": [
       "array([ True,  True,  True, ...,  True,  True, False])"
      ]
     },
     "execution_count": 23,
     "metadata": {},
     "output_type": "execute_result"
    }
   ],
   "source": [
    "y = np.array(df.state == 'successful')\n",
    "y"
   ]
  },
  {
   "cell_type": "code",
   "execution_count": 24,
   "metadata": {},
   "outputs": [
    {
     "data": {
      "text/plain": [
       "(188532,)"
      ]
     },
     "execution_count": 24,
     "metadata": {},
     "output_type": "execute_result"
    }
   ],
   "source": [
    "y.shape"
   ]
  },
  {
   "cell_type": "markdown",
   "metadata": {},
   "source": [
    "Use sklearn.model_selection.train_test_split to split training data and test data. test size is 20%"
   ]
  },
  {
   "cell_type": "code",
   "execution_count": 25,
   "metadata": {},
   "outputs": [],
   "source": [
    "from sklearn.model_selection import train_test_split\n",
    "\n",
    "X1_train, X1_test, y1_train, y1_test = train_test_split(X1, y, test_size=0.2, random_state=30)\n",
    "X2_train, X2_test, y2_train, y2_test = train_test_split(X2, y, test_size=0.2, random_state=30)\n",
    "X3_train, X3_test, y3_train, y3_test = train_test_split(X3, y, test_size=0.2, random_state=30)"
   ]
  },
  {
   "cell_type": "markdown",
   "metadata": {},
   "source": [
    "# Encoder comparison"
   ]
  },
  {
   "cell_type": "markdown",
   "metadata": {},
   "source": [
    "Out of box random forest with X1 (one hot encoder)"
   ]
  },
  {
   "cell_type": "code",
   "execution_count": 26,
   "metadata": {},
   "outputs": [
    {
     "name": "stdout",
     "output_type": "stream",
     "text": [
      "0.9961611138736947\n",
      "0.7711300289070995\n",
      "Wall time: 3min 43s\n"
     ]
    }
   ],
   "source": [
    "%%time\n",
    "from sklearn.ensemble import RandomForestClassifier\n",
    "\n",
    "rf = RandomForestClassifier(n_estimators=100)\n",
    "rf.fit(X1_train, y1_train)\n",
    "print(rf.score(X1_train, y1_train))\n",
    "print(rf.score(X1_test, y1_test))"
   ]
  },
  {
   "cell_type": "code",
   "execution_count": 27,
   "metadata": {},
   "outputs": [
    {
     "name": "stdout",
     "output_type": "stream",
     "text": [
      "[[ 9449  5128]\n",
      " [ 3502 19628]]\n",
      "              precision    recall  f1-score   support\n",
      "\n",
      "       False       0.73      0.65      0.69     14577\n",
      "        True       0.79      0.85      0.82     23130\n",
      "\n",
      "    accuracy                           0.77     37707\n",
      "   macro avg       0.76      0.75      0.75     37707\n",
      "weighted avg       0.77      0.77      0.77     37707\n",
      "\n"
     ]
    }
   ],
   "source": [
    "from sklearn.metrics import confusion_matrix, classification_report\n",
    "\n",
    "y1_pred = rf.predict(X1_test)\n",
    "print(confusion_matrix(y1_test, y1_pred))\n",
    "print(classification_report(y1_test, y1_pred))"
   ]
  },
  {
   "cell_type": "markdown",
   "metadata": {},
   "source": [
    "Out of box random forest with X2 (Binary encoder)"
   ]
  },
  {
   "cell_type": "code",
   "execution_count": 28,
   "metadata": {},
   "outputs": [
    {
     "name": "stdout",
     "output_type": "stream",
     "text": [
      "0.9998475053870379\n",
      "0.8466862916699817\n",
      "Wall time: 26.2 s\n"
     ]
    }
   ],
   "source": [
    "%%time\n",
    "\n",
    "rf = RandomForestClassifier(n_estimators=100)\n",
    "rf.fit(X2_train, y2_train)\n",
    "print(rf.score(X2_train, y2_train))\n",
    "print(rf.score(X2_test, y2_test))"
   ]
  },
  {
   "cell_type": "code",
   "execution_count": 29,
   "metadata": {},
   "outputs": [
    {
     "name": "stdout",
     "output_type": "stream",
     "text": [
      "[[11594  2983]\n",
      " [ 2798 20332]]\n",
      "              precision    recall  f1-score   support\n",
      "\n",
      "       False       0.81      0.80      0.80     14577\n",
      "        True       0.87      0.88      0.88     23130\n",
      "\n",
      "    accuracy                           0.85     37707\n",
      "   macro avg       0.84      0.84      0.84     37707\n",
      "weighted avg       0.85      0.85      0.85     37707\n",
      "\n"
     ]
    }
   ],
   "source": [
    "y2_pred = rf.predict(X2_test)\n",
    "print(confusion_matrix(y2_test, y2_pred))\n",
    "print(classification_report(y2_test, y2_pred))"
   ]
  },
  {
   "cell_type": "markdown",
   "metadata": {},
   "source": [
    "Out of box random forest with X3 (No categorical features)"
   ]
  },
  {
   "cell_type": "code",
   "execution_count": 30,
   "metadata": {},
   "outputs": [
    {
     "name": "stdout",
     "output_type": "stream",
     "text": [
      "0.9237725841206696\n",
      "0.7226509666640146\n",
      "Wall time: 19.4 s\n"
     ]
    }
   ],
   "source": [
    "%%time\n",
    "\n",
    "rf = RandomForestClassifier(n_estimators=100)\n",
    "rf.fit(X3_train, y3_train)\n",
    "print(rf.score(X3_train, y3_train))\n",
    "print(rf.score(X3_test, y3_test))"
   ]
  },
  {
   "cell_type": "code",
   "execution_count": 31,
   "metadata": {},
   "outputs": [
    {
     "name": "stdout",
     "output_type": "stream",
     "text": [
      "[[ 8679  5898]\n",
      " [ 4560 18570]]\n",
      "              precision    recall  f1-score   support\n",
      "\n",
      "       False       0.66      0.60      0.62     14577\n",
      "        True       0.76      0.80      0.78     23130\n",
      "\n",
      "    accuracy                           0.72     37707\n",
      "   macro avg       0.71      0.70      0.70     37707\n",
      "weighted avg       0.72      0.72      0.72     37707\n",
      "\n"
     ]
    }
   ],
   "source": [
    "y3_pred = rf.predict(X3_test)\n",
    "print(confusion_matrix(y3_test, y3_pred))\n",
    "print(classification_report(y3_test, y3_pred))"
   ]
  },
  {
   "cell_type": "code",
   "execution_count": 32,
   "metadata": {},
   "outputs": [
    {
     "data": {
      "text/plain": [
       "Text(0, 0.5, 'F1 Score')"
      ]
     },
     "execution_count": 32,
     "metadata": {},
     "output_type": "execute_result"
    },
    {
     "data": {
      "image/png": "[encoded data removed]",
      "text/plain": [
       "<Figure size 432x288 with 1 Axes>"
      ]
     },
     "metadata": {
      "needs_background": "light"
     },
     "output_type": "display_data"
    }
   ],
   "source": [
    "comparison = {'score': [0.77, 0.85, 0.72], 'time': [207, 26, 17]}\n",
    "plt.scatter(comparison['time'], comparison['score'])\n",
    "plt.text(comparison['time'][0]-62, comparison['score'][0]+0.005, 'One Hot Encoder')\n",
    "plt.text(comparison['time'][1]+2, comparison['score'][1]+0.005, 'Binary Encoder')\n",
    "plt.text(comparison['time'][2]+2, comparison['score'][2]+0.005, 'No Categorical Features')\n",
    "plt.xlabel('Wall Time (s)')\n",
    "plt.ylabel('F1 Score')"
   ]
  },
  {
   "cell_type": "markdown",
   "metadata": {},
   "source": [
    "From the above result, we can clearly see binary encoder shows much better F1 score than One hot encoder and without categorical features, while only take slightly longer wall time compared to non-categorical features conditions. Using one hot encoder in this case take the longest time with random forest, due to dimension is too high, while its F1 score is only slightly better than non-categorical condition, due to include less features compared to binary encoder condition. Therefore, for the rest of this project with model comparison, we use binary encoder dataset as our data. Also added cat_col_b's feature names to features list for future visualization use."
   ]
  },
  {
   "cell_type": "code",
   "execution_count": 33,
   "metadata": {},
   "outputs": [],
   "source": [
    "X_train, X_test, y_train, y_test = X2_train, X2_test, y2_train, y2_test"
   ]
  },
  {
   "cell_type": "code",
   "execution_count": 34,
   "metadata": {},
   "outputs": [
    {
     "data": {
      "text/plain": [
       "['duration',\n",
       " 'usd_goal',\n",
       " 'year',\n",
       " 'month',\n",
       " 'disable_communication',\n",
       " 'is_starrable',\n",
       " 'staff_pick',\n",
       " 'country0',\n",
       " 'country1',\n",
       " 'country2',\n",
       " 'country3',\n",
       " 'country4',\n",
       " 'country5',\n",
       " 'main_cat0',\n",
       " 'main_cat1',\n",
       " 'main_cat2',\n",
       " 'main_cat3',\n",
       " 'main_cat4',\n",
       " 'sub_cat0',\n",
       " 'sub_cat1',\n",
       " 'sub_cat2',\n",
       " 'sub_cat3',\n",
       " 'sub_cat4',\n",
       " 'sub_cat5',\n",
       " 'sub_cat6',\n",
       " 'sub_cat7',\n",
       " 'sub_cat8',\n",
       " 'loc_name0',\n",
       " 'loc_name1',\n",
       " 'loc_name2',\n",
       " 'loc_name3',\n",
       " 'loc_name4',\n",
       " 'loc_name5',\n",
       " 'loc_name6',\n",
       " 'loc_name7',\n",
       " 'loc_name8',\n",
       " 'loc_name9',\n",
       " 'loc_name10',\n",
       " 'loc_name11',\n",
       " 'loc_name12',\n",
       " 'loc_name13',\n",
       " 'loc_name14',\n",
       " 'loc_state0',\n",
       " 'loc_state1',\n",
       " 'loc_state2',\n",
       " 'loc_state3',\n",
       " 'loc_state4',\n",
       " 'loc_state5',\n",
       " 'loc_state6',\n",
       " 'loc_state7',\n",
       " 'loc_state8',\n",
       " 'loc_state9',\n",
       " 'loc_state10',\n",
       " 'loc_state11']"
      ]
     },
     "execution_count": 34,
     "metadata": {},
     "output_type": "execute_result"
    }
   ],
   "source": [
    "features = features + cat_col_b\n",
    "features"
   ]
  },
  {
   "cell_type": "markdown",
   "metadata": {},
   "source": [
    "Prepare color list to seperate columns for each categorical features"
   ]
  },
  {
   "cell_type": "code",
   "execution_count": 35,
   "metadata": {},
   "outputs": [],
   "source": [
    "color=['blue']*7\n",
    "color = color+['red']*6+['purple']*5+['orange']*9+['green']*10+['black']*5+['cyan']*10+['olive']*2"
   ]
  },
  {
   "cell_type": "markdown",
   "metadata": {},
   "source": [
    "# Model Comparison "
   ]
  },
  {
   "cell_type": "markdown",
   "metadata": {},
   "source": [
    "In this project, we decide to use 6 classifier models for test and comparison. Models are random forest, svm, knn, logistic regression, gradient boosting, naive bayes. We did hyper parameter tuning for all models and perform cross validation to check result for all models. Result are stored in pandas dataframe result using defined function store_result for all models. "
   ]
  },
  {
   "cell_type": "code",
   "execution_count": 352,
   "metadata": {},
   "outputs": [],
   "source": [
    "result = pd.DataFrame(index=['forest', 'svm', 'knn', 'logistic', 'gradient', 'multinb', 'gaussiannb', 'complementnb'],\n",
    "                      columns=['train_score', 'test_score', 'cv', 'matrix', 'report', 'roc_auc', 'roc'])"
   ]
  },
  {
   "cell_type": "code",
   "execution_count": 342,
   "metadata": {},
   "outputs": [],
   "source": [
    "from sklearn.metrics import confusion_matrix, classification_report, roc_auc_score, roc_curve"
   ]
  },
  {
   "cell_type": "code",
   "execution_count": 510,
   "metadata": {},
   "outputs": [],
   "source": [
    "def store_result(model, name, result=result):\n",
    "    \n",
    "    y_pred = model.predict(X_test)\n",
    "    result.loc[name, 'train_score'] = model.score(X_train, y_train)\n",
    "    result.loc[name, 'test_score'] = model.score(X_test, y_test)\n",
    "    result.loc[name, 'matrix'] = confusion_matrix(y_test, y_pred)\n",
    "    result.loc[name, 'report'] = classification_report(y_test, y_pred)\n",
    "    result.loc[name, 'cv'] =  cross_val_score(model, X_train, y_train)\n",
    "    "
   ]
  },
  {
   "cell_type": "code",
   "execution_count": 503,
   "metadata": {},
   "outputs": [],
   "source": [
    "def store_roc(model, name, result=result):\n",
    "    y_score = model.predict_proba(X_test)[:,1]\n",
    "    result.loc[name, 'roc_auc'] = roc_auc_score(y_test, y_score)\n",
    "    result.loc[name, 'roc'] = roc_curve(y_test, y_score)"
   ]
  },
  {
   "cell_type": "code",
   "execution_count": 441,
   "metadata": {},
   "outputs": [],
   "source": [
    "def show_result(name, result=result):\n",
    "    print(result.loc[[name], ['train_score', 'test_score']])\n",
    "    print('\\n')\n",
    "    print('cv result:', result.loc[name, 'cv'])\n",
    "    print('\\n')\n",
    "    print(result.loc[name, 'matrix'])\n",
    "    print('\\n')\n",
    "    if result.loc[name, 'roc_auc'] is not None: \n",
    "        print('roc_auc_score: %.4f'%result.loc[name, 'roc_auc'])    \n",
    "        print('\\n')\n",
    "    else:\n",
    "        print('No roc auc score')\n",
    "        print('\\n')\n",
    "    print(result.loc[name, 'report'])"
   ]
  },
  {
   "cell_type": "markdown",
   "metadata": {},
   "source": [
    "### Random Forest "
   ]
  },
  {
   "cell_type": "markdown",
   "metadata": {},
   "source": [
    "Repeat out of box test"
   ]
  },
  {
   "cell_type": "code",
   "execution_count": 36,
   "metadata": {},
   "outputs": [
    {
     "name": "stdout",
     "output_type": "stream",
     "text": [
      "0.9998408751864744\n",
      "0.8466332511204816\n",
      "[[11598  2979]\n",
      " [ 2804 20326]]\n",
      "              precision    recall  f1-score   support\n",
      "\n",
      "       False       0.81      0.80      0.80     14577\n",
      "        True       0.87      0.88      0.88     23130\n",
      "\n",
      "    accuracy                           0.85     37707\n",
      "   macro avg       0.84      0.84      0.84     37707\n",
      "weighted avg       0.85      0.85      0.85     37707\n",
      "\n",
      "Wall time: 27.6 s\n"
     ]
    }
   ],
   "source": [
    "%%time\n",
    "from sklearn.ensemble import RandomForestClassifier\n",
    "\n",
    "rf = RandomForestClassifier(n_estimators=100)\n",
    "rf.fit(X_train, y_train)\n",
    "print(rf.score(X_train, y_train))\n",
    "print(rf.score(X_test, y_test))\n",
    "\n",
    "y_pred = rf.predict(X_test)\n",
    "print(confusion_matrix(y_test, y_pred))\n",
    "print(classification_report(y_test, y_pred))"
   ]
  },
  {
   "cell_type": "markdown",
   "metadata": {},
   "source": [
    "Random Forest hyper parameter tuning"
   ]
  },
  {
   "cell_type": "markdown",
   "metadata": {},
   "source": [
    "Parameters for tuning:\n",
    "\n",
    "n_estimators: Default=100, higher could improve but cause more computing power\\\n",
    "min_samples_split: Default=2, higher could avoid overfit\\\n",
    "max_depth: Default=None, set to a certain number could avoid overfit\\\n",
    "max_leaf_nodes : Default=None, total number of nodes before stop\\\n",
    "max_features: Default=Auto=sqrt(n_features), more features could lead to overfit\\\n",
    "max_samples: Default=None, less samples per tree save computing power and avoid overfit\\\n",
    "\n",
    "Overall, all the default feature seems set to provide the best predict power, all the changes to hyper parameters are only to avoid overfitting or save computing power. Except n_estimators and max_features, which use more computing power or might increase overfit. Max_depth, max_leaf_nodes and min_samples_split both work to control the size of each tree but use different standard. "
   ]
  },
  {
   "cell_type": "markdown",
   "metadata": {},
   "source": [
    "First gridsearch, use max depth, max_features and max_samples, include default setting to see if there's any improvement compared to out-of-box result"
   ]
  },
  {
   "cell_type": "code",
   "execution_count": 37,
   "metadata": {},
   "outputs": [],
   "source": [
    "from sklearn.model_selection import GridSearchCV\n",
    "\n",
    "rf = RandomForestClassifier()\n",
    "params = { 'max_depth': [None, 10, 20],\n",
    "           'max_features': ['auto', 10, 15],\n",
    "           'max_samples': [0.7, 0.9, None]}\n",
    "\n",
    "grid = GridSearchCV(rf, params, cv=5)\n"
   ]
  },
  {
   "cell_type": "code",
   "execution_count": 38,
   "metadata": {},
   "outputs": [
    {
     "name": "stdout",
     "output_type": "stream",
     "text": [
      "Wall time: 19min 23s\n"
     ]
    },
    {
     "data": {
      "text/plain": [
       "GridSearchCV(cv=3, error_score=nan,\n",
       "             estimator=RandomForestClassifier(bootstrap=True, ccp_alpha=0.0,\n",
       "                                              class_weight=None,\n",
       "                                              criterion='gini', max_depth=None,\n",
       "                                              max_features='auto',\n",
       "                                              max_leaf_nodes=None,\n",
       "                                              max_samples=None,\n",
       "                                              min_impurity_decrease=0.0,\n",
       "                                              min_impurity_split=None,\n",
       "                                              min_samples_leaf=1,\n",
       "                                              min_samples_split=2,\n",
       "                                              min_weight_fraction_leaf=0.0,\n",
       "                                              n_estimators=100, n_jobs=None,\n",
       "                                              oob_score=False,\n",
       "                                              random_state=None, verbose=0,\n",
       "                                              warm_start=False),\n",
       "             iid='deprecated', n_jobs=None,\n",
       "             param_grid={'max_depth': [None, 10, 20],\n",
       "                         'max_features': ['auto', 10, 15],\n",
       "                         'max_samples': [0.7, 0.9, None]},\n",
       "             pre_dispatch='2*n_jobs', refit=True, return_train_score=False,\n",
       "             scoring=None, verbose=0)"
      ]
     },
     "execution_count": 38,
     "metadata": {},
     "output_type": "execute_result"
    }
   ],
   "source": [
    "%%time\n",
    "grid.fit(X_train, y_train)"
   ]
  },
  {
   "cell_type": "code",
   "execution_count": 39,
   "metadata": {},
   "outputs": [
    {
     "name": "stdout",
     "output_type": "stream",
     "text": [
      "0.840106083209017\n",
      "{'max_depth': None, 'max_features': 15, 'max_samples': 0.7}\n",
      "    mean_fit_time  std_fit_time  mean_score_time  std_score_time  \\\n",
      "0       10.354244      0.077446         1.046888        0.009316   \n",
      "1       11.953675      0.109361         1.072490        0.003791   \n",
      "2       12.955720      0.162585         1.087922        0.003508   \n",
      "3       12.407588      0.033832         0.994341        0.002938   \n",
      "4       15.022428      0.137634         1.027915        0.004049   \n",
      "5       15.863212      0.081376         1.039630        0.004536   \n",
      "6       16.536417      0.033538         1.019290        0.074750   \n",
      "7       19.797548      0.094815         0.995015        0.003861   \n",
      "8       21.120655      0.157666         0.992738        0.003357   \n",
      "9        6.328757      0.023208         0.547536        0.002155   \n",
      "10       7.472549      0.086041         0.547161        0.002407   \n",
      "11       8.315447      0.500157         0.553922        0.004107   \n",
      "12       8.445328      0.130408         0.551197        0.002860   \n",
      "13       9.758975      0.072477         0.552190        0.004772   \n",
      "14      10.456566      0.054401         0.586684        0.039771   \n",
      "15      11.398974      0.045633         0.556512        0.004072   \n",
      "16      13.522791      0.028714         0.560348        0.002736   \n",
      "17      14.545830      0.102968         0.557309        0.006837   \n",
      "18       9.369065      0.027320         0.973007        0.004951   \n",
      "19      11.071760      0.031340         1.000029        0.002049   \n",
      "20      11.886828      0.081079         1.003399        0.000829   \n",
      "21      11.913724      0.073205         0.949147        0.003306   \n",
      "22      14.144195      0.133607         0.968301        0.006067   \n",
      "23      15.028692      0.148190         0.978663        0.008472   \n",
      "24      15.922541      0.083256         0.925926        0.008211   \n",
      "25      19.162475      0.108217         0.944742        0.007016   \n",
      "26      20.478137      0.056403         0.949807        0.002501   \n",
      "\n",
      "   param_max_depth param_max_features param_max_samples  \\\n",
      "0             None               auto               0.7   \n",
      "1             None               auto               0.9   \n",
      "2             None               auto              None   \n",
      "3             None                 10               0.7   \n",
      "4             None                 10               0.9   \n",
      "5             None                 10              None   \n",
      "6             None                 15               0.7   \n",
      "7             None                 15               0.9   \n",
      "8             None                 15              None   \n",
      "9               10               auto               0.7   \n",
      "10              10               auto               0.9   \n",
      "11              10               auto              None   \n",
      "12              10                 10               0.7   \n",
      "13              10                 10               0.9   \n",
      "14              10                 10              None   \n",
      "15              10                 15               0.7   \n",
      "16              10                 15               0.9   \n",
      "17              10                 15              None   \n",
      "18              20               auto               0.7   \n",
      "19              20               auto               0.9   \n",
      "20              20               auto              None   \n",
      "21              20                 10               0.7   \n",
      "22              20                 10               0.9   \n",
      "23              20                 10              None   \n",
      "24              20                 15               0.7   \n",
      "25              20                 15               0.9   \n",
      "26              20                 15              None   \n",
      "\n",
      "                                               params  split0_test_score  \\\n",
      "0   {'max_depth': None, 'max_features': 'auto', 'm...           0.837335   \n",
      "1   {'max_depth': None, 'max_features': 'auto', 'm...           0.838091   \n",
      "2   {'max_depth': None, 'max_features': 'auto', 'm...           0.838110   \n",
      "3   {'max_depth': None, 'max_features': 10, 'max_s...           0.839960   \n",
      "4   {'max_depth': None, 'max_features': 10, 'max_s...           0.840318   \n",
      "5   {'max_depth': None, 'max_features': 10, 'max_s...           0.840000   \n",
      "6   {'max_depth': None, 'max_features': 15, 'max_s...           0.841929   \n",
      "7   {'max_depth': None, 'max_features': 15, 'max_s...           0.841551   \n",
      "8   {'max_depth': None, 'max_features': 15, 'max_s...           0.840398   \n",
      "9   {'max_depth': 10, 'max_features': 'auto', 'max...           0.778200   \n",
      "10  {'max_depth': 10, 'max_features': 'auto', 'max...           0.775495   \n",
      "11  {'max_depth': 10, 'max_features': 'auto', 'max...           0.777086   \n",
      "12  {'max_depth': 10, 'max_features': 10, 'max_sam...           0.784267   \n",
      "13  {'max_depth': 10, 'max_features': 10, 'max_sam...           0.786335   \n",
      "14  {'max_depth': 10, 'max_features': 10, 'max_sam...           0.787548   \n",
      "15  {'max_depth': 10, 'max_features': 15, 'max_sam...           0.795127   \n",
      "16  {'max_depth': 10, 'max_features': 15, 'max_sam...           0.794610   \n",
      "17  {'max_depth': 10, 'max_features': 15, 'max_sam...           0.797295   \n",
      "18  {'max_depth': 20, 'max_features': 'auto', 'max...           0.835127   \n",
      "19  {'max_depth': 20, 'max_features': 'auto', 'max...           0.835485   \n",
      "20  {'max_depth': 20, 'max_features': 'auto', 'max...           0.836857   \n",
      "21  {'max_depth': 20, 'max_features': 10, 'max_sam...           0.838349   \n",
      "22  {'max_depth': 20, 'max_features': 10, 'max_sam...           0.839224   \n",
      "23  {'max_depth': 20, 'max_features': 10, 'max_sam...           0.839741   \n",
      "24  {'max_depth': 20, 'max_features': 15, 'max_sam...           0.839622   \n",
      "25  {'max_depth': 20, 'max_features': 15, 'max_sam...           0.841432   \n",
      "26  {'max_depth': 20, 'max_features': 15, 'max_sam...           0.841770   \n",
      "\n",
      "    split1_test_score  split2_test_score  mean_test_score  std_test_score  \\\n",
      "0            0.834073           0.834928         0.835445        0.001381   \n",
      "1            0.834530           0.837414         0.836678        0.001544   \n",
      "2            0.834928           0.836201         0.836413        0.001308   \n",
      "3            0.836937           0.838906         0.838601        0.001253   \n",
      "4            0.838707           0.839543         0.839523        0.000658   \n",
      "5            0.839184           0.840457         0.839881        0.000527   \n",
      "6            0.837752           0.840636         0.840106        0.001746   \n",
      "7            0.838488           0.839980         0.840007        0.001251   \n",
      "8            0.838946           0.840099         0.839814        0.000626   \n",
      "9            0.778558           0.778757         0.778505        0.000230   \n",
      "10           0.779155           0.779234         0.777961        0.001744   \n",
      "11           0.778996           0.777703         0.777928        0.000796   \n",
      "12           0.786455           0.788662         0.786461        0.001795   \n",
      "13           0.789040           0.787608         0.787661        0.001105   \n",
      "14           0.787648           0.788782         0.787993        0.000559   \n",
      "15           0.792859           0.794311         0.794099        0.000938   \n",
      "16           0.793874           0.796658         0.795047        0.001178   \n",
      "17           0.795167           0.797732         0.796731        0.001121   \n",
      "18           0.831507           0.834769         0.833801        0.001629   \n",
      "19           0.834590           0.835525         0.835200        0.000432   \n",
      "20           0.833536           0.836121         0.835505        0.001424   \n",
      "21           0.835365           0.837931         0.837215        0.001319   \n",
      "22           0.835783           0.839503         0.838170        0.001692   \n",
      "23           0.836320           0.838130         0.838064        0.001397   \n",
      "24           0.836857           0.838289         0.838256        0.001129   \n",
      "25           0.836798           0.839503         0.839244        0.001901   \n",
      "26           0.836062           0.840179         0.839337        0.002405   \n",
      "\n",
      "    rank_test_score  \n",
      "0                16  \n",
      "1                13  \n",
      "2                14  \n",
      "3                 8  \n",
      "4                 5  \n",
      "5                 3  \n",
      "6                 1  \n",
      "7                 2  \n",
      "8                 4  \n",
      "9                25  \n",
      "10               26  \n",
      "11               27  \n",
      "12               24  \n",
      "13               23  \n",
      "14               22  \n",
      "15               21  \n",
      "16               20  \n",
      "17               19  \n",
      "18               18  \n",
      "19               17  \n",
      "20               15  \n",
      "21               12  \n",
      "22               10  \n",
      "23               11  \n",
      "24                9  \n",
      "25                7  \n",
      "26                6  \n"
     ]
    }
   ],
   "source": [
    "print(grid.best_score_)\n",
    "print(grid.best_params_)\n",
    "print(pd.DataFrame(grid.cv_results_))"
   ]
  },
  {
   "cell_type": "markdown",
   "metadata": {},
   "source": [
    "From result we can see Max_depth shows less score compared to default setting, as we expected. So in the next grid2 we will only test how max_features and max_samples affect scores."
   ]
  },
  {
   "cell_type": "code",
   "execution_count": 40,
   "metadata": {},
   "outputs": [],
   "source": [
    "rf = RandomForestClassifier(n_estimators=50)\n",
    "params2 = {'max_features': ['auto', 15, 25, 35, 45]}\n",
    "grid2 = GridSearchCV(rf, params2, cv=5)"
   ]
  },
  {
   "cell_type": "code",
   "execution_count": 41,
   "metadata": {},
   "outputs": [
    {
     "name": "stdout",
     "output_type": "stream",
     "text": [
      "Wall time: 4min 30s\n"
     ]
    },
    {
     "data": {
      "text/plain": [
       "GridSearchCV(cv=3, error_score=nan,\n",
       "             estimator=RandomForestClassifier(bootstrap=True, ccp_alpha=0.0,\n",
       "                                              class_weight=None,\n",
       "                                              criterion='gini', max_depth=None,\n",
       "                                              max_features='auto',\n",
       "                                              max_leaf_nodes=None,\n",
       "                                              max_samples=None,\n",
       "                                              min_impurity_decrease=0.0,\n",
       "                                              min_impurity_split=None,\n",
       "                                              min_samples_leaf=1,\n",
       "                                              min_samples_split=2,\n",
       "                                              min_weight_fraction_leaf=0.0,\n",
       "                                              n_estimators=50, n_jobs=None,\n",
       "                                              oob_score=False,\n",
       "                                              random_state=None, verbose=0,\n",
       "                                              warm_start=False),\n",
       "             iid='deprecated', n_jobs=None,\n",
       "             param_grid={'max_features': ['auto', 15, 25, 35, 45]},\n",
       "             pre_dispatch='2*n_jobs', refit=True, return_train_score=False,\n",
       "             scoring=None, verbose=0)"
      ]
     },
     "execution_count": 41,
     "metadata": {},
     "output_type": "execute_result"
    }
   ],
   "source": [
    "%%time\n",
    "grid2.fit(X_train, y_train)"
   ]
  },
  {
   "cell_type": "code",
   "execution_count": 42,
   "metadata": {},
   "outputs": [
    {
     "name": "stdout",
     "output_type": "stream",
     "text": [
      "0.8379976794298027\n",
      "{'max_features': 15}\n",
      "   mean_fit_time  std_fit_time  mean_score_time  std_score_time  \\\n",
      "0       6.389351      0.029429         0.549241        0.003904   \n",
      "1      10.584575      0.061979         0.507973        0.004907   \n",
      "2      15.980691      0.042321         0.491352        0.004486   \n",
      "3      21.643553      0.138764         0.489095        0.006249   \n",
      "4      27.059521      0.131401         0.481375        0.005995   \n",
      "\n",
      "  param_max_features                    params  split0_test_score  \\\n",
      "0               auto  {'max_features': 'auto'}           0.836082   \n",
      "1                 15      {'max_features': 15}           0.839722   \n",
      "2                 25      {'max_features': 25}           0.838986   \n",
      "3                 35      {'max_features': 35}           0.837076   \n",
      "4                 45      {'max_features': 45}           0.836121   \n",
      "\n",
      "   split1_test_score  split2_test_score  mean_test_score  std_test_score  \\\n",
      "0           0.833794           0.834630         0.834835        0.000945   \n",
      "1           0.836459           0.837812         0.837998        0.001338   \n",
      "2           0.833675           0.836380         0.836347        0.002168   \n",
      "3           0.833993           0.835863         0.835644        0.001268   \n",
      "4           0.832640           0.833874         0.834212        0.001441   \n",
      "\n",
      "   rank_test_score  \n",
      "0                4  \n",
      "1                1  \n",
      "2                2  \n",
      "3                3  \n",
      "4                5  \n"
     ]
    }
   ],
   "source": [
    "print(grid2.best_score_)\n",
    "print(grid2.best_params_)\n",
    "print(pd.DataFrame(grid2.cv_results_))"
   ]
  },
  {
   "cell_type": "code",
   "execution_count": 78,
   "metadata": {},
   "outputs": [
    {
     "data": {
      "text/plain": [
       "Text(0, 0.5, 'F1 score')"
      ]
     },
     "execution_count": 78,
     "metadata": {},
     "output_type": "execute_result"
    },
    {
     "data": {
      "image/png": "[encoded data removed]",
      "text/plain": [
       "<Figure size 432x288 with 1 Axes>"
      ]
     },
     "metadata": {
      "needs_background": "light"
     },
     "output_type": "display_data"
    }
   ],
   "source": [
    "max_f = pd.DataFrame(grid2.cv_results_)\n",
    "max_f.loc[0, 'param_max_features'] = np.sqrt(len(features))\n",
    "plt.plot(max_f.param_max_features, max_f.mean_test_score, marker='.')\n",
    "plt.xlabel('Max features')\n",
    "plt.ylabel('F1 score')"
   ]
  },
  {
   "cell_type": "markdown",
   "metadata": {},
   "source": [
    "From above result, max_features = 15 shows better result. Check max_feature together with max_sample to optimize parameters."
   ]
  },
  {
   "cell_type": "code",
   "execution_count": 43,
   "metadata": {},
   "outputs": [],
   "source": [
    "rf = RandomForestClassifier(n_estimators=50)\n",
    "params3 = {'max_features': ['auto', 15, 25], \n",
    "           'max_samples': [0.8, 0.9, None]}\n",
    "grid3 = GridSearchCV(rf, params3, cv=5)"
   ]
  },
  {
   "cell_type": "code",
   "execution_count": 44,
   "metadata": {},
   "outputs": [
    {
     "name": "stdout",
     "output_type": "stream",
     "text": [
      "Wall time: 5min 7s\n"
     ]
    },
    {
     "data": {
      "text/plain": [
       "GridSearchCV(cv=3, error_score=nan,\n",
       "             estimator=RandomForestClassifier(bootstrap=True, ccp_alpha=0.0,\n",
       "                                              class_weight=None,\n",
       "                                              criterion='gini', max_depth=None,\n",
       "                                              max_features='auto',\n",
       "                                              max_leaf_nodes=None,\n",
       "                                              max_samples=None,\n",
       "                                              min_impurity_decrease=0.0,\n",
       "                                              min_impurity_split=None,\n",
       "                                              min_samples_leaf=1,\n",
       "                                              min_samples_split=2,\n",
       "                                              min_weight_fraction_leaf=0.0,\n",
       "                                              n_estimators=50, n_jobs=None,\n",
       "                                              oob_score=False,\n",
       "                                              random_state=None, verbose=0,\n",
       "                                              warm_start=False),\n",
       "             iid='deprecated', n_jobs=None,\n",
       "             param_grid={'max_features': ['auto', 15, 25],\n",
       "                         'max_samples': [0.8, 0.9, None]},\n",
       "             pre_dispatch='2*n_jobs', refit=True, return_train_score=False,\n",
       "             scoring=None, verbose=0)"
      ]
     },
     "execution_count": 44,
     "metadata": {},
     "output_type": "execute_result"
    }
   ],
   "source": [
    "%%time\n",
    "grid3.fit(X_train, y_train)"
   ]
  },
  {
   "cell_type": "code",
   "execution_count": 45,
   "metadata": {},
   "outputs": [
    {
     "name": "stdout",
     "output_type": "stream",
     "text": [
      "0.8384153820653074\n",
      "{'max_features': 15, 'max_samples': None}\n",
      "   mean_fit_time  std_fit_time  mean_score_time  std_score_time  \\\n",
      "0       5.606497      0.065868         0.537901        0.003296   \n",
      "1       6.020964      0.042936         0.544237        0.005427   \n",
      "2       6.425818      0.029801         0.546897        0.000452   \n",
      "3       8.996715      0.080433         0.492019        0.001331   \n",
      "4       9.819312      0.066013         0.497202        0.002841   \n",
      "5      10.548704      0.102664         0.507014        0.002048   \n",
      "6      13.659105      0.106585         0.478067        0.000948   \n",
      "7      14.890446      0.099105         0.485042        0.003302   \n",
      "8      15.945961      0.117539         0.492014        0.001246   \n",
      "\n",
      "  param_max_features param_max_samples  \\\n",
      "0               auto               0.8   \n",
      "1               auto               0.9   \n",
      "2               auto              None   \n",
      "3                 15               0.8   \n",
      "4                 15               0.9   \n",
      "5                 15              None   \n",
      "6                 25               0.8   \n",
      "7                 25               0.9   \n",
      "8                 25              None   \n",
      "\n",
      "                                          params  split0_test_score  \\\n",
      "0   {'max_features': 'auto', 'max_samples': 0.8}           0.834988   \n",
      "1   {'max_features': 'auto', 'max_samples': 0.9}           0.836499   \n",
      "2  {'max_features': 'auto', 'max_samples': None}           0.836280   \n",
      "3       {'max_features': 15, 'max_samples': 0.8}           0.840895   \n",
      "4       {'max_features': 15, 'max_samples': 0.9}           0.838926   \n",
      "5      {'max_features': 15, 'max_samples': None}           0.841114   \n",
      "6       {'max_features': 25, 'max_samples': 0.8}           0.838349   \n",
      "7       {'max_features': 25, 'max_samples': 0.9}           0.838091   \n",
      "8      {'max_features': 25, 'max_samples': None}           0.840716   \n",
      "\n",
      "   split1_test_score  split2_test_score  mean_test_score  std_test_score  \\\n",
      "0           0.831984           0.833337         0.833436        0.001228   \n",
      "1           0.833237           0.833396         0.834378        0.001502   \n",
      "2           0.833854           0.833337         0.834490        0.001283   \n",
      "3           0.836360           0.837752         0.838336        0.001897   \n",
      "4           0.835306           0.837673         0.837302        0.001501   \n",
      "5           0.836857           0.837275         0.838415        0.001916   \n",
      "6           0.834729           0.836221         0.836433        0.001485   \n",
      "7           0.834272           0.837534         0.836632        0.001684   \n",
      "8           0.834968           0.836857         0.837514        0.002392   \n",
      "\n",
      "   rank_test_score  \n",
      "0                9  \n",
      "1                8  \n",
      "2                7  \n",
      "3                2  \n",
      "4                4  \n",
      "5                1  \n",
      "6                6  \n",
      "7                5  \n",
      "8                3  \n"
     ]
    }
   ],
   "source": [
    "print(grid3.best_score_)\n",
    "print(grid3.best_params_)\n",
    "print(pd.DataFrame(grid3.cv_results_))"
   ]
  },
  {
   "cell_type": "markdown",
   "metadata": {},
   "source": [
    "Same as previous test, max_features=15 gave us the best result. However for max_sample, None with is all the data for each tree shows better result than both 80% or 90%, which didn't agree with first grid search result. Test again for max_sample only to optimize this parameter."
   ]
  },
  {
   "cell_type": "code",
   "execution_count": 87,
   "metadata": {},
   "outputs": [],
   "source": [
    "rf = RandomForestClassifier(n_estimators=50, max_features=15)\n",
    "params4 = {'max_samples': [0.7, 0.75, 0.8, 0.85, 0.9, None]}\n",
    "grid4 = GridSearchCV(rf, params4, cv=5)"
   ]
  },
  {
   "cell_type": "code",
   "execution_count": 88,
   "metadata": {},
   "outputs": [
    {
     "data": {
      "text/plain": [
       "GridSearchCV(cv=5, error_score=nan,\n",
       "             estimator=RandomForestClassifier(bootstrap=True, ccp_alpha=0.0,\n",
       "                                              class_weight=None,\n",
       "                                              criterion='gini', max_depth=None,\n",
       "                                              max_features=15,\n",
       "                                              max_leaf_nodes=None,\n",
       "                                              max_samples=None,\n",
       "                                              min_impurity_decrease=0.0,\n",
       "                                              min_impurity_split=None,\n",
       "                                              min_samples_leaf=1,\n",
       "                                              min_samples_split=2,\n",
       "                                              min_weight_fraction_leaf=0.0,\n",
       "                                              n_estimators=50, n_jobs=None,\n",
       "                                              oob_score=False,\n",
       "                                              random_state=None, verbose=0,\n",
       "                                              warm_start=False),\n",
       "             iid='deprecated', n_jobs=None,\n",
       "             param_grid={'max_samples': [0.7, 0.75, 0.8, 0.85, 0.9, None]},\n",
       "             pre_dispatch='2*n_jobs', refit=True, return_train_score=False,\n",
       "             scoring=None, verbose=0)"
      ]
     },
     "execution_count": 88,
     "metadata": {},
     "output_type": "execute_result"
    }
   ],
   "source": [
    "grid4.fit(X_train, y_train)"
   ]
  },
  {
   "cell_type": "code",
   "execution_count": 89,
   "metadata": {},
   "outputs": [
    {
     "name": "stdout",
     "output_type": "stream",
     "text": [
      "0.843799104922924\n",
      "{'max_samples': 0.85}\n",
      "   mean_fit_time  std_fit_time  mean_score_time  std_score_time  \\\n",
      "0      10.140978      0.223498         0.296963        0.010015   \n",
      "1      10.424481      0.105809         0.293479        0.005344   \n",
      "2      10.973266      0.103658         0.301104        0.009453   \n",
      "3      11.696198      0.261225         0.310619        0.007427   \n",
      "4      14.284047      2.333567         0.379144        0.070460   \n",
      "5      13.816730      0.589166         0.329032        0.001993   \n",
      "\n",
      "  param_max_samples                 params  split0_test_score  \\\n",
      "0               0.7   {'max_samples': 0.7}           0.842864   \n",
      "1              0.75  {'max_samples': 0.75}           0.842665   \n",
      "2               0.8   {'max_samples': 0.8}           0.845549   \n",
      "3              0.85  {'max_samples': 0.85}           0.845516   \n",
      "4               0.9   {'max_samples': 0.9}           0.844787   \n",
      "5              None  {'max_samples': None}           0.843859   \n",
      "\n",
      "   split1_test_score  split2_test_score  split3_test_score  split4_test_score  \\\n",
      "0           0.841207           0.841339           0.844190           0.841107   \n",
      "1           0.841803           0.841074           0.846345           0.841140   \n",
      "2           0.843063           0.839881           0.846246           0.842102   \n",
      "3           0.842035           0.842035           0.848069           0.841339   \n",
      "4           0.843759           0.841074           0.845019           0.843295   \n",
      "5           0.843461           0.841538           0.845384           0.843362   \n",
      "\n",
      "   mean_test_score  std_test_score  rank_test_score  \n",
      "0         0.842142        0.001209                6  \n",
      "1         0.842606        0.001956                5  \n",
      "2         0.843368        0.002319                4  \n",
      "3         0.843799        0.002587                1  \n",
      "4         0.843587        0.001409                2  \n",
      "5         0.843521        0.001228                3  \n"
     ]
    }
   ],
   "source": [
    "print(grid4.best_score_)\n",
    "print(grid4.best_params_)\n",
    "print(pd.DataFrame(grid4.cv_results_))"
   ]
  },
  {
   "cell_type": "code",
   "execution_count": 90,
   "metadata": {},
   "outputs": [
    {
     "data": {
      "text/plain": [
       "Text(0, 0.5, 'F1 score')"
      ]
     },
     "execution_count": 90,
     "metadata": {},
     "output_type": "execute_result"
    },
    {
     "data": {
      "image/png": "[encoded data removed]",
      "text/plain": [
       "<Figure size 432x288 with 1 Axes>"
      ]
     },
     "metadata": {
      "needs_background": "light"
     },
     "output_type": "display_data"
    }
   ],
   "source": [
    "max_s = pd.DataFrame(grid4.cv_results_)\n",
    "max_s.loc[5, 'param_max_samples']=1\n",
    "plt.plot(max_s.param_max_samples, max_s.mean_test_score, marker='.')\n",
    "plt.xlabel('Max samples')\n",
    "plt.ylabel('F1 score')"
   ]
  },
  {
   "cell_type": "markdown",
   "metadata": {},
   "source": [
    "We can see the result difference is very small, however 0.85 seems to show the best result. Higher sample number lead to overfit while lower sample number lead to underfit."
   ]
  },
  {
   "cell_type": "code",
   "execution_count": 49,
   "metadata": {},
   "outputs": [],
   "source": [
    "rf = RandomForestClassifier(max_features=15, max_samples=0.85)\n",
    "params5 = {'n_estimators': [100, 150, 200, 250, 300]}\n",
    "grid5 = GridSearchCV(rf, params5, cv=3)"
   ]
  },
  {
   "cell_type": "code",
   "execution_count": 50,
   "metadata": {},
   "outputs": [
    {
     "data": {
      "text/plain": [
       "GridSearchCV(cv=3, error_score=nan,\n",
       "             estimator=RandomForestClassifier(bootstrap=True, ccp_alpha=0.0,\n",
       "                                              class_weight=None,\n",
       "                                              criterion='gini', max_depth=None,\n",
       "                                              max_features=15,\n",
       "                                              max_leaf_nodes=None,\n",
       "                                              max_samples=0.85,\n",
       "                                              min_impurity_decrease=0.0,\n",
       "                                              min_impurity_split=None,\n",
       "                                              min_samples_leaf=1,\n",
       "                                              min_samples_split=2,\n",
       "                                              min_weight_fraction_leaf=0.0,\n",
       "                                              n_estimators=100, n_jobs=None,\n",
       "                                              oob_score=False,\n",
       "                                              random_state=None, verbose=0,\n",
       "                                              warm_start=False),\n",
       "             iid='deprecated', n_jobs=None,\n",
       "             param_grid={'n_estimators': [100, 150, 200, 250, 300]},\n",
       "             pre_dispatch='2*n_jobs', refit=True, return_train_score=False,\n",
       "             scoring=None, verbose=0)"
      ]
     },
     "execution_count": 50,
     "metadata": {},
     "output_type": "execute_result"
    }
   ],
   "source": [
    "grid5.fit(X_train, y_train)"
   ]
  },
  {
   "cell_type": "code",
   "execution_count": 51,
   "metadata": {},
   "outputs": [
    {
     "name": "stdout",
     "output_type": "stream",
     "text": [
      "0.8413857119177854\n",
      "{'n_estimators': 300}\n",
      "   mean_fit_time  std_fit_time  mean_score_time  std_score_time  \\\n",
      "0      18.993145      0.061605         0.990357        0.001418   \n",
      "1      28.341235      0.055739         1.461421        0.002042   \n",
      "2      37.829152      0.247889         1.949117        0.004629   \n",
      "3      47.581004      0.337796         2.435254        0.006923   \n",
      "4      57.255573      0.817810         2.940036        0.017519   \n",
      "\n",
      "  param_n_estimators                 params  split0_test_score  \\\n",
      "0                100  {'n_estimators': 100}           0.842466   \n",
      "1                150  {'n_estimators': 150}           0.842248   \n",
      "2                200  {'n_estimators': 200}           0.843242   \n",
      "3                250  {'n_estimators': 250}           0.842466   \n",
      "4                300  {'n_estimators': 300}           0.842606   \n",
      "\n",
      "   split1_test_score  split2_test_score  mean_test_score  std_test_score  \\\n",
      "0           0.838329           0.839582         0.840126        0.001732   \n",
      "1           0.838906           0.841094         0.840749        0.001386   \n",
      "2           0.838747           0.841392         0.841127        0.001845   \n",
      "3           0.839562           0.842029         0.841353        0.001278   \n",
      "4           0.839543           0.842009         0.841386        0.001326   \n",
      "\n",
      "   rank_test_score  \n",
      "0                5  \n",
      "1                4  \n",
      "2                3  \n",
      "3                2  \n",
      "4                1  \n"
     ]
    }
   ],
   "source": [
    "print(grid5.best_score_)\n",
    "print(grid5.best_params_)\n",
    "print(pd.DataFrame(grid5.cv_results_))"
   ]
  },
  {
   "cell_type": "code",
   "execution_count": 93,
   "metadata": {},
   "outputs": [
    {
     "data": {
      "text/plain": [
       "Text(0, 0.5, 'F1 score')"
      ]
     },
     "execution_count": 93,
     "metadata": {},
     "output_type": "execute_result"
    },
    {
     "data": {
      "image/png": "[encoded data removed]",
      "text/plain": [
       "<Figure size 432x288 with 1 Axes>"
      ]
     },
     "metadata": {
      "needs_background": "light"
     },
     "output_type": "display_data"
    }
   ],
   "source": [
    "n_e = pd.DataFrame(grid5.cv_results_)\n",
    "plt.plot(n_e.param_n_estimators, n_e.mean_test_score, marker='.')\n",
    "plt.xlabel('Number of estimators')\n",
    "plt.ylabel('F1 score')"
   ]
  },
  {
   "cell_type": "markdown",
   "metadata": {},
   "source": [
    "Numbers of estimators increase will increase test accuracy at the cost of longer run time. From the graph above we can see after 250, F1 score seems to get saturated.We decide to use 150 as parameter"
   ]
  },
  {
   "cell_type": "code",
   "execution_count": 98,
   "metadata": {},
   "outputs": [
    {
     "name": "stdout",
     "output_type": "stream",
     "text": [
      "Wall time: 47.9 s\n"
     ]
    },
    {
     "data": {
      "text/plain": [
       "RandomForestClassifier(bootstrap=True, ccp_alpha=0.0, class_weight=None,\n",
       "                       criterion='gini', max_depth=None, max_features=15,\n",
       "                       max_leaf_nodes=None, max_samples=0.85,\n",
       "                       min_impurity_decrease=0.0, min_impurity_split=None,\n",
       "                       min_samples_leaf=1, min_samples_split=2,\n",
       "                       min_weight_fraction_leaf=0.0, n_estimators=150,\n",
       "                       n_jobs=None, oob_score=False, random_state=None,\n",
       "                       verbose=0, warm_start=False)"
      ]
     },
     "execution_count": 98,
     "metadata": {},
     "output_type": "execute_result"
    }
   ],
   "source": [
    "%%time\n",
    "rf = RandomForestClassifier(n_estimators=150, max_features=15, max_samples=0.85)\n",
    "rf.fit(X_train, y_train)"
   ]
  },
  {
   "cell_type": "code",
   "execution_count": 506,
   "metadata": {},
   "outputs": [
    {
     "name": "stdout",
     "output_type": "stream",
     "text": [
      "Wall time: 30.2 s\n"
     ]
    },
    {
     "data": {
      "text/plain": [
       "RandomForestClassifier(bootstrap=True, ccp_alpha=0.0, class_weight=None,\n",
       "                       criterion='gini', max_depth=None, max_features=15,\n",
       "                       max_leaf_nodes=None, max_samples=0.85,\n",
       "                       min_impurity_decrease=0.0, min_impurity_split=None,\n",
       "                       min_samples_leaf=1, min_samples_split=2,\n",
       "                       min_weight_fraction_leaf=0.0, n_estimators=100,\n",
       "                       n_jobs=None, oob_score=False, random_state=None,\n",
       "                       verbose=0, warm_start=False)"
      ]
     },
     "execution_count": 506,
     "metadata": {},
     "output_type": "execute_result"
    }
   ],
   "source": [
    "%%time\n",
    "rf = RandomForestClassifier(n_estimators=100, max_features=15, max_samples=0.85)\n",
    "rf.fit(X_train, y_train)"
   ]
  },
  {
   "cell_type": "code",
   "execution_count": 511,
   "metadata": {},
   "outputs": [],
   "source": [
    "store_result(rf, 'forest')"
   ]
  },
  {
   "cell_type": "code",
   "execution_count": 512,
   "metadata": {},
   "outputs": [],
   "source": [
    "store_roc(rf, 'forest')"
   ]
  },
  {
   "cell_type": "code",
   "execution_count": 513,
   "metadata": {},
   "outputs": [
    {
     "name": "stdout",
     "output_type": "stream",
     "text": [
      "       train_score test_score\n",
      "forest    0.999695   0.849922\n",
      "\n",
      "\n",
      "cv result: [0.84425659 0.84468755 0.84385878 0.84843362 0.84412398]\n",
      "\n",
      "\n",
      "[[11802  2775]\n",
      " [ 2884 20246]]\n",
      "\n",
      "\n",
      "roc_auc_score: 0.9277\n",
      "\n",
      "\n",
      "              precision    recall  f1-score   support\n",
      "\n",
      "       False       0.80      0.81      0.81     14577\n",
      "        True       0.88      0.88      0.88     23130\n",
      "\n",
      "    accuracy                           0.85     37707\n",
      "   macro avg       0.84      0.84      0.84     37707\n",
      "weighted avg       0.85      0.85      0.85     37707\n",
      "\n"
     ]
    }
   ],
   "source": [
    "show_result('forest')"
   ]
  },
  {
   "cell_type": "markdown",
   "metadata": {},
   "source": [
    "Plot feature importance with feature name to show which feature is more important for random forest model to predict the result."
   ]
  },
  {
   "cell_type": "code",
   "execution_count": 101,
   "metadata": {},
   "outputs": [
    {
     "data": {
      "image/png": "[encoded data removed]",
      "text/plain": [
       "<Figure size 864x576 with 1 Axes>"
      ]
     },
     "metadata": {
      "needs_background": "light"
     },
     "output_type": "display_data"
    }
   ],
   "source": [
    "fig, ax = plt.subplots(figsize=(12,8))\n",
    "ax.bar(features, rf.feature_importances_, color=color)\n",
    "for tick in ax.get_xticklabels():\n",
    "    tick.set_rotation(90)\n",
    "    "
   ]
  },
  {
   "cell_type": "markdown",
   "metadata": {},
   "source": [
    "###  SVM"
   ]
  },
  {
   "cell_type": "markdown",
   "metadata": {},
   "source": [
    "Out of box test for linear SVC. perform standardscaler and set dual=False is necessary for SVC model to converge."
   ]
  },
  {
   "cell_type": "code",
   "execution_count": 103,
   "metadata": {},
   "outputs": [
    {
     "name": "stdout",
     "output_type": "stream",
     "text": [
      "Wall time: 3.8 s\n"
     ]
    },
    {
     "data": {
      "text/plain": [
       "Pipeline(memory=None,\n",
       "         steps=[('sc',\n",
       "                 StandardScaler(copy=True, with_mean=True, with_std=True)),\n",
       "                ('svm',\n",
       "                 LinearSVC(C=1.0, class_weight=None, dual=False,\n",
       "                           fit_intercept=True, intercept_scaling=1,\n",
       "                           loss='squared_hinge', max_iter=1000,\n",
       "                           multi_class='ovr', penalty='l2', random_state=None,\n",
       "                           tol=0.0001, verbose=0))],\n",
       "         verbose=False)"
      ]
     },
     "execution_count": 103,
     "metadata": {},
     "output_type": "execute_result"
    }
   ],
   "source": [
    "%%time\n",
    "from sklearn.svm import LinearSVC\n",
    "from sklearn.preprocessing import StandardScaler\n",
    "from sklearn.pipeline import Pipeline\n",
    "\n",
    "sc = StandardScaler()\n",
    "svm = LinearSVC(dual=False)\n",
    "pipeline = Pipeline(steps=[('sc',sc), ('svm',svm)])\n",
    "\n",
    "pipeline.fit(X_train, y_train)"
   ]
  },
  {
   "cell_type": "code",
   "execution_count": 104,
   "metadata": {},
   "outputs": [
    {
     "name": "stdout",
     "output_type": "stream",
     "text": [
      "0.7112017238521465\n",
      "0.7084095791232398\n"
     ]
    }
   ],
   "source": [
    "print(pipeline.score(X_train, y_train))\n",
    "print(pipeline.score(X_test, y_test))"
   ]
  },
  {
   "cell_type": "markdown",
   "metadata": {},
   "source": [
    "For linear svm, tune penalty type and C as hyper parameter."
   ]
  },
  {
   "cell_type": "code",
   "execution_count": 117,
   "metadata": {},
   "outputs": [],
   "source": [
    "sc = StandardScaler()\n",
    "svm = LinearSVC(dual=False)\n",
    "pipeline = Pipeline(steps=[('sc',sc), ('svm',svm)])\n",
    "\n",
    "params = {'svm__penalty':['l1', 'l2'],\n",
    "          'svm__C':[0.5, 1.0, 1.5, 2, 2.5]}\n",
    "\n",
    "grid = GridSearchCV(pipeline, params, cv=5)"
   ]
  },
  {
   "cell_type": "code",
   "execution_count": 118,
   "metadata": {},
   "outputs": [
    {
     "data": {
      "text/plain": [
       "GridSearchCV(cv=5, error_score=nan,\n",
       "             estimator=Pipeline(memory=None,\n",
       "                                steps=[('sc',\n",
       "                                        StandardScaler(copy=True,\n",
       "                                                       with_mean=True,\n",
       "                                                       with_std=True)),\n",
       "                                       ('svm',\n",
       "                                        LinearSVC(C=1.0, class_weight=None,\n",
       "                                                  dual=False,\n",
       "                                                  fit_intercept=True,\n",
       "                                                  intercept_scaling=1,\n",
       "                                                  loss='squared_hinge',\n",
       "                                                  max_iter=1000,\n",
       "                                                  multi_class='ovr',\n",
       "                                                  penalty='l2',\n",
       "                                                  random_state=None, tol=0.0001,\n",
       "                                                  verbose=0))],\n",
       "                                verbose=False),\n",
       "             iid='deprecated', n_jobs=None,\n",
       "             param_grid={'svm__C': [0.5, 1.0, 1.5, 2, 2.5],\n",
       "                         'svm__penalty': ['l1', 'l2']},\n",
       "             pre_dispatch='2*n_jobs', refit=True, return_train_score=False,\n",
       "             scoring=None, verbose=0)"
      ]
     },
     "execution_count": 118,
     "metadata": {},
     "output_type": "execute_result"
    }
   ],
   "source": [
    "grid.fit(X_train, y_train)"
   ]
  },
  {
   "cell_type": "code",
   "execution_count": 119,
   "metadata": {},
   "outputs": [
    {
     "name": "stdout",
     "output_type": "stream",
     "text": [
      "0.7110624896403116\n",
      "{'svm__C': 1.5, 'svm__penalty': 'l2'}\n",
      "   mean_fit_time  std_fit_time  mean_score_time  std_score_time param_svm__C  \\\n",
      "0       0.906194      0.042185         0.015180        0.001615          0.5   \n",
      "1       2.704715      0.101979         0.012772        0.001594          0.5   \n",
      "2       0.870995      0.035488         0.015184        0.001605            1   \n",
      "3       2.695820      0.091896         0.015130        0.001573            1   \n",
      "4       0.867428      0.031027         0.015979        0.002530          1.5   \n",
      "5       2.839286      0.133993         0.016136        0.000534          1.5   \n",
      "6       0.999652      0.043747         0.017418        0.002093            2   \n",
      "7       2.927466      0.197529         0.018664        0.002234            2   \n",
      "8       1.073243      0.052121         0.017252        0.002439          2.5   \n",
      "9       2.832811      0.159518         0.015962        0.002526          2.5   \n",
      "\n",
      "  param_svm__penalty                                 params  \\\n",
      "0                 l1  {'svm__C': 0.5, 'svm__penalty': 'l1'}   \n",
      "1                 l2  {'svm__C': 0.5, 'svm__penalty': 'l2'}   \n",
      "2                 l1  {'svm__C': 1.0, 'svm__penalty': 'l1'}   \n",
      "3                 l2  {'svm__C': 1.0, 'svm__penalty': 'l2'}   \n",
      "4                 l1  {'svm__C': 1.5, 'svm__penalty': 'l1'}   \n",
      "5                 l2  {'svm__C': 1.5, 'svm__penalty': 'l2'}   \n",
      "6                 l1    {'svm__C': 2, 'svm__penalty': 'l1'}   \n",
      "7                 l2    {'svm__C': 2, 'svm__penalty': 'l2'}   \n",
      "8                 l1  {'svm__C': 2.5, 'svm__penalty': 'l1'}   \n",
      "9                 l2  {'svm__C': 2.5, 'svm__penalty': 'l2'}   \n",
      "\n",
      "   split0_test_score  split1_test_score  split2_test_score  split3_test_score  \\\n",
      "0           0.712216           0.709862           0.712415           0.710459   \n",
      "1           0.711785           0.709465           0.712382           0.710327   \n",
      "2           0.712216           0.709862           0.712448           0.710426   \n",
      "3           0.712150           0.709730           0.712481           0.710360   \n",
      "4           0.712249           0.709862           0.712448           0.710492   \n",
      "5           0.712316           0.709995           0.712448           0.710393   \n",
      "6           0.712216           0.709862           0.712415           0.710492   \n",
      "7           0.712349           0.709929           0.712415           0.710360   \n",
      "8           0.712183           0.709862           0.712415           0.710492   \n",
      "9           0.712415           0.709862           0.712415           0.710360   \n",
      "\n",
      "   split4_test_score  mean_test_score  std_test_score  rank_test_score  \n",
      "0           0.710227         0.711036        0.001064                6  \n",
      "1           0.709763         0.710744        0.001144               10  \n",
      "2           0.710260         0.711043        0.001071                5  \n",
      "3           0.710094         0.710963        0.001127                9  \n",
      "4           0.710161         0.711043        0.001087                4  \n",
      "5           0.710161         0.711062        0.001085                1  \n",
      "6           0.710161         0.711029        0.001071                7  \n",
      "7           0.710227         0.711056        0.001092                3  \n",
      "8           0.710161         0.711023        0.001064                8  \n",
      "9           0.710260         0.711062        0.001117                1  \n"
     ]
    }
   ],
   "source": [
    "print(grid.best_score_)\n",
    "print(grid.best_params_)\n",
    "print(pd.DataFrame(grid.cv_results_))"
   ]
  },
  {
   "cell_type": "code",
   "execution_count": 120,
   "metadata": {},
   "outputs": [
    {
     "data": {
      "text/plain": [
       "Text(0, 0.5, 'F1 score')"
      ]
     },
     "execution_count": 120,
     "metadata": {},
     "output_type": "execute_result"
    },
    {
     "data": {
      "image/png": "[encoded data removed]",
      "text/plain": [
       "<Figure size 432x288 with 1 Axes>"
      ]
     },
     "metadata": {
      "needs_background": "light"
     },
     "output_type": "display_data"
    }
   ],
   "source": [
    "g_svm = pd.DataFrame(grid.cv_results_)\n",
    "g_svm_l1 = g_svm[g_svm.param_svm__penalty == 'l1']\n",
    "g_svm_l2 = g_svm[g_svm.param_svm__penalty == 'l2']\n",
    "plt.plot(g_svm_l1.param_svm__C, g_svm_l1.mean_test_score, marker='.', label='L1')\n",
    "plt.plot(g_svm_l2.param_svm__C, g_svm_l2.mean_test_score, marker='.', label='L2')\n",
    "plt.legend()\n",
    "plt.xlabel('C')\n",
    "plt.ylabel('F1 score')"
   ]
  },
  {
   "cell_type": "markdown",
   "metadata": {},
   "source": [
    "From the above graph, we can see for L1, F1 score decrease as C increase, while for L2, score increase with C until 1.5, then reach plateau. Best model is with L2 and C=1.5"
   ]
  },
  {
   "cell_type": "code",
   "execution_count": 529,
   "metadata": {},
   "outputs": [
    {
     "data": {
      "text/plain": [
       "Pipeline(memory=None,\n",
       "         steps=[('sc',\n",
       "                 StandardScaler(copy=True, with_mean=True, with_std=True)),\n",
       "                ('svm',\n",
       "                 LinearSVC(C=1.5, class_weight=None, dual=False,\n",
       "                           fit_intercept=True, intercept_scaling=1,\n",
       "                           loss='squared_hinge', max_iter=1000,\n",
       "                           multi_class='ovr', penalty='l2', random_state=None,\n",
       "                           tol=0.0001, verbose=0))],\n",
       "         verbose=False)"
      ]
     },
     "execution_count": 529,
     "metadata": {},
     "output_type": "execute_result"
    }
   ],
   "source": [
    "sc = StandardScaler()\n",
    "svm = LinearSVC(dual=False, penalty='l2', C=1.5)\n",
    "pipeline = Pipeline(steps=[('sc',sc), ('svm',svm)])\n",
    "\n",
    "pipeline.fit(X_train, y_train)"
   ]
  },
  {
   "cell_type": "code",
   "execution_count": 530,
   "metadata": {},
   "outputs": [],
   "source": [
    "store_result(pipeline, 'svm')"
   ]
  },
  {
   "cell_type": "code",
   "execution_count": 531,
   "metadata": {},
   "outputs": [
    {
     "name": "stdout",
     "output_type": "stream",
     "text": [
      "    train_score test_score\n",
      "svm    0.711182   0.708542\n",
      "\n",
      "\n",
      "cv result: [0.7123156  0.70999503 0.7124482  0.71039284 0.71016078]\n",
      "\n",
      "\n",
      "[[ 6487  8090]\n",
      " [ 2900 20230]]\n",
      "\n",
      "\n",
      "No roc auc score\n",
      "\n",
      "\n",
      "              precision    recall  f1-score   support\n",
      "\n",
      "       False       0.69      0.45      0.54     14577\n",
      "        True       0.71      0.87      0.79     23130\n",
      "\n",
      "    accuracy                           0.71     37707\n",
      "   macro avg       0.70      0.66      0.66     37707\n",
      "weighted avg       0.71      0.71      0.69     37707\n",
      "\n"
     ]
    }
   ],
   "source": [
    "show_result('svm')"
   ]
  },
  {
   "cell_type": "markdown",
   "metadata": {},
   "source": [
    "### KNN"
   ]
  },
  {
   "cell_type": "markdown",
   "metadata": {},
   "source": [
    "KNN model out of box test"
   ]
  },
  {
   "cell_type": "code",
   "execution_count": 126,
   "metadata": {},
   "outputs": [
    {
     "name": "stdout",
     "output_type": "stream",
     "text": [
      "0.7898093817337974\n",
      "0.6833213992096958\n",
      "Wall time: 34.1 s\n"
     ]
    }
   ],
   "source": [
    "%%time\n",
    "from sklearn.neighbors import KNeighborsClassifier\n",
    "\n",
    "knn = KNeighborsClassifier()\n",
    "knn.fit(X_train, y_train)\n",
    "print(knn.score(X_train, y_train))\n",
    "print(knn.score(X_test, y_test))"
   ]
  },
  {
   "cell_type": "code",
   "execution_count": 127,
   "metadata": {},
   "outputs": [
    {
     "name": "stdout",
     "output_type": "stream",
     "text": [
      "[[ 7295  7282]\n",
      " [ 4659 18471]]\n",
      "              precision    recall  f1-score   support\n",
      "\n",
      "       False       0.61      0.50      0.55     14577\n",
      "        True       0.72      0.80      0.76     23130\n",
      "\n",
      "    accuracy                           0.68     37707\n",
      "   macro avg       0.66      0.65      0.65     37707\n",
      "weighted avg       0.68      0.68      0.68     37707\n",
      "\n"
     ]
    }
   ],
   "source": [
    "y_pred = knn.predict(X_test)\n",
    "print(confusion_matrix(y_test, y_pred))\n",
    "print(classification_report(y_test, y_pred))"
   ]
  },
  {
   "cell_type": "markdown",
   "metadata": {},
   "source": [
    "Tune hyperparameter. First decide weights method and p for Minkowski metrics. Check 4 different n_neighbor for all method to see trend for different method combinations."
   ]
  },
  {
   "cell_type": "code",
   "execution_count": 183,
   "metadata": {},
   "outputs": [],
   "source": [
    "knn = KNeighborsClassifier()\n",
    "param = {'weights': ['uniform', 'distance'],\n",
    "         'p': [1, 2],\n",
    "        'n_neighbors': [5, 10, 20, 30]}\n",
    "grid = GridSearchCV(knn, param, cv=5)"
   ]
  },
  {
   "cell_type": "code",
   "execution_count": 184,
   "metadata": {},
   "outputs": [
    {
     "data": {
      "text/plain": [
       "GridSearchCV(cv=5, error_score=nan,\n",
       "             estimator=KNeighborsClassifier(algorithm='auto', leaf_size=30,\n",
       "                                            metric='minkowski',\n",
       "                                            metric_params=None, n_jobs=None,\n",
       "                                            n_neighbors=5, p=2,\n",
       "                                            weights='uniform'),\n",
       "             iid='deprecated', n_jobs=None,\n",
       "             param_grid={'n_neighbors': [5, 10, 20, 30], 'p': [1, 2],\n",
       "                         'weights': ['uniform', 'distance']},\n",
       "             pre_dispatch='2*n_jobs', refit=True, return_train_score=False,\n",
       "             scoring=None, verbose=0)"
      ]
     },
     "execution_count": 184,
     "metadata": {},
     "output_type": "execute_result"
    }
   ],
   "source": [
    "grid.fit(X_train, y_train)"
   ]
  },
  {
   "cell_type": "code",
   "execution_count": 185,
   "metadata": {},
   "outputs": [
    {
     "name": "stdout",
     "output_type": "stream",
     "text": [
      "0.7244886457815349\n",
      "{'n_neighbors': 20, 'p': 1, 'weights': 'distance'}\n",
      "    mean_fit_time  std_fit_time  mean_score_time  std_score_time  \\\n",
      "0        4.250551      0.451411         8.230730        0.492636   \n",
      "1        4.707176      0.158620         7.124519        0.376582   \n",
      "2        4.282468      0.160732         5.591814        0.394959   \n",
      "3        5.111440      0.874751         4.840391        0.523833   \n",
      "4        4.292342      0.458233         8.425185        0.391665   \n",
      "5        3.903028      0.252199         7.120109        0.249117   \n",
      "6        3.772365      0.225928         5.089383        0.149361   \n",
      "7        3.961488      0.296474         4.359578        0.177561   \n",
      "8        3.701560      0.089974         8.312427        0.106241   \n",
      "9        4.024520      0.334371         7.441489        0.046655   \n",
      "10       3.799886      0.240562         5.359943        0.147671   \n",
      "11       3.676228      0.026746         4.530368        0.014711   \n",
      "12       3.663730      0.086410         8.513197        0.104114   \n",
      "13       3.996577      0.415621         7.798472        0.039196   \n",
      "14       3.887026      0.414282         5.477807        0.076618   \n",
      "15       3.792694      0.131015         4.778113        0.030014   \n",
      "\n",
      "   param_n_neighbors param_p param_weights  \\\n",
      "0                  5       1       uniform   \n",
      "1                  5       1      distance   \n",
      "2                  5       2       uniform   \n",
      "3                  5       2      distance   \n",
      "4                 10       1       uniform   \n",
      "5                 10       1      distance   \n",
      "6                 10       2       uniform   \n",
      "7                 10       2      distance   \n",
      "8                 20       1       uniform   \n",
      "9                 20       1      distance   \n",
      "10                20       2       uniform   \n",
      "11                20       2      distance   \n",
      "12                30       1       uniform   \n",
      "13                30       1      distance   \n",
      "14                30       2       uniform   \n",
      "15                30       2      distance   \n",
      "\n",
      "                                               params  split0_test_score  \\\n",
      "0    {'n_neighbors': 5, 'p': 1, 'weights': 'uniform'}           0.691828   \n",
      "1   {'n_neighbors': 5, 'p': 1, 'weights': 'distance'}           0.710857   \n",
      "2    {'n_neighbors': 5, 'p': 2, 'weights': 'uniform'}           0.680126   \n",
      "3   {'n_neighbors': 5, 'p': 2, 'weights': 'distance'}           0.699718   \n",
      "4   {'n_neighbors': 10, 'p': 1, 'weights': 'uniform'}           0.697364   \n",
      "5   {'n_neighbors': 10, 'p': 1, 'weights': 'distan...           0.722394   \n",
      "6   {'n_neighbors': 10, 'p': 2, 'weights': 'uniform'}           0.679761   \n",
      "7   {'n_neighbors': 10, 'p': 2, 'weights': 'distan...           0.707409   \n",
      "8   {'n_neighbors': 20, 'p': 1, 'weights': 'uniform'}           0.707807   \n",
      "9   {'n_neighbors': 20, 'p': 1, 'weights': 'distan...           0.727863   \n",
      "10  {'n_neighbors': 20, 'p': 2, 'weights': 'uniform'}           0.690834   \n",
      "11  {'n_neighbors': 20, 'p': 2, 'weights': 'distan...           0.713376   \n",
      "12  {'n_neighbors': 30, 'p': 1, 'weights': 'uniform'}           0.708039   \n",
      "13  {'n_neighbors': 30, 'p': 1, 'weights': 'distan...           0.726537   \n",
      "14  {'n_neighbors': 30, 'p': 2, 'weights': 'uniform'}           0.693850   \n",
      "15  {'n_neighbors': 30, 'p': 2, 'weights': 'distan...           0.713343   \n",
      "\n",
      "    split1_test_score  split2_test_score  split3_test_score  \\\n",
      "0            0.692757           0.700978           0.699818   \n",
      "1            0.710094           0.718879           0.718714   \n",
      "2            0.676513           0.683574           0.682214   \n",
      "3            0.694580           0.701343           0.701740   \n",
      "4            0.694646           0.700116           0.700580   \n",
      "5            0.717752           0.725576           0.726405   \n",
      "6            0.678634           0.677739           0.681187   \n",
      "7            0.702801           0.708039           0.710161   \n",
      "8            0.702105           0.704625           0.706083   \n",
      "9            0.720106           0.725012           0.725079   \n",
      "10           0.685629           0.691663           0.688347   \n",
      "11           0.706083           0.713542           0.710393   \n",
      "12           0.701774           0.704194           0.705056   \n",
      "13           0.718449           0.723222           0.723587   \n",
      "14           0.686657           0.691000           0.688546   \n",
      "15           0.705851           0.711553           0.709332   \n",
      "\n",
      "    split4_test_score  mean_test_score  std_test_score  rank_test_score  \n",
      "0            0.695276         0.696131        0.003680               12  \n",
      "1            0.711818         0.714073        0.003896                4  \n",
      "2            0.679529         0.680391        0.002421               15  \n",
      "3            0.697166         0.698909        0.002697               10  \n",
      "4            0.698790         0.698299        0.002143               11  \n",
      "5            0.721465         0.722718        0.003101                2  \n",
      "6            0.676579         0.678780        0.001594               16  \n",
      "7            0.703597         0.706401        0.002781                7  \n",
      "8            0.702934         0.704711        0.002070                8  \n",
      "9            0.724383         0.724489        0.002499                1  \n",
      "10           0.684535         0.688202        0.002792               14  \n",
      "11           0.706183         0.709915        0.003286                5  \n",
      "12           0.703066         0.704426        0.002116                9  \n",
      "13           0.720769         0.722513        0.002735                3  \n",
      "14           0.686690         0.689349        0.002755               13  \n",
      "15           0.707078         0.709431        0.002763                6  \n"
     ]
    }
   ],
   "source": [
    "print(grid.best_score_)\n",
    "print(grid.best_params_)\n",
    "print(pd.DataFrame(grid.cv_results_))"
   ]
  },
  {
   "cell_type": "code",
   "execution_count": 164,
   "metadata": {},
   "outputs": [],
   "source": [
    "def plot_knn(df, p, w):\n",
    "    df_plot = df[np.logical_and(df.param_p == p, df.param_weights == w)]\n",
    "    plt.plot(df_plot.param_n_neighbors, df_plot.mean_test_score, label='p=%i '%p +  w)\n",
    "    plt.legend()"
   ]
  },
  {
   "cell_type": "code",
   "execution_count": 186,
   "metadata": {},
   "outputs": [
    {
     "data": {
      "image/png": "[encoded data removed]",
      "text/plain": [
       "<Figure size 432x288 with 1 Axes>"
      ]
     },
     "metadata": {
      "needs_background": "light"
     },
     "output_type": "display_data"
    }
   ],
   "source": [
    "k = pd.DataFrame(grid.cv_results_)\n",
    "plot_knn(k, 1, 'uniform')\n",
    "plot_knn(k, 1, 'distance')\n",
    "plot_knn(k, 2, 'uniform')\n",
    "plot_knn(k, 2, 'distance')"
   ]
  },
  {
   "cell_type": "markdown",
   "metadata": {},
   "source": [
    "From the above graph we can see all model reach plateau around 20, and p=1 with 'distance' shows the best performance with all n_neighbors value compared to other method. We further tune n_neighbors with thiis p and weights conditions."
   ]
  },
  {
   "cell_type": "code",
   "execution_count": 167,
   "metadata": {},
   "outputs": [],
   "source": [
    "knn = KNeighborsClassifier(weights='distance', p=1)\n",
    "param = {'n_neighbors': [8, 10, 12, 14, 16, 18, 20, 25]}\n",
    "grid = GridSearchCV(knn, param, cv=5)"
   ]
  },
  {
   "cell_type": "code",
   "execution_count": 168,
   "metadata": {},
   "outputs": [
    {
     "data": {
      "text/plain": [
       "GridSearchCV(cv=5, error_score=nan,\n",
       "             estimator=KNeighborsClassifier(algorithm='auto', leaf_size=30,\n",
       "                                            metric='minkowski',\n",
       "                                            metric_params=None, n_jobs=None,\n",
       "                                            n_neighbors=5, p=1,\n",
       "                                            weights='distance'),\n",
       "             iid='deprecated', n_jobs=None,\n",
       "             param_grid={'n_neighbors': [8, 10, 12, 14, 16, 18, 20, 25]},\n",
       "             pre_dispatch='2*n_jobs', refit=True, return_train_score=False,\n",
       "             scoring=None, verbose=0)"
      ]
     },
     "execution_count": 168,
     "metadata": {},
     "output_type": "execute_result"
    }
   ],
   "source": [
    "grid.fit(X_train, y_train)"
   ]
  },
  {
   "cell_type": "code",
   "execution_count": 169,
   "metadata": {},
   "outputs": [
    {
     "name": "stdout",
     "output_type": "stream",
     "text": [
      "0.7246146195922426\n",
      "{'n_neighbors': 18}\n",
      "   mean_fit_time  std_fit_time  mean_score_time  std_score_time  \\\n",
      "0       3.109236      0.212632         6.065904        0.170974   \n",
      "1       3.730201      0.587267         6.509259        0.330687   \n",
      "2       3.267503      0.487311         6.244955        0.125393   \n",
      "3       3.361986      0.390392         6.517942        0.184025   \n",
      "4       3.644425      0.663994         6.638824        0.246679   \n",
      "5       4.114562      0.640805         6.930648        0.288443   \n",
      "6       4.597619      0.211548         7.638436        0.465615   \n",
      "7       4.229068      0.451456         8.051037        0.540499   \n",
      "\n",
      "  param_n_neighbors               params  split0_test_score  \\\n",
      "0                 8   {'n_neighbors': 8}           0.720106   \n",
      "1                10  {'n_neighbors': 10}           0.722394   \n",
      "2                12  {'n_neighbors': 12}           0.724449   \n",
      "3                14  {'n_neighbors': 14}           0.725510   \n",
      "4                16  {'n_neighbors': 16}           0.725675   \n",
      "5                18  {'n_neighbors': 18}           0.728858   \n",
      "6                20  {'n_neighbors': 20}           0.727863   \n",
      "7                25  {'n_neighbors': 25}           0.727001   \n",
      "\n",
      "   split1_test_score  split2_test_score  split3_test_score  split4_test_score  \\\n",
      "0           0.717355           0.725410           0.724084           0.718150   \n",
      "1           0.717752           0.725576           0.726405           0.721465   \n",
      "2           0.720802           0.724780           0.725742           0.721067   \n",
      "3           0.719940           0.724151           0.725675           0.721101   \n",
      "4           0.720206           0.725808           0.725344           0.722692   \n",
      "5           0.719708           0.725244           0.725576           0.723686   \n",
      "6           0.720106           0.725012           0.725079           0.724383   \n",
      "7           0.721067           0.724316           0.724548           0.722592   \n",
      "\n",
      "   mean_test_score  std_test_score  rank_test_score  \n",
      "0         0.721021        0.003199                8  \n",
      "1         0.722718        0.003101                7  \n",
      "2         0.723368        0.002033                5  \n",
      "3         0.723275        0.002340                6  \n",
      "4         0.723945        0.002190                3  \n",
      "5         0.724615        0.002975                1  \n",
      "6         0.724489        0.002499                2  \n",
      "7         0.723905        0.001997                4  \n"
     ]
    }
   ],
   "source": [
    "print(grid.best_score_)\n",
    "print(grid.best_params_)\n",
    "print(pd.DataFrame(grid.cv_results_))"
   ]
  },
  {
   "cell_type": "code",
   "execution_count": 170,
   "metadata": {},
   "outputs": [
    {
     "data": {
      "text/plain": [
       "[<matplotlib.lines.Line2D at 0x19905144630>]"
      ]
     },
     "execution_count": 170,
     "metadata": {},
     "output_type": "execute_result"
    },
    {
     "data": {
      "image/png": "[encoded data removed]",
      "text/plain": [
       "<Figure size 432x288 with 1 Axes>"
      ]
     },
     "metadata": {
      "needs_background": "light"
     },
     "output_type": "display_data"
    }
   ],
   "source": [
    "nn = pd.DataFrame(grid.cv_results_)\n",
    "plt.plot(nn.param_n_neighbors, nn.mean_test_score)"
   ]
  },
  {
   "cell_type": "markdown",
   "metadata": {},
   "source": [
    "Number of neighors with 18 shows the highest score, with lower score on both side due to overfit(left) and underfit(right). Next step we tune leaf size with the curent best condition (n_neighbors=18, weights='distance', p=1)"
   ]
  },
  {
   "cell_type": "code",
   "execution_count": 175,
   "metadata": {},
   "outputs": [],
   "source": [
    "knn = KNeighborsClassifier(n_neighbors=18, weights='distance', p=1)\n",
    "param = {'leaf_size':[1, 3, 7, 10, 20, 30, 40]}\n",
    "grid = GridSearchCV(knn, param, cv=5)"
   ]
  },
  {
   "cell_type": "code",
   "execution_count": 176,
   "metadata": {},
   "outputs": [
    {
     "data": {
      "text/plain": [
       "GridSearchCV(cv=5, error_score=nan,\n",
       "             estimator=KNeighborsClassifier(algorithm='auto', leaf_size=30,\n",
       "                                            metric='minkowski',\n",
       "                                            metric_params=None, n_jobs=None,\n",
       "                                            n_neighbors=18, p=1,\n",
       "                                            weights='distance'),\n",
       "             iid='deprecated', n_jobs=None,\n",
       "             param_grid={'leaf_size': [1, 3, 7, 10, 20, 30, 40]},\n",
       "             pre_dispatch='2*n_jobs', refit=True, return_train_score=False,\n",
       "             scoring=None, verbose=0)"
      ]
     },
     "execution_count": 176,
     "metadata": {},
     "output_type": "execute_result"
    }
   ],
   "source": [
    "grid.fit(X_train, y_train)"
   ]
  },
  {
   "cell_type": "code",
   "execution_count": 177,
   "metadata": {},
   "outputs": [
    {
     "name": "stdout",
     "output_type": "stream",
     "text": [
      "0.7247803746063319\n",
      "{'leaf_size': 1}\n",
      "   mean_fit_time  std_fit_time  mean_score_time  std_score_time  \\\n",
      "0       4.286254      0.538248        12.493145        0.620271   \n",
      "1       4.343292      0.257434        10.729581        0.311232   \n",
      "2       4.239795      0.514144         8.771616        0.568240   \n",
      "3       4.042641      0.590638         7.954625        0.806806   \n",
      "4       3.507904      0.022703         6.737928        0.074274   \n",
      "5       3.808131      0.597837         6.957676        0.242621   \n",
      "6       3.322966      0.052157         6.824643        0.113258   \n",
      "\n",
      "  param_leaf_size             params  split0_test_score  split1_test_score  \\\n",
      "0               1   {'leaf_size': 1}           0.728792           0.720305   \n",
      "1               3   {'leaf_size': 3}           0.728526           0.720073   \n",
      "2               7   {'leaf_size': 7}           0.728294           0.720471   \n",
      "3              10  {'leaf_size': 10}           0.728725           0.720040   \n",
      "4              20  {'leaf_size': 20}           0.728493           0.720504   \n",
      "5              30  {'leaf_size': 30}           0.728858           0.719708   \n",
      "6              40  {'leaf_size': 40}           0.728858           0.719708   \n",
      "\n",
      "   split2_test_score  split3_test_score  split4_test_score  mean_test_score  \\\n",
      "0           0.725443           0.725443           0.723918         0.724780   \n",
      "1           0.725510           0.725742           0.723487         0.724668   \n",
      "2           0.725211           0.726140           0.723554         0.724734   \n",
      "3           0.725443           0.725941           0.723222         0.724674   \n",
      "4           0.724913           0.726239           0.723189         0.724668   \n",
      "5           0.725244           0.725576           0.723686         0.724615   \n",
      "6           0.725244           0.725576           0.723686         0.724615   \n",
      "\n",
      "   std_test_score  rank_test_score  \n",
      "0        0.002747                1  \n",
      "1        0.002802                4  \n",
      "2        0.002625                2  \n",
      "3        0.002905                3  \n",
      "4        0.002709                4  \n",
      "5        0.002975                6  \n",
      "6        0.002975                6  \n"
     ]
    }
   ],
   "source": [
    "print(grid.best_score_)\n",
    "print(grid.best_params_)\n",
    "print(pd.DataFrame(grid.cv_results_))"
   ]
  },
  {
   "cell_type": "code",
   "execution_count": 178,
   "metadata": {},
   "outputs": [
    {
     "data": {
      "text/plain": [
       "[<matplotlib.lines.Line2D at 0x1990433c588>]"
      ]
     },
     "execution_count": 178,
     "metadata": {},
     "output_type": "execute_result"
    },
    {
     "data": {
      "image/png": "[encoded data removed]",
      "text/plain": [
       "<Figure size 432x288 with 1 Axes>"
      ]
     },
     "metadata": {
      "needs_background": "light"
     },
     "output_type": "display_data"
    }
   ],
   "source": [
    "nn = pd.DataFrame(grid.cv_results_)\n",
    "plt.plot(nn.param_leaf_size, nn.mean_test_score)"
   ]
  },
  {
   "cell_type": "markdown",
   "metadata": {},
   "source": [
    "From the graph above we can see leaf size affect the score very little and leaf_size=1 shows slightly better result. With all optimized parameters, we perform model training on whole test set and store result in result dataframe"
   ]
  },
  {
   "cell_type": "code",
   "execution_count": 444,
   "metadata": {},
   "outputs": [
    {
     "name": "stdout",
     "output_type": "stream",
     "text": [
      "0.9998475053870379\n",
      "0.7299440422202774\n"
     ]
    }
   ],
   "source": [
    "knn = KNeighborsClassifier(n_neighbors=18, weights='distance', p=1, leaf_size=1)\n",
    "knn.fit(X_train, y_train)\n",
    "print(knn.score(X_train, y_train))\n",
    "print(knn.score(X_test, y_test))"
   ]
  },
  {
   "cell_type": "code",
   "execution_count": 516,
   "metadata": {},
   "outputs": [],
   "source": [
    "store_result(knn, 'knn')\n",
    "store_roc(knn, 'knn')"
   ]
  },
  {
   "cell_type": "code",
   "execution_count": 517,
   "metadata": {},
   "outputs": [
    {
     "name": "stdout",
     "output_type": "stream",
     "text": [
      "    train_score test_score\n",
      "knn    0.999848   0.729944\n",
      "\n",
      "\n",
      "cv result: [0.72879165 0.72030499 0.72544339 0.72544339 0.72391845]\n",
      "\n",
      "\n",
      "[[ 7003  7574]\n",
      " [ 2609 20521]]\n",
      "\n",
      "\n",
      "roc_auc_score: 0.8147\n",
      "\n",
      "\n",
      "              precision    recall  f1-score   support\n",
      "\n",
      "       False       0.73      0.48      0.58     14577\n",
      "        True       0.73      0.89      0.80     23130\n",
      "\n",
      "    accuracy                           0.73     37707\n",
      "   macro avg       0.73      0.68      0.69     37707\n",
      "weighted avg       0.73      0.73      0.72     37707\n",
      "\n"
     ]
    }
   ],
   "source": [
    "show_result('knn')"
   ]
  },
  {
   "cell_type": "code",
   "execution_count": 518,
   "metadata": {},
   "outputs": [
    {
     "data": {
      "text/html": [
       "<div>\n",
       "<style scoped>\n",
       "    .dataframe tbody tr th:only-of-type {\n",
       "        vertical-align: middle;\n",
       "    }\n",
       "\n",
       "    .dataframe tbody tr th {\n",
       "        vertical-align: top;\n",
       "    }\n",
       "\n",
       "    .dataframe thead th {\n",
       "        text-align: right;\n",
       "    }\n",
       "</style>\n",
       "<table border=\"1\" class=\"dataframe\">\n",
       "  <thead>\n",
       "    <tr style=\"text-align: right;\">\n",
       "      <th></th>\n",
       "      <th>train_score</th>\n",
       "      <th>test_score</th>\n",
       "      <th>cv</th>\n",
       "      <th>matrix</th>\n",
       "      <th>report</th>\n",
       "      <th>roc_auc</th>\n",
       "      <th>roc</th>\n",
       "    </tr>\n",
       "  </thead>\n",
       "  <tbody>\n",
       "    <tr>\n",
       "      <th>forest</th>\n",
       "      <td>0.999695</td>\n",
       "      <td>0.849922</td>\n",
       "      <td>[0.8442565887618101, 0.8446875517984419, 0.843...</td>\n",
       "      <td>[[11802, 2775], [2884, 20246]]</td>\n",
       "      <td>precision    recall  f1-score   ...</td>\n",
       "      <td>0.927698</td>\n",
       "      <td>([0.0, 6.860122110173561e-05, 6.86012211017356...</td>\n",
       "    </tr>\n",
       "    <tr>\n",
       "      <th>svm</th>\n",
       "      <td>0.715074</td>\n",
       "      <td>0.713183</td>\n",
       "      <td>[0.7151334327863418, 0.7127797115862755, 0.716...</td>\n",
       "      <td>[[6774, 7803], [3012, 20118]]</td>\n",
       "      <td>precision    recall  f1-score   ...</td>\n",
       "      <td>None</td>\n",
       "      <td>NaN</td>\n",
       "    </tr>\n",
       "    <tr>\n",
       "      <th>knn</th>\n",
       "      <td>0.999848</td>\n",
       "      <td>0.729944</td>\n",
       "      <td>[0.72879164594729, 0.7203049892259241, 0.72544...</td>\n",
       "      <td>[[7003, 7574], [2609, 20521]]</td>\n",
       "      <td>precision    recall  f1-score   ...</td>\n",
       "      <td>0.814745</td>\n",
       "      <td>([0.0, 0.003155656170679838, 0.003155656170679...</td>\n",
       "    </tr>\n",
       "    <tr>\n",
       "      <th>logistic</th>\n",
       "      <td>0.715074</td>\n",
       "      <td>0.713183</td>\n",
       "      <td>[0.7151334327863418, 0.7127797115862755, 0.716...</td>\n",
       "      <td>[[[6774, 7803], [3012, 20118]]]</td>\n",
       "      <td>precision    recall  f1-score   ...</td>\n",
       "      <td>0.764145</td>\n",
       "      <td>[([0.0, 0.0, 0.0, 0.0, 0.0, 6.860122110173561e...</td>\n",
       "    </tr>\n",
       "    <tr>\n",
       "      <th>gradient</th>\n",
       "      <td>0.997587</td>\n",
       "      <td>0.849763</td>\n",
       "      <td>[0.8472401790154153, 0.8436930217139068, 0.840...</td>\n",
       "      <td>[[[11616, 2961], [2704, 20426]]]</td>\n",
       "      <td>precision    recall  f1-score   ...</td>\n",
       "      <td>0.928533</td>\n",
       "      <td>[([0.0, 0.0, 0.0, 0.0, 0.0, 0.0, 0.0, 0.0, 0.0...</td>\n",
       "    </tr>\n",
       "    <tr>\n",
       "      <th>multinb</th>\n",
       "      <td>0.658591</td>\n",
       "      <td>0.657013</td>\n",
       "      <td>[0.6561909497762307, 0.6613293552129952, 0.659...</td>\n",
       "      <td>[[[3655, 10922], [2011, 21119]]]</td>\n",
       "      <td>precision    recall  f1-score   ...</td>\n",
       "      <td>0.583261</td>\n",
       "      <td>[([0.0, 0.7479591136722233, 0.7483021197777321...</td>\n",
       "    </tr>\n",
       "    <tr>\n",
       "      <th>gaussiannb</th>\n",
       "      <td>0.658571</td>\n",
       "      <td>0.657013</td>\n",
       "      <td>[0.6561909497762307, 0.661362506215813, 0.6599...</td>\n",
       "      <td>[[[3655, 10922], [2011, 21119]]]</td>\n",
       "      <td>precision    recall  f1-score   ...</td>\n",
       "      <td>0.583261</td>\n",
       "      <td>([0.0, 0.7479591136722233, 0.7483021197777321,...</td>\n",
       "    </tr>\n",
       "    <tr>\n",
       "      <th>complementnb</th>\n",
       "      <td>0.658571</td>\n",
       "      <td>0.657013</td>\n",
       "      <td>[0.6561909497762307, 0.661362506215813, 0.6599...</td>\n",
       "      <td>[[[3655, 10922], [2011, 21119]]]</td>\n",
       "      <td>precision    recall  f1-score   ...</td>\n",
       "      <td>0.583261</td>\n",
       "      <td>[([0.0, 0.7479591136722233, 0.7483021197777321...</td>\n",
       "    </tr>\n",
       "  </tbody>\n",
       "</table>\n",
       "</div>"
      ],
      "text/plain": [
       "             train_score test_score  \\\n",
       "forest          0.999695   0.849922   \n",
       "svm             0.715074   0.713183   \n",
       "knn             0.999848   0.729944   \n",
       "logistic        0.715074   0.713183   \n",
       "gradient        0.997587   0.849763   \n",
       "multinb         0.658591   0.657013   \n",
       "gaussiannb      0.658571   0.657013   \n",
       "complementnb    0.658571   0.657013   \n",
       "\n",
       "                                                             cv  \\\n",
       "forest        [0.8442565887618101, 0.8446875517984419, 0.843...   \n",
       "svm           [0.7151334327863418, 0.7127797115862755, 0.716...   \n",
       "knn           [0.72879164594729, 0.7203049892259241, 0.72544...   \n",
       "logistic      [0.7151334327863418, 0.7127797115862755, 0.716...   \n",
       "gradient      [0.8472401790154153, 0.8436930217139068, 0.840...   \n",
       "multinb       [0.6561909497762307, 0.6613293552129952, 0.659...   \n",
       "gaussiannb    [0.6561909497762307, 0.661362506215813, 0.6599...   \n",
       "complementnb  [0.6561909497762307, 0.661362506215813, 0.6599...   \n",
       "\n",
       "                                        matrix  \\\n",
       "forest          [[11802, 2775], [2884, 20246]]   \n",
       "svm              [[6774, 7803], [3012, 20118]]   \n",
       "knn              [[7003, 7574], [2609, 20521]]   \n",
       "logistic       [[[6774, 7803], [3012, 20118]]]   \n",
       "gradient      [[[11616, 2961], [2704, 20426]]]   \n",
       "multinb       [[[3655, 10922], [2011, 21119]]]   \n",
       "gaussiannb    [[[3655, 10922], [2011, 21119]]]   \n",
       "complementnb  [[[3655, 10922], [2011, 21119]]]   \n",
       "\n",
       "                                                         report   roc_auc  \\\n",
       "forest                      precision    recall  f1-score   ...  0.927698   \n",
       "svm                         precision    recall  f1-score   ...      None   \n",
       "knn                         precision    recall  f1-score   ...  0.814745   \n",
       "logistic                    precision    recall  f1-score   ...  0.764145   \n",
       "gradient                    precision    recall  f1-score   ...  0.928533   \n",
       "multinb                     precision    recall  f1-score   ...  0.583261   \n",
       "gaussiannb                  precision    recall  f1-score   ...  0.583261   \n",
       "complementnb                precision    recall  f1-score   ...  0.583261   \n",
       "\n",
       "                                                            roc  \n",
       "forest        ([0.0, 6.860122110173561e-05, 6.86012211017356...  \n",
       "svm                                                         NaN  \n",
       "knn           ([0.0, 0.003155656170679838, 0.003155656170679...  \n",
       "logistic      [([0.0, 0.0, 0.0, 0.0, 0.0, 6.860122110173561e...  \n",
       "gradient      [([0.0, 0.0, 0.0, 0.0, 0.0, 0.0, 0.0, 0.0, 0.0...  \n",
       "multinb       [([0.0, 0.7479591136722233, 0.7483021197777321...  \n",
       "gaussiannb    ([0.0, 0.7479591136722233, 0.7483021197777321,...  \n",
       "complementnb  [([0.0, 0.7479591136722233, 0.7483021197777321...  "
      ]
     },
     "execution_count": 518,
     "metadata": {},
     "output_type": "execute_result"
    }
   ],
   "source": [
    "result"
   ]
  },
  {
   "cell_type": "markdown",
   "metadata": {},
   "source": [
    "### Logistic Regression"
   ]
  },
  {
   "cell_type": "markdown",
   "metadata": {},
   "source": [
    "Out of box test for Logistic regression model. Perform standardscaler first for each parameter to have comparable values.From the below result it also shows with standardscaler gives better predicted result."
   ]
  },
  {
   "cell_type": "code",
   "execution_count": 187,
   "metadata": {},
   "outputs": [
    {
     "name": "stdout",
     "output_type": "stream",
     "text": [
      "0.7144438919277308\n",
      "0.7113002890709947\n"
     ]
    }
   ],
   "source": [
    "from sklearn.linear_model import LogisticRegression\n",
    "from sklearn.preprocessing import StandardScaler\n",
    "from sklearn.pipeline import Pipeline\n",
    "\n",
    "sc = StandardScaler()\n",
    "lr = LogisticRegression()\n",
    "\n",
    "pipeline = Pipeline(steps=[('sc', sc), ('lr', lr)])\n",
    "pipeline.fit(X_train, y_train)\n",
    "print(pipeline.score(X_train, y_train))\n",
    "print(pipeline.score(X_test, y_test))"
   ]
  },
  {
   "cell_type": "code",
   "execution_count": 188,
   "metadata": {},
   "outputs": [
    {
     "name": "stdout",
     "output_type": "stream",
     "text": [
      "0.6981335985413559\n",
      "0.698862280213223\n"
     ]
    }
   ],
   "source": [
    "lr = LogisticRegression()\n",
    "\n",
    "lr.fit(X_train, y_train)\n",
    "print(lr.score(X_train, y_train))\n",
    "print(lr.score(X_test, y_test))"
   ]
  },
  {
   "cell_type": "markdown",
   "metadata": {},
   "source": [
    "Tune hyperparameter for logistic regression model. Tune C values."
   ]
  },
  {
   "cell_type": "code",
   "execution_count": 206,
   "metadata": {},
   "outputs": [],
   "source": [
    "sc = StandardScaler()\n",
    "lr = LogisticRegression()\n",
    "\n",
    "pipeline = Pipeline(steps=[('sc', sc), ('lr', lr)])\n",
    "\n",
    "C = np.logspace(-4, 5, 10)\n",
    "params = {'lr__C': C}\n",
    "\n",
    "grid = GridSearchCV(pipeline, params, cv=5)"
   ]
  },
  {
   "cell_type": "code",
   "execution_count": 207,
   "metadata": {},
   "outputs": [
    {
     "data": {
      "text/plain": [
       "GridSearchCV(cv=5, error_score=nan,\n",
       "             estimator=Pipeline(memory=None,\n",
       "                                steps=[('sc',\n",
       "                                        StandardScaler(copy=True,\n",
       "                                                       with_mean=True,\n",
       "                                                       with_std=True)),\n",
       "                                       ('lr',\n",
       "                                        LogisticRegression(C=1.0,\n",
       "                                                           class_weight=None,\n",
       "                                                           dual=False,\n",
       "                                                           fit_intercept=True,\n",
       "                                                           intercept_scaling=1,\n",
       "                                                           l1_ratio=None,\n",
       "                                                           max_iter=100,\n",
       "                                                           multi_class='auto',\n",
       "                                                           n_jobs=None,\n",
       "                                                           penalty='l2',\n",
       "                                                           random_state=None,\n",
       "                                                           solver='lbfgs',\n",
       "                                                           tol=0.0001,\n",
       "                                                           verbose=0,\n",
       "                                                           warm_start=False))],\n",
       "                                verbose=False),\n",
       "             iid='deprecated', n_jobs=None,\n",
       "             param_grid={'lr__C': array([1.e-04, 1.e-03, 1.e-02, 1.e-01, 1.e+00, 1.e+01, 1.e+02, 1.e+03,\n",
       "       1.e+04, 1.e+05])},\n",
       "             pre_dispatch='2*n_jobs', refit=True, return_train_score=False,\n",
       "             scoring=None, verbose=0)"
      ]
     },
     "execution_count": 207,
     "metadata": {},
     "output_type": "execute_result"
    }
   ],
   "source": [
    "grid.fit(X_train, y_train)"
   ]
  },
  {
   "cell_type": "code",
   "execution_count": 208,
   "metadata": {},
   "outputs": [
    {
     "name": "stdout",
     "output_type": "stream",
     "text": [
      "0.7145963865406928\n",
      "{'lr__C': 10000.0}\n",
      "   mean_fit_time  std_fit_time  mean_score_time  std_score_time param_lr__C  \\\n",
      "0       0.370724      0.018255         0.017084        0.002428      0.0001   \n",
      "1       0.441751      0.015956         0.017903        0.002411       0.001   \n",
      "2       0.488313      0.013073         0.017650        0.001480        0.01   \n",
      "3       0.573755      0.083052         0.019410        0.002269         0.1   \n",
      "4       0.688897      0.030213         0.021413        0.002860           1   \n",
      "5       0.665181      0.028113         0.021224        0.002604          10   \n",
      "6       0.651240      0.032514         0.022329        0.003488         100   \n",
      "7       0.669111      0.031304         0.019357        0.000804        1000   \n",
      "8       0.680972      0.036917         0.019481        0.000855       10000   \n",
      "9       0.679946      0.038848         0.020474        0.003083      100000   \n",
      "\n",
      "                params  split0_test_score  split1_test_score  \\\n",
      "0    {'lr__C': 0.0001}           0.677540           0.678170   \n",
      "1     {'lr__C': 0.001}           0.686889           0.685828   \n",
      "2      {'lr__C': 0.01}           0.693917           0.692392   \n",
      "3       {'lr__C': 0.1}           0.706912           0.706216   \n",
      "4       {'lr__C': 1.0}           0.713708           0.712017   \n",
      "5      {'lr__C': 10.0}           0.715299           0.712747   \n",
      "6     {'lr__C': 100.0}           0.715034           0.712713   \n",
      "7    {'lr__C': 1000.0}           0.715133           0.712780   \n",
      "8   {'lr__C': 10000.0}           0.715133           0.712780   \n",
      "9  {'lr__C': 100000.0}           0.715133           0.712747   \n",
      "\n",
      "   split2_test_score  split3_test_score  split4_test_score  mean_test_score  \\\n",
      "0           0.677938           0.676546           0.677275         0.677494   \n",
      "1           0.686657           0.686358           0.685331         0.686212   \n",
      "2           0.694315           0.694414           0.692889         0.693585   \n",
      "3           0.708570           0.706813           0.704724         0.706647   \n",
      "4           0.714968           0.714371           0.713575         0.713728   \n",
      "5           0.716227           0.714106           0.713841         0.714444   \n",
      "6           0.716625           0.714338           0.714006         0.714543   \n",
      "7           0.716658           0.714338           0.714039         0.714590   \n",
      "8           0.716725           0.714305           0.714039         0.714596   \n",
      "9           0.716725           0.714305           0.714039         0.714590   \n",
      "\n",
      "   std_test_score  rank_test_score  \n",
      "0        0.000566               10  \n",
      "1        0.000566                9  \n",
      "2        0.000805                8  \n",
      "3        0.001239                7  \n",
      "4        0.000990                6  \n",
      "5        0.001206                5  \n",
      "6        0.001285                4  \n",
      "7        0.001282                2  \n",
      "8        0.001305                1  \n",
      "9        0.001314                3  \n"
     ]
    }
   ],
   "source": [
    "print(grid.best_score_)\n",
    "print(grid.best_params_)\n",
    "print(pd.DataFrame(grid.cv_results_))"
   ]
  },
  {
   "cell_type": "code",
   "execution_count": 209,
   "metadata": {},
   "outputs": [
    {
     "data": {
      "image/png": "[encoded data removed]",
      "text/plain": [
       "<Figure size 432x288 with 1 Axes>"
      ]
     },
     "metadata": {
      "needs_background": "light"
     },
     "output_type": "display_data"
    }
   ],
   "source": [
    "l = pd.DataFrame(grid.cv_results_)\n",
    "plt.plot(l.param_lr__C, l.mean_test_score)\n",
    "plt.xscale('log')"
   ]
  },
  {
   "cell_type": "markdown",
   "metadata": {},
   "source": [
    "Score reach plateau when C = 10000, we choose this value as our parameter."
   ]
  },
  {
   "cell_type": "code",
   "execution_count": 532,
   "metadata": {},
   "outputs": [
    {
     "data": {
      "text/plain": [
       "Pipeline(memory=None,\n",
       "         steps=[('sc',\n",
       "                 StandardScaler(copy=True, with_mean=True, with_std=True)),\n",
       "                ('lr',\n",
       "                 LogisticRegression(C=10000, class_weight=None, dual=False,\n",
       "                                    fit_intercept=True, intercept_scaling=1,\n",
       "                                    l1_ratio=None, max_iter=100,\n",
       "                                    multi_class='auto', n_jobs=None,\n",
       "                                    penalty='l2', random_state=None,\n",
       "                                    solver='lbfgs', tol=0.0001, verbose=0,\n",
       "                                    warm_start=False))],\n",
       "         verbose=False)"
      ]
     },
     "execution_count": 532,
     "metadata": {},
     "output_type": "execute_result"
    }
   ],
   "source": [
    "sc = StandardScaler()\n",
    "lr = LogisticRegression(C=10000)\n",
    "pipeline = Pipeline(steps=[('sc', sc), ('lr', lr)])\n",
    "pipeline.fit(X_train, y_train)"
   ]
  },
  {
   "cell_type": "code",
   "execution_count": 533,
   "metadata": {},
   "outputs": [],
   "source": [
    "store_result(pipeline, 'logistic')\n",
    "store_roc(pipeline, 'logistic')"
   ]
  },
  {
   "cell_type": "code",
   "execution_count": 534,
   "metadata": {},
   "outputs": [
    {
     "name": "stdout",
     "output_type": "stream",
     "text": [
      "         train_score test_score\n",
      "logistic    0.715074   0.713183\n",
      "\n",
      "\n",
      "cv result: [0.71513343 0.71277971 0.71672468 0.71430466 0.71403945]\n",
      "\n",
      "\n",
      "[[ 6774  7803]\n",
      " [ 3012 20118]]\n",
      "\n",
      "\n",
      "roc_auc_score: 0.7641\n",
      "\n",
      "\n",
      "              precision    recall  f1-score   support\n",
      "\n",
      "       False       0.69      0.46      0.56     14577\n",
      "        True       0.72      0.87      0.79     23130\n",
      "\n",
      "    accuracy                           0.71     37707\n",
      "   macro avg       0.71      0.67      0.67     37707\n",
      "weighted avg       0.71      0.71      0.70     37707\n",
      "\n"
     ]
    }
   ],
   "source": [
    "show_result('logistic')"
   ]
  },
  {
   "cell_type": "code",
   "execution_count": 200,
   "metadata": {},
   "outputs": [
    {
     "data": {
      "image/png": "[encoded data removed]",
      "text/plain": [
       "<Figure size 864x1080 with 2 Axes>"
      ]
     },
     "metadata": {
      "needs_background": "light"
     },
     "output_type": "display_data"
    }
   ],
   "source": [
    "fig, (ax1, ax2) = plt.subplots(2, figsize=(12,15))\n",
    "ax1.bar(features, lr.coef_[0], color=color)\n",
    "for tick in ax1.get_xticklabels():\n",
    "    tick.set_rotation(90)\n",
    "    \n",
    "ax2.bar(features, np.abs(lr.coef_[0]), color=color, log=True)\n",
    "for tick in ax2.get_xticklabels():\n",
    "    tick.set_rotation(90)"
   ]
  },
  {
   "cell_type": "markdown",
   "metadata": {},
   "source": [
    "Check parameter on each features. Take abs and log for comparison as usd_goal is too large for other feature to be visible."
   ]
  },
  {
   "cell_type": "code",
   "execution_count": 528,
   "metadata": {},
   "outputs": [
    {
     "data": {
      "text/html": [
       "<div>\n",
       "<style scoped>\n",
       "    .dataframe tbody tr th:only-of-type {\n",
       "        vertical-align: middle;\n",
       "    }\n",
       "\n",
       "    .dataframe tbody tr th {\n",
       "        vertical-align: top;\n",
       "    }\n",
       "\n",
       "    .dataframe thead th {\n",
       "        text-align: right;\n",
       "    }\n",
       "</style>\n",
       "<table border=\"1\" class=\"dataframe\">\n",
       "  <thead>\n",
       "    <tr style=\"text-align: right;\">\n",
       "      <th></th>\n",
       "      <th>train_score</th>\n",
       "      <th>test_score</th>\n",
       "      <th>cv</th>\n",
       "      <th>matrix</th>\n",
       "      <th>report</th>\n",
       "      <th>roc_auc</th>\n",
       "      <th>roc</th>\n",
       "    </tr>\n",
       "  </thead>\n",
       "  <tbody>\n",
       "    <tr>\n",
       "      <th>forest</th>\n",
       "      <td>0.999695</td>\n",
       "      <td>0.849922</td>\n",
       "      <td>[0.8442565887618101, 0.8446875517984419, 0.843...</td>\n",
       "      <td>[[11802, 2775], [2884, 20246]]</td>\n",
       "      <td>precision    recall  f1-score   ...</td>\n",
       "      <td>0.927698</td>\n",
       "      <td>([0.0, 6.860122110173561e-05, 6.86012211017356...</td>\n",
       "    </tr>\n",
       "    <tr>\n",
       "      <th>svm</th>\n",
       "      <td>0.715074</td>\n",
       "      <td>0.713183</td>\n",
       "      <td>[0.7151334327863418, 0.7127797115862755, 0.716...</td>\n",
       "      <td>[[6774, 7803], [3012, 20118]]</td>\n",
       "      <td>precision    recall  f1-score   ...</td>\n",
       "      <td>None</td>\n",
       "      <td>NaN</td>\n",
       "    </tr>\n",
       "    <tr>\n",
       "      <th>knn</th>\n",
       "      <td>0.999848</td>\n",
       "      <td>0.729944</td>\n",
       "      <td>[0.72879164594729, 0.7203049892259241, 0.72544...</td>\n",
       "      <td>[[7003, 7574], [2609, 20521]]</td>\n",
       "      <td>precision    recall  f1-score   ...</td>\n",
       "      <td>0.814745</td>\n",
       "      <td>([0.0, 0.003155656170679838, 0.003155656170679...</td>\n",
       "    </tr>\n",
       "    <tr>\n",
       "      <th>logistic</th>\n",
       "      <td>0.715074</td>\n",
       "      <td>0.713183</td>\n",
       "      <td>[0.7151334327863418, 0.7127797115862755, 0.716...</td>\n",
       "      <td>[[6774, 7803], [3012, 20118]]</td>\n",
       "      <td>precision    recall  f1-score   ...</td>\n",
       "      <td>0.764145</td>\n",
       "      <td>([0.0, 0.0, 0.0, 0.0, 0.0, 6.860122110173561e-...</td>\n",
       "    </tr>\n",
       "    <tr>\n",
       "      <th>gradient</th>\n",
       "      <td>0.997587</td>\n",
       "      <td>0.849763</td>\n",
       "      <td>[0.8472401790154153, 0.8436930217139068, 0.840...</td>\n",
       "      <td>[[[11616, 2961], [2704, 20426]]]</td>\n",
       "      <td>precision    recall  f1-score   ...</td>\n",
       "      <td>0.928533</td>\n",
       "      <td>[([0.0, 0.0, 0.0, 0.0, 0.0, 0.0, 0.0, 0.0, 0.0...</td>\n",
       "    </tr>\n",
       "    <tr>\n",
       "      <th>multinb</th>\n",
       "      <td>0.658591</td>\n",
       "      <td>0.657013</td>\n",
       "      <td>[0.6561909497762307, 0.6613293552129952, 0.659...</td>\n",
       "      <td>[[[3655, 10922], [2011, 21119]]]</td>\n",
       "      <td>precision    recall  f1-score   ...</td>\n",
       "      <td>0.583261</td>\n",
       "      <td>[([0.0, 0.7479591136722233, 0.7483021197777321...</td>\n",
       "    </tr>\n",
       "    <tr>\n",
       "      <th>gaussiannb</th>\n",
       "      <td>0.658571</td>\n",
       "      <td>0.657013</td>\n",
       "      <td>[0.6561909497762307, 0.661362506215813, 0.6599...</td>\n",
       "      <td>[[[3655, 10922], [2011, 21119]]]</td>\n",
       "      <td>precision    recall  f1-score   ...</td>\n",
       "      <td>0.583261</td>\n",
       "      <td>([0.0, 0.7479591136722233, 0.7483021197777321,...</td>\n",
       "    </tr>\n",
       "    <tr>\n",
       "      <th>complementnb</th>\n",
       "      <td>0.658571</td>\n",
       "      <td>0.657013</td>\n",
       "      <td>[0.6561909497762307, 0.661362506215813, 0.6599...</td>\n",
       "      <td>[[3655, 10922], [2011, 21119]]</td>\n",
       "      <td>precision    recall  f1-score   ...</td>\n",
       "      <td>0.583261</td>\n",
       "      <td>([0.0, 0.7479591136722233, 0.7483021197777321,...</td>\n",
       "    </tr>\n",
       "  </tbody>\n",
       "</table>\n",
       "</div>"
      ],
      "text/plain": [
       "             train_score test_score  \\\n",
       "forest          0.999695   0.849922   \n",
       "svm             0.715074   0.713183   \n",
       "knn             0.999848   0.729944   \n",
       "logistic        0.715074   0.713183   \n",
       "gradient        0.997587   0.849763   \n",
       "multinb         0.658591   0.657013   \n",
       "gaussiannb      0.658571   0.657013   \n",
       "complementnb    0.658571   0.657013   \n",
       "\n",
       "                                                             cv  \\\n",
       "forest        [0.8442565887618101, 0.8446875517984419, 0.843...   \n",
       "svm           [0.7151334327863418, 0.7127797115862755, 0.716...   \n",
       "knn           [0.72879164594729, 0.7203049892259241, 0.72544...   \n",
       "logistic      [0.7151334327863418, 0.7127797115862755, 0.716...   \n",
       "gradient      [0.8472401790154153, 0.8436930217139068, 0.840...   \n",
       "multinb       [0.6561909497762307, 0.6613293552129952, 0.659...   \n",
       "gaussiannb    [0.6561909497762307, 0.661362506215813, 0.6599...   \n",
       "complementnb  [0.6561909497762307, 0.661362506215813, 0.6599...   \n",
       "\n",
       "                                        matrix  \\\n",
       "forest          [[11802, 2775], [2884, 20246]]   \n",
       "svm              [[6774, 7803], [3012, 20118]]   \n",
       "knn              [[7003, 7574], [2609, 20521]]   \n",
       "logistic         [[6774, 7803], [3012, 20118]]   \n",
       "gradient      [[[11616, 2961], [2704, 20426]]]   \n",
       "multinb       [[[3655, 10922], [2011, 21119]]]   \n",
       "gaussiannb    [[[3655, 10922], [2011, 21119]]]   \n",
       "complementnb    [[3655, 10922], [2011, 21119]]   \n",
       "\n",
       "                                                         report   roc_auc  \\\n",
       "forest                      precision    recall  f1-score   ...  0.927698   \n",
       "svm                         precision    recall  f1-score   ...      None   \n",
       "knn                         precision    recall  f1-score   ...  0.814745   \n",
       "logistic                    precision    recall  f1-score   ...  0.764145   \n",
       "gradient                    precision    recall  f1-score   ...  0.928533   \n",
       "multinb                     precision    recall  f1-score   ...  0.583261   \n",
       "gaussiannb                  precision    recall  f1-score   ...  0.583261   \n",
       "complementnb                precision    recall  f1-score   ...  0.583261   \n",
       "\n",
       "                                                            roc  \n",
       "forest        ([0.0, 6.860122110173561e-05, 6.86012211017356...  \n",
       "svm                                                         NaN  \n",
       "knn           ([0.0, 0.003155656170679838, 0.003155656170679...  \n",
       "logistic      ([0.0, 0.0, 0.0, 0.0, 0.0, 6.860122110173561e-...  \n",
       "gradient      [([0.0, 0.0, 0.0, 0.0, 0.0, 0.0, 0.0, 0.0, 0.0...  \n",
       "multinb       [([0.0, 0.7479591136722233, 0.7483021197777321...  \n",
       "gaussiannb    ([0.0, 0.7479591136722233, 0.7483021197777321,...  \n",
       "complementnb  ([0.0, 0.7479591136722233, 0.7483021197777321,...  "
      ]
     },
     "execution_count": 528,
     "metadata": {},
     "output_type": "execute_result"
    }
   ],
   "source": [
    "result"
   ]
  },
  {
   "cell_type": "markdown",
   "metadata": {},
   "source": [
    "### Gradient Boost"
   ]
  },
  {
   "cell_type": "markdown",
   "metadata": {},
   "source": [
    "Out of box gradoemt boost test"
   ]
  },
  {
   "cell_type": "code",
   "execution_count": 202,
   "metadata": {},
   "outputs": [
    {
     "name": "stdout",
     "output_type": "stream",
     "text": [
      "0.7746991546494282\n",
      "0.7733577319861034\n",
      "Wall time: 1min 7s\n"
     ]
    }
   ],
   "source": [
    "%%time\n",
    "from sklearn.ensemble import GradientBoostingClassifier\n",
    "\n",
    "gb = GradientBoostingClassifier()\n",
    "\n",
    "gb.fit(X_train, y_train)\n",
    "print(gb.score(X_train, y_train))\n",
    "print(gb.score(X_test, y_test))"
   ]
  },
  {
   "cell_type": "markdown",
   "metadata": {},
   "source": [
    "For gradient boosting, n_estimators should only improve test score with increased value but cost more computational power and effect will saturated, similar to random forest. We first test n_estimators with 50, 100 and 150"
   ]
  },
  {
   "cell_type": "code",
   "execution_count": 213,
   "metadata": {},
   "outputs": [],
   "source": [
    "gb = GradientBoostingClassifier()\n",
    "\n",
    "params = {'n_estimators': [50, 100, 150]}\n",
    "\n",
    "grid = GridSearchCV(gb, params, cv=5)"
   ]
  },
  {
   "cell_type": "code",
   "execution_count": 214,
   "metadata": {},
   "outputs": [
    {
     "name": "stdout",
     "output_type": "stream",
     "text": [
      "Wall time: 15min 37s\n"
     ]
    },
    {
     "data": {
      "text/plain": [
       "GridSearchCV(cv=5, error_score=nan,\n",
       "             estimator=GradientBoostingClassifier(ccp_alpha=0.0,\n",
       "                                                  criterion='friedman_mse',\n",
       "                                                  init=None, learning_rate=0.1,\n",
       "                                                  loss='deviance', max_depth=3,\n",
       "                                                  max_features=None,\n",
       "                                                  max_leaf_nodes=None,\n",
       "                                                  min_impurity_decrease=0.0,\n",
       "                                                  min_impurity_split=None,\n",
       "                                                  min_samples_leaf=1,\n",
       "                                                  min_samples_split=2,\n",
       "                                                  min_weight_fraction_leaf=0.0,\n",
       "                                                  n_estimators=100,\n",
       "                                                  n_iter_no_change=None,\n",
       "                                                  presort='deprecated',\n",
       "                                                  random_state=None,\n",
       "                                                  subsample=1.0, tol=0.0001,\n",
       "                                                  validation_fraction=0.1,\n",
       "                                                  verbose=0, warm_start=False),\n",
       "             iid='deprecated', n_jobs=None,\n",
       "             param_grid={'n_estimators': [50, 100, 150]},\n",
       "             pre_dispatch='2*n_jobs', refit=True, return_train_score=False,\n",
       "             scoring=None, verbose=0)"
      ]
     },
     "execution_count": 214,
     "metadata": {},
     "output_type": "execute_result"
    }
   ],
   "source": [
    "%%time\n",
    "grid.fit(X_train, y_train)"
   ]
  },
  {
   "cell_type": "code",
   "execution_count": 215,
   "metadata": {},
   "outputs": [
    {
     "name": "stdout",
     "output_type": "stream",
     "text": [
      "0.7796585446709763\n",
      "{'n_estimators': 150}\n",
      "   mean_fit_time  std_fit_time  mean_score_time  std_score_time  \\\n",
      "0      27.803636      1.870888         0.074851        0.011148   \n",
      "1      60.537460      2.560983         0.112148        0.011649   \n",
      "2      79.470348      3.607986         0.148223        0.028976   \n",
      "\n",
      "  param_n_estimators                 params  split0_test_score  \\\n",
      "0                 50   {'n_estimators': 50}           0.754318   \n",
      "1                100  {'n_estimators': 100}           0.774076   \n",
      "2                150  {'n_estimators': 150}           0.780441   \n",
      "\n",
      "   split1_test_score  split2_test_score  split3_test_score  split4_test_score  \\\n",
      "0           0.754417           0.751069           0.752826           0.753887   \n",
      "1           0.771788           0.769965           0.771954           0.770131   \n",
      "2           0.783657           0.777921           0.780607           0.775667   \n",
      "\n",
      "   mean_test_score  std_test_score  rank_test_score  \n",
      "0         0.753303        0.001251                3  \n",
      "1         0.771583        0.001491                2  \n",
      "2         0.779659        0.002700                1  \n"
     ]
    }
   ],
   "source": [
    "print(grid.best_score_)\n",
    "print(grid.best_params_)\n",
    "print(pd.DataFrame(grid.cv_results_))"
   ]
  },
  {
   "cell_type": "code",
   "execution_count": 219,
   "metadata": {},
   "outputs": [
    {
     "data": {
      "text/plain": [
       "[<matplotlib.lines.Line2D at 0x19907194710>]"
      ]
     },
     "execution_count": 219,
     "metadata": {},
     "output_type": "execute_result"
    },
    {
     "data": {
      "image/png": "[encoded data removed]",
      "text/plain": [
       "<Figure size 432x288 with 1 Axes>"
      ]
     },
     "metadata": {
      "needs_background": "light"
     },
     "output_type": "display_data"
    }
   ],
   "source": [
    "g = pd.DataFrame(grid.cv_results_)\n",
    "plt.plot(g.param_n_estimators, g.mean_test_score, marker='.')"
   ]
  },
  {
   "cell_type": "markdown",
   "metadata": {},
   "source": [
    "Score increased with more estimators as we expected but score didn't improve that much.We will use n_estimators=50 for hyper parameter tuning and set to 100 for final test."
   ]
  },
  {
   "cell_type": "markdown",
   "metadata": {},
   "source": [
    "Next we test max_features, learning rate and max_depth"
   ]
  },
  {
   "cell_type": "code",
   "execution_count": 220,
   "metadata": {},
   "outputs": [],
   "source": [
    "gb = GradientBoostingClassifier(n_estimators=50)\n",
    "\n",
    "params = {'max_features': [7, 15, 20],\n",
    "         'learning_rate': [0.05, 0.1, 0.15],\n",
    "         'max_depth': [3, 5, 8]}\n",
    "\n",
    "grid = GridSearchCV(gb, params, cv=3)"
   ]
  },
  {
   "cell_type": "code",
   "execution_count": 221,
   "metadata": {},
   "outputs": [
    {
     "name": "stdout",
     "output_type": "stream",
     "text": [
      "Wall time: 15min 14s\n"
     ]
    },
    {
     "data": {
      "text/plain": [
       "GridSearchCV(cv=3, error_score=nan,\n",
       "             estimator=GradientBoostingClassifier(ccp_alpha=0.0,\n",
       "                                                  criterion='friedman_mse',\n",
       "                                                  init=None, learning_rate=0.1,\n",
       "                                                  loss='deviance', max_depth=3,\n",
       "                                                  max_features=None,\n",
       "                                                  max_leaf_nodes=None,\n",
       "                                                  min_impurity_decrease=0.0,\n",
       "                                                  min_impurity_split=None,\n",
       "                                                  min_samples_leaf=1,\n",
       "                                                  min_samples_split=2,\n",
       "                                                  min_weight_fraction_leaf=0.0,\n",
       "                                                  n_estimators=50,\n",
       "                                                  n_iter_no_change=None,\n",
       "                                                  presort='deprecated',\n",
       "                                                  random_state=None,\n",
       "                                                  subsample=1.0, tol=0.0001,\n",
       "                                                  validation_fraction=0.1,\n",
       "                                                  verbose=0, warm_start=False),\n",
       "             iid='deprecated', n_jobs=None,\n",
       "             param_grid={'learning_rate': [0.05, 0.1, 0.15],\n",
       "                         'max_depth': [3, 5, 8], 'max_features': [7, 15, 20]},\n",
       "             pre_dispatch='2*n_jobs', refit=True, return_train_score=False,\n",
       "             scoring=None, verbose=0)"
      ]
     },
     "execution_count": 221,
     "metadata": {},
     "output_type": "execute_result"
    }
   ],
   "source": [
    "%%time\n",
    "grid.fit(X_train, y_train)"
   ]
  },
  {
   "cell_type": "code",
   "execution_count": 222,
   "metadata": {},
   "outputs": [
    {
     "name": "stdout",
     "output_type": "stream",
     "text": [
      "0.8246643460964694\n",
      "{'learning_rate': 0.15, 'max_depth': 8, 'max_features': 20}\n",
      "    mean_fit_time  std_fit_time  mean_score_time  std_score_time  \\\n",
      "0        3.600215      0.095518         0.082634        0.007955   \n",
      "1        8.065157      0.147332         0.115930        0.014721   \n",
      "2       10.090379      0.037574         0.097512        0.006258   \n",
      "3        7.350263      0.110723         0.145105        0.007327   \n",
      "4       12.026116      0.484838         0.173213        0.026385   \n",
      "5       14.082993      0.064952         0.162309        0.016763   \n",
      "6       11.170562      0.120141         0.247589        0.005467   \n",
      "7       16.758839      0.088624         0.247159        0.015348   \n",
      "8       20.239560      0.206503         0.244696        0.006846   \n",
      "9        4.548067      0.038303         0.109080        0.004053   \n",
      "10       8.115643      0.126076         0.106079        0.013277   \n",
      "11       9.420540      0.480624         0.094260        0.002551   \n",
      "12       6.519336      0.473854         0.172877        0.031954   \n",
      "13      10.549567      0.255406         0.141289        0.008783   \n",
      "14      12.809662      0.236389         0.131981        0.001695   \n",
      "15       9.816682      0.050230         0.242362        0.003268   \n",
      "16      15.183248      0.134558         0.223435        0.001411   \n",
      "17      18.111006      0.056294         0.216437        0.004530   \n",
      "18       3.952712      0.107474         0.098589        0.006867   \n",
      "19       6.727640      0.064003         0.096409        0.005171   \n",
      "20       9.099413      0.308580         0.110040        0.023830   \n",
      "21       6.099959      0.161985         0.143618        0.004533   \n",
      "22      10.275667      0.044827         0.137642        0.004305   \n",
      "23      12.728748      0.355473         0.132647        0.002155   \n",
      "24       9.894096      0.059451         0.244689        0.004639   \n",
      "25      15.116641      0.089206         0.228732        0.007397   \n",
      "26      18.192773      0.150040         0.223746        0.006940   \n",
      "\n",
      "   param_learning_rate param_max_depth param_max_features  \\\n",
      "0                 0.05               3                  7   \n",
      "1                 0.05               3                 15   \n",
      "2                 0.05               3                 20   \n",
      "3                 0.05               5                  7   \n",
      "4                 0.05               5                 15   \n",
      "5                 0.05               5                 20   \n",
      "6                 0.05               8                  7   \n",
      "7                 0.05               8                 15   \n",
      "8                 0.05               8                 20   \n",
      "9                  0.1               3                  7   \n",
      "10                 0.1               3                 15   \n",
      "11                 0.1               3                 20   \n",
      "12                 0.1               5                  7   \n",
      "13                 0.1               5                 15   \n",
      "14                 0.1               5                 20   \n",
      "15                 0.1               8                  7   \n",
      "16                 0.1               8                 15   \n",
      "17                 0.1               8                 20   \n",
      "18                0.15               3                  7   \n",
      "19                0.15               3                 15   \n",
      "20                0.15               3                 20   \n",
      "21                0.15               5                  7   \n",
      "22                0.15               5                 15   \n",
      "23                0.15               5                 20   \n",
      "24                0.15               8                  7   \n",
      "25                0.15               8                 15   \n",
      "26                0.15               8                 20   \n",
      "\n",
      "                                               params  split0_test_score  \\\n",
      "0   {'learning_rate': 0.05, 'max_depth': 3, 'max_f...           0.708105   \n",
      "1   {'learning_rate': 0.05, 'max_depth': 3, 'max_f...           0.730104   \n",
      "2   {'learning_rate': 0.05, 'max_depth': 3, 'max_f...           0.728294   \n",
      "3   {'learning_rate': 0.05, 'max_depth': 5, 'max_f...           0.747091   \n",
      "4   {'learning_rate': 0.05, 'max_depth': 5, 'max_f...           0.757315   \n",
      "5   {'learning_rate': 0.05, 'max_depth': 5, 'max_f...           0.758508   \n",
      "6   {'learning_rate': 0.05, 'max_depth': 8, 'max_f...           0.783889   \n",
      "7   {'learning_rate': 0.05, 'max_depth': 8, 'max_f...           0.797275   \n",
      "8   {'learning_rate': 0.05, 'max_depth': 8, 'max_f...           0.798110   \n",
      "9   {'learning_rate': 0.1, 'max_depth': 3, 'max_fe...           0.743729   \n",
      "10  {'learning_rate': 0.1, 'max_depth': 3, 'max_fe...           0.751029   \n",
      "11  {'learning_rate': 0.1, 'max_depth': 3, 'max_fe...           0.752760   \n",
      "12  {'learning_rate': 0.1, 'max_depth': 5, 'max_fe...           0.767200   \n",
      "13  {'learning_rate': 0.1, 'max_depth': 5, 'max_fe...           0.777822   \n",
      "14  {'learning_rate': 0.1, 'max_depth': 5, 'max_fe...           0.783352   \n",
      "15  {'learning_rate': 0.1, 'max_depth': 8, 'max_fe...           0.804376   \n",
      "16  {'learning_rate': 0.1, 'max_depth': 8, 'max_fe...           0.809647   \n",
      "17  {'learning_rate': 0.1, 'max_depth': 8, 'max_fe...           0.817424   \n",
      "18  {'learning_rate': 0.15, 'max_depth': 3, 'max_f...           0.753754   \n",
      "19  {'learning_rate': 0.15, 'max_depth': 3, 'max_f...           0.758647   \n",
      "20  {'learning_rate': 0.15, 'max_depth': 3, 'max_f...           0.760358   \n",
      "21  {'learning_rate': 0.15, 'max_depth': 5, 'max_f...           0.779632   \n",
      "22  {'learning_rate': 0.15, 'max_depth': 5, 'max_f...           0.789279   \n",
      "23  {'learning_rate': 0.15, 'max_depth': 5, 'max_f...           0.794411   \n",
      "24  {'learning_rate': 0.15, 'max_depth': 8, 'max_f...           0.817146   \n",
      "25  {'learning_rate': 0.15, 'max_depth': 8, 'max_f...           0.822596   \n",
      "26  {'learning_rate': 0.15, 'max_depth': 8, 'max_f...           0.822317   \n",
      "\n",
      "    split1_test_score  split2_test_score  mean_test_score  std_test_score  \\\n",
      "0            0.714948           0.718826         0.713960        0.004432   \n",
      "1            0.728294           0.730980         0.729793        0.001118   \n",
      "2            0.726206           0.726902         0.727134        0.000868   \n",
      "3            0.748324           0.746176         0.747197        0.000880   \n",
      "4            0.753953           0.757613         0.756294        0.001659   \n",
      "5            0.758071           0.761213         0.759264        0.001390   \n",
      "6            0.788424           0.782198         0.784837        0.002629   \n",
      "7            0.795604           0.798289         0.797056        0.001107   \n",
      "8            0.797016           0.796837         0.797321        0.000563   \n",
      "9            0.738777           0.746514         0.743007        0.003200   \n",
      "10           0.748463           0.748821         0.749438        0.001135   \n",
      "11           0.747091           0.748265         0.749372        0.002443   \n",
      "12           0.769707           0.769448         0.768785        0.001125   \n",
      "13           0.775336           0.782019         0.778392        0.002758   \n",
      "14           0.776211           0.781740         0.780434        0.003058   \n",
      "15           0.801174           0.803222         0.802924        0.001324   \n",
      "16           0.812790           0.817603         0.813347        0.003272   \n",
      "17           0.815117           0.813764         0.815435        0.001511   \n",
      "18           0.755763           0.751626         0.753715        0.001689   \n",
      "19           0.759483           0.755843         0.757991        0.001557   \n",
      "20           0.759662           0.756599         0.758873        0.001633   \n",
      "21           0.779115           0.776609         0.778452        0.001320   \n",
      "22           0.789717           0.785201         0.788066        0.002033   \n",
      "23           0.784485           0.791447         0.790114        0.004160   \n",
      "24           0.812412           0.815495         0.815017        0.001962   \n",
      "25           0.819155           0.823252         0.821667        0.001797   \n",
      "26           0.827350           0.824326         0.824664        0.002068   \n",
      "\n",
      "    rank_test_score  \n",
      "0                27  \n",
      "1                25  \n",
      "2                26  \n",
      "3                23  \n",
      "4                19  \n",
      "5                16  \n",
      "6                11  \n",
      "7                 8  \n",
      "8                 7  \n",
      "9                24  \n",
      "10               21  \n",
      "11               22  \n",
      "12               15  \n",
      "13               14  \n",
      "14               12  \n",
      "15                6  \n",
      "16                5  \n",
      "17                3  \n",
      "18               20  \n",
      "19               18  \n",
      "20               17  \n",
      "21               13  \n",
      "22               10  \n",
      "23                9  \n",
      "24                4  \n",
      "25                2  \n",
      "26                1  \n"
     ]
    }
   ],
   "source": [
    "print(grid.best_score_)\n",
    "print(grid.best_params_)\n",
    "print(pd.DataFrame(grid.cv_results_))"
   ]
  },
  {
   "cell_type": "markdown",
   "metadata": {},
   "source": [
    "All three parameters shows best result at one end of the test range, so we keep increasing those parameters and run grid search again."
   ]
  },
  {
   "cell_type": "code",
   "execution_count": 223,
   "metadata": {},
   "outputs": [],
   "source": [
    "gb = GradientBoostingClassifier(n_estimators=50)\n",
    "\n",
    "params = {'max_features': [20, 25, 30],\n",
    "         'learning_rate': [0.15, 0.2, 0.25],\n",
    "         'max_depth': [8, 10, 12]}\n",
    "\n",
    "grid = GridSearchCV(gb, params, cv=3)"
   ]
  },
  {
   "cell_type": "code",
   "execution_count": 224,
   "metadata": {},
   "outputs": [
    {
     "name": "stdout",
     "output_type": "stream",
     "text": [
      "Wall time: 40min 52s\n"
     ]
    },
    {
     "data": {
      "text/plain": [
       "GridSearchCV(cv=3, error_score=nan,\n",
       "             estimator=GradientBoostingClassifier(ccp_alpha=0.0,\n",
       "                                                  criterion='friedman_mse',\n",
       "                                                  init=None, learning_rate=0.1,\n",
       "                                                  loss='deviance', max_depth=3,\n",
       "                                                  max_features=None,\n",
       "                                                  max_leaf_nodes=None,\n",
       "                                                  min_impurity_decrease=0.0,\n",
       "                                                  min_impurity_split=None,\n",
       "                                                  min_samples_leaf=1,\n",
       "                                                  min_samples_split=2,\n",
       "                                                  min_weight_fraction_leaf=0.0,\n",
       "                                                  n_estimators=50,\n",
       "                                                  n_iter_no_change=None,\n",
       "                                                  presort='deprecated',\n",
       "                                                  random_state=None,\n",
       "                                                  subsample=1.0, tol=0.0001,\n",
       "                                                  validation_fraction=0.1,\n",
       "                                                  verbose=0, warm_start=False),\n",
       "             iid='deprecated', n_jobs=None,\n",
       "             param_grid={'learning_rate': [0.15, 0.2, 0.25],\n",
       "                         'max_depth': [8, 10, 12],\n",
       "                         'max_features': [20, 25, 30]},\n",
       "             pre_dispatch='2*n_jobs', refit=True, return_train_score=False,\n",
       "             scoring=None, verbose=0)"
      ]
     },
     "execution_count": 224,
     "metadata": {},
     "output_type": "execute_result"
    }
   ],
   "source": [
    "%%time\n",
    "grid.fit(X_train, y_train)"
   ]
  },
  {
   "cell_type": "code",
   "execution_count": 225,
   "metadata": {},
   "outputs": [
    {
     "name": "stdout",
     "output_type": "stream",
     "text": [
      "0.8381236532405105\n",
      "{'learning_rate': 0.15, 'max_depth': 12, 'max_features': 25}\n",
      "    mean_fit_time  std_fit_time  mean_score_time  std_score_time  \\\n",
      "0       16.870508      1.324982         0.195809        0.018575   \n",
      "1       20.883257      0.038438         0.197811        0.003285   \n",
      "2       23.829898      0.135673         0.195145        0.003391   \n",
      "3       23.833520      0.170066         0.259336        0.005700   \n",
      "4       27.574616      0.294399         0.252345        0.004875   \n",
      "5       30.767032      0.112941         0.249686        0.000936   \n",
      "6       36.189063      0.566300         0.322164        0.010182   \n",
      "7       39.095258      0.119411         0.308512        0.005303   \n",
      "8       42.594505      0.141861         0.305549        0.000475   \n",
      "9       18.237433      0.060748         0.201794        0.007909   \n",
      "10      21.312596      0.120543         0.191821        0.000471   \n",
      "11      24.179966      0.179860         0.196475        0.004954   \n",
      "12      25.432929      1.127482         0.279935        0.024770   \n",
      "13      28.206555      0.916913         0.246693        0.006171   \n",
      "14      31.270173      0.286673         0.248690        0.004618   \n",
      "15      35.533754      0.536046         0.315855        0.006928   \n",
      "16      39.233081      0.368412         0.297225        0.004225   \n",
      "17      42.387794      0.305351         0.300233        0.006146   \n",
      "18      18.304184      0.122855         0.200473        0.000819   \n",
      "19      21.659156      0.565142         0.198137        0.009508   \n",
      "20      24.823994      0.437384         0.188829        0.001244   \n",
      "21      24.050451      0.225468         0.248345        0.004238   \n",
      "22      27.550540      0.127404         0.238058        0.003667   \n",
      "23      31.184168      0.119046         0.233117        0.000400   \n",
      "24      34.967164      0.153576         0.307202        0.005338   \n",
      "25      38.923909      0.406344         0.299897        0.006320   \n",
      "26      42.034020      0.204777         0.291241        0.002159   \n",
      "\n",
      "   param_learning_rate param_max_depth param_max_features  \\\n",
      "0                 0.15               8                 20   \n",
      "1                 0.15               8                 25   \n",
      "2                 0.15               8                 30   \n",
      "3                 0.15              10                 20   \n",
      "4                 0.15              10                 25   \n",
      "5                 0.15              10                 30   \n",
      "6                 0.15              12                 20   \n",
      "7                 0.15              12                 25   \n",
      "8                 0.15              12                 30   \n",
      "9                  0.2               8                 20   \n",
      "10                 0.2               8                 25   \n",
      "11                 0.2               8                 30   \n",
      "12                 0.2              10                 20   \n",
      "13                 0.2              10                 25   \n",
      "14                 0.2              10                 30   \n",
      "15                 0.2              12                 20   \n",
      "16                 0.2              12                 25   \n",
      "17                 0.2              12                 30   \n",
      "18                0.25               8                 20   \n",
      "19                0.25               8                 25   \n",
      "20                0.25               8                 30   \n",
      "21                0.25              10                 20   \n",
      "22                0.25              10                 25   \n",
      "23                0.25              10                 30   \n",
      "24                0.25              12                 20   \n",
      "25                0.25              12                 25   \n",
      "26                0.25              12                 30   \n",
      "\n",
      "                                               params  split0_test_score  \\\n",
      "0   {'learning_rate': 0.15, 'max_depth': 8, 'max_f...           0.827051   \n",
      "1   {'learning_rate': 0.15, 'max_depth': 8, 'max_f...           0.827210   \n",
      "2   {'learning_rate': 0.15, 'max_depth': 8, 'max_f...           0.829160   \n",
      "3   {'learning_rate': 0.15, 'max_depth': 10, 'max_...           0.834610   \n",
      "4   {'learning_rate': 0.15, 'max_depth': 10, 'max_...           0.837255   \n",
      "5   {'learning_rate': 0.15, 'max_depth': 10, 'max_...           0.835704   \n",
      "6   {'learning_rate': 0.15, 'max_depth': 12, 'max_...           0.838309   \n",
      "7   {'learning_rate': 0.15, 'max_depth': 12, 'max_...           0.838449   \n",
      "8   {'learning_rate': 0.15, 'max_depth': 12, 'max_...           0.838329   \n",
      "9   {'learning_rate': 0.2, 'max_depth': 8, 'max_fe...           0.826514   \n",
      "10  {'learning_rate': 0.2, 'max_depth': 8, 'max_fe...           0.830353   \n",
      "11  {'learning_rate': 0.2, 'max_depth': 8, 'max_fe...           0.831487   \n",
      "12  {'learning_rate': 0.2, 'max_depth': 10, 'max_f...           0.834053   \n",
      "13  {'learning_rate': 0.2, 'max_depth': 10, 'max_f...           0.835167   \n",
      "14  {'learning_rate': 0.2, 'max_depth': 10, 'max_f...           0.835883   \n",
      "15  {'learning_rate': 0.2, 'max_depth': 12, 'max_f...           0.837016   \n",
      "16  {'learning_rate': 0.2, 'max_depth': 12, 'max_f...           0.837056   \n",
      "17  {'learning_rate': 0.2, 'max_depth': 12, 'max_f...           0.838051   \n",
      "18  {'learning_rate': 0.25, 'max_depth': 8, 'max_f...           0.826315   \n",
      "19  {'learning_rate': 0.25, 'max_depth': 8, 'max_f...           0.829717   \n",
      "20  {'learning_rate': 0.25, 'max_depth': 8, 'max_f...           0.831706   \n",
      "21  {'learning_rate': 0.25, 'max_depth': 10, 'max_...           0.833953   \n",
      "22  {'learning_rate': 0.25, 'max_depth': 10, 'max_...           0.834192   \n",
      "23  {'learning_rate': 0.25, 'max_depth': 10, 'max_...           0.836997   \n",
      "24  {'learning_rate': 0.25, 'max_depth': 12, 'max_...           0.837494   \n",
      "25  {'learning_rate': 0.25, 'max_depth': 12, 'max_...           0.839165   \n",
      "26  {'learning_rate': 0.25, 'max_depth': 12, 'max_...           0.839662   \n",
      "\n",
      "    split1_test_score  split2_test_score  mean_test_score  std_test_score  \\\n",
      "0            0.823869           0.826037         0.825652        0.001327   \n",
      "1            0.825540           0.825062         0.825937        0.000921   \n",
      "2            0.824863           0.828026         0.827350        0.001818   \n",
      "3            0.831666           0.832382         0.832886        0.001254   \n",
      "4            0.832024           0.833496         0.834258        0.002203   \n",
      "5            0.831487           0.834272         0.833821        0.001751   \n",
      "6            0.835922           0.839145         0.837792        0.001365   \n",
      "7            0.836141           0.839781         0.838124        0.001504   \n",
      "8            0.836440           0.835584         0.836784        0.001147   \n",
      "9            0.825997           0.825062         0.825858        0.000601   \n",
      "10           0.826415           0.828841         0.828536        0.001622   \n",
      "11           0.827111           0.830353         0.829650        0.001854   \n",
      "12           0.832282           0.834709         0.833681        0.001025   \n",
      "13           0.832044           0.833774         0.833662        0.001277   \n",
      "14           0.833158           0.835206         0.834749        0.001159   \n",
      "15           0.836818           0.840378         0.838071        0.001634   \n",
      "16           0.835644           0.836479         0.836393        0.000580   \n",
      "17           0.836201           0.838508         0.837587        0.000997   \n",
      "18           0.828105           0.827310         0.827243        0.000732   \n",
      "19           0.827628           0.829796         0.829047        0.001004   \n",
      "20           0.829160           0.830134         0.830333        0.001049   \n",
      "21           0.830273           0.835087         0.833105        0.002055   \n",
      "22           0.834152           0.834848         0.834397        0.000319   \n",
      "23           0.831905           0.835584         0.834828        0.002146   \n",
      "24           0.833834           0.834530         0.835286        0.001587   \n",
      "25           0.834431           0.837534         0.837043        0.001964   \n",
      "26           0.833834           0.834649         0.836048        0.002577   \n",
      "\n",
      "    rank_test_score  \n",
      "0                27  \n",
      "1                25  \n",
      "2                23  \n",
      "3                18  \n",
      "4                13  \n",
      "5                14  \n",
      "6                 3  \n",
      "7                 1  \n",
      "8                 6  \n",
      "9                26  \n",
      "10               22  \n",
      "11               20  \n",
      "12               15  \n",
      "13               16  \n",
      "14               11  \n",
      "15                2  \n",
      "16                7  \n",
      "17                4  \n",
      "18               24  \n",
      "19               21  \n",
      "20               19  \n",
      "21               17  \n",
      "22               12  \n",
      "23               10  \n",
      "24                9  \n",
      "25                5  \n",
      "26                8  \n"
     ]
    }
   ],
   "source": [
    "print(grid.best_score_)\n",
    "print(grid.best_params_)\n",
    "print(pd.DataFrame(grid.cv_results_))"
   ]
  },
  {
   "cell_type": "markdown",
   "metadata": {},
   "source": [
    "Learning rate and max_features shows best result at 0.15 and 25, max_depth still shows better result at end of range. Fix learning rate and max_features and run grid search for max_depth again."
   ]
  },
  {
   "cell_type": "code",
   "execution_count": 236,
   "metadata": {},
   "outputs": [],
   "source": [
    "gb = GradientBoostingClassifier(n_estimators=50, learning_rate=0.15, max_features=25)\n",
    "\n",
    "params = {'max_depth': [7, 12, 13, 14, 15, 16, 18]}\n",
    "\n",
    "grid = GridSearchCV(gb, params, cv=3)"
   ]
  },
  {
   "cell_type": "code",
   "execution_count": 237,
   "metadata": {},
   "outputs": [
    {
     "data": {
      "text/plain": [
       "GridSearchCV(cv=3, error_score=nan,\n",
       "             estimator=GradientBoostingClassifier(ccp_alpha=0.0,\n",
       "                                                  criterion='friedman_mse',\n",
       "                                                  init=None, learning_rate=0.15,\n",
       "                                                  loss='deviance', max_depth=3,\n",
       "                                                  max_features=25,\n",
       "                                                  max_leaf_nodes=None,\n",
       "                                                  min_impurity_decrease=0.0,\n",
       "                                                  min_impurity_split=None,\n",
       "                                                  min_samples_leaf=1,\n",
       "                                                  min_samples_split=2,\n",
       "                                                  min_weight_fraction_leaf=0.0,\n",
       "                                                  n_estimators=50,\n",
       "                                                  n_iter_no_change=None,\n",
       "                                                  presort='deprecated',\n",
       "                                                  random_state=None,\n",
       "                                                  subsample=1.0, tol=0.0001,\n",
       "                                                  validation_fraction=0.1,\n",
       "                                                  verbose=0, warm_start=False),\n",
       "             iid='deprecated', n_jobs=None,\n",
       "             param_grid={'max_depth': [7, 12, 13, 14, 15, 16, 18]},\n",
       "             pre_dispatch='2*n_jobs', refit=True, return_train_score=False,\n",
       "             scoring=None, verbose=0)"
      ]
     },
     "execution_count": 237,
     "metadata": {},
     "output_type": "execute_result"
    }
   ],
   "source": [
    "grid.fit(X_train, y_train)"
   ]
  },
  {
   "cell_type": "code",
   "execution_count": 238,
   "metadata": {},
   "outputs": [
    {
     "name": "stdout",
     "output_type": "stream",
     "text": [
      "0.8383225592574175\n",
      "{'max_depth': 14}\n",
      "   mean_fit_time  std_fit_time  mean_score_time  std_score_time  \\\n",
      "0      25.966226      0.959541         0.253355        0.049400   \n",
      "1      46.575266      1.816253         0.389440        0.036692   \n",
      "2      57.797958      1.423553         0.424042        0.027863   \n",
      "3      76.928542      3.583499         0.470149        0.074536   \n",
      "4      95.258605      1.340624         0.470928        0.021576   \n",
      "5     121.511467     10.533007         0.500719        0.010744   \n",
      "6     164.413578      1.335650         0.569171        0.001880   \n",
      "\n",
      "  param_max_depth             params  split0_test_score  split1_test_score  \\\n",
      "0               7   {'max_depth': 7}           0.816211           0.821343   \n",
      "1              12  {'max_depth': 12}           0.839682           0.836818   \n",
      "2              13  {'max_depth': 13}           0.839642           0.835664   \n",
      "3              14  {'max_depth': 14}           0.840716           0.836121   \n",
      "4              15  {'max_depth': 15}           0.839025           0.837116   \n",
      "5              16  {'max_depth': 16}           0.839483           0.835306   \n",
      "6              18  {'max_depth': 18}           0.838130           0.833953   \n",
      "\n",
      "   split2_test_score  mean_test_score  std_test_score  rank_test_score  \n",
      "0           0.817106         0.818220        0.002238                7  \n",
      "1           0.838150         0.838216        0.001170                2  \n",
      "2           0.839224         0.838177        0.001785                3  \n",
      "3           0.838130         0.838323        0.001881                1  \n",
      "4           0.837136         0.837759        0.000895                4  \n",
      "5           0.836658         0.837149        0.001740                5  \n",
      "6           0.835167         0.835750        0.001754                6  \n"
     ]
    }
   ],
   "source": [
    "print(grid.best_score_)\n",
    "print(grid.best_params_)\n",
    "print(pd.DataFrame(grid.cv_results_))"
   ]
  },
  {
   "cell_type": "code",
   "execution_count": 239,
   "metadata": {},
   "outputs": [
    {
     "data": {
      "text/plain": [
       "[<matplotlib.lines.Line2D at 0x19907c21f60>]"
      ]
     },
     "execution_count": 239,
     "metadata": {},
     "output_type": "execute_result"
    },
    {
     "data": {
      "image/png": "[encoded data removed]",
      "text/plain": [
       "<Figure size 432x288 with 1 Axes>"
      ]
     },
     "metadata": {
      "needs_background": "light"
     },
     "output_type": "display_data"
    }
   ],
   "source": [
    "g=pd.DataFrame(grid.cv_results_)\n",
    "plt.plot(g.param_max_depth, g.mean_test_score, marker='.')"
   ]
  },
  {
   "cell_type": "markdown",
   "metadata": {},
   "source": [
    "Above graph shows best score appeared at max_depth=14, less or more lead to underfitting or overfitting."
   ]
  },
  {
   "cell_type": "code",
   "execution_count": 535,
   "metadata": {},
   "outputs": [
    {
     "name": "stdout",
     "output_type": "stream",
     "text": [
      "0.9957831924415713\n",
      "0.8492852785954863\n"
     ]
    }
   ],
   "source": [
    "gb = GradientBoostingClassifier(n_estimators=100, learning_rate=0.15, max_depth=14, max_features=25)\n",
    "gb.fit(X_train, y_train)\n",
    "print(gb.score(X_train, y_train))\n",
    "print(gb.score(X_test, y_test))"
   ]
  },
  {
   "cell_type": "code",
   "execution_count": 536,
   "metadata": {},
   "outputs": [],
   "source": [
    "store_result(gb, 'gradient')\n",
    "store_roc(gb, 'gradient')"
   ]
  },
  {
   "cell_type": "code",
   "execution_count": 537,
   "metadata": {},
   "outputs": [
    {
     "name": "stdout",
     "output_type": "stream",
     "text": [
      "         train_score test_score\n",
      "gradient    0.995783   0.849285\n",
      "\n",
      "\n",
      "cv result: [0.84508536 0.84445549 0.84482016 0.8462788  0.84372617]\n",
      "\n",
      "\n",
      "[[11650  2927]\n",
      " [ 2756 20374]]\n",
      "\n",
      "\n",
      "roc_auc_score: 0.9290\n",
      "\n",
      "\n",
      "              precision    recall  f1-score   support\n",
      "\n",
      "       False       0.81      0.80      0.80     14577\n",
      "        True       0.87      0.88      0.88     23130\n",
      "\n",
      "    accuracy                           0.85     37707\n",
      "   macro avg       0.84      0.84      0.84     37707\n",
      "weighted avg       0.85      0.85      0.85     37707\n",
      "\n"
     ]
    }
   ],
   "source": [
    "show_result('gradient')"
   ]
  },
  {
   "cell_type": "code",
   "execution_count": 245,
   "metadata": {},
   "outputs": [
    {
     "data": {
      "text/html": [
       "<div>\n",
       "<style scoped>\n",
       "    .dataframe tbody tr th:only-of-type {\n",
       "        vertical-align: middle;\n",
       "    }\n",
       "\n",
       "    .dataframe tbody tr th {\n",
       "        vertical-align: top;\n",
       "    }\n",
       "\n",
       "    .dataframe thead th {\n",
       "        text-align: right;\n",
       "    }\n",
       "</style>\n",
       "<table border=\"1\" class=\"dataframe\">\n",
       "  <thead>\n",
       "    <tr style=\"text-align: right;\">\n",
       "      <th></th>\n",
       "      <th>train_score</th>\n",
       "      <th>test_score</th>\n",
       "      <th>cv</th>\n",
       "      <th>matrix</th>\n",
       "      <th>report</th>\n",
       "    </tr>\n",
       "  </thead>\n",
       "  <tbody>\n",
       "    <tr>\n",
       "      <th>forest</th>\n",
       "      <td>0.999814</td>\n",
       "      <td>0.850293</td>\n",
       "      <td>[0.8468755179844191, 0.8458146858942484, 0.843...</td>\n",
       "      <td>[[11805, 2772], [2873, 20257]]</td>\n",
       "      <td>precision    recall  f1-score   ...</td>\n",
       "    </tr>\n",
       "    <tr>\n",
       "      <th>svm</th>\n",
       "      <td>0.711182</td>\n",
       "      <td>0.708542</td>\n",
       "      <td>[0.7123155975468258, 0.7099950273495773, 0.712...</td>\n",
       "      <td>[[6487, 8090], [2900, 20230]]</td>\n",
       "      <td>precision    recall  f1-score   ...</td>\n",
       "    </tr>\n",
       "    <tr>\n",
       "      <th>knn</th>\n",
       "      <td>0.999848</td>\n",
       "      <td>0.729944</td>\n",
       "      <td>[0.72879164594729, 0.7203049892259241, 0.72544...</td>\n",
       "      <td>[[7003, 7574], [2609, 20521]]</td>\n",
       "      <td>precision    recall  f1-score   ...</td>\n",
       "    </tr>\n",
       "    <tr>\n",
       "      <th>logistic</th>\n",
       "      <td>0.715074</td>\n",
       "      <td>0.713183</td>\n",
       "      <td>[0.7151334327863418, 0.7127797115862755, 0.716...</td>\n",
       "      <td>[[6774, 7803], [3012, 20118]]</td>\n",
       "      <td>precision    recall  f1-score   ...</td>\n",
       "    </tr>\n",
       "    <tr>\n",
       "      <th>gradient</th>\n",
       "      <td>0.997587</td>\n",
       "      <td>0.849763</td>\n",
       "      <td>[0.8461130449196088, 0.8448201558097133, 0.842...</td>\n",
       "      <td>[[11616, 2961], [2704, 20426]]</td>\n",
       "      <td>precision    recall  f1-score   ...</td>\n",
       "    </tr>\n",
       "    <tr>\n",
       "      <th>multinb</th>\n",
       "      <td>NaN</td>\n",
       "      <td>NaN</td>\n",
       "      <td>NaN</td>\n",
       "      <td>NaN</td>\n",
       "      <td>NaN</td>\n",
       "    </tr>\n",
       "    <tr>\n",
       "      <th>gaussiannb</th>\n",
       "      <td>NaN</td>\n",
       "      <td>NaN</td>\n",
       "      <td>NaN</td>\n",
       "      <td>NaN</td>\n",
       "      <td>NaN</td>\n",
       "    </tr>\n",
       "    <tr>\n",
       "      <th>complementnb</th>\n",
       "      <td>NaN</td>\n",
       "      <td>NaN</td>\n",
       "      <td>NaN</td>\n",
       "      <td>NaN</td>\n",
       "      <td>NaN</td>\n",
       "    </tr>\n",
       "  </tbody>\n",
       "</table>\n",
       "</div>"
      ],
      "text/plain": [
       "             train_score test_score  \\\n",
       "forest          0.999814   0.850293   \n",
       "svm             0.711182   0.708542   \n",
       "knn             0.999848   0.729944   \n",
       "logistic        0.715074   0.713183   \n",
       "gradient        0.997587   0.849763   \n",
       "multinb              NaN        NaN   \n",
       "gaussiannb           NaN        NaN   \n",
       "complementnb         NaN        NaN   \n",
       "\n",
       "                                                             cv  \\\n",
       "forest        [0.8468755179844191, 0.8458146858942484, 0.843...   \n",
       "svm           [0.7123155975468258, 0.7099950273495773, 0.712...   \n",
       "knn           [0.72879164594729, 0.7203049892259241, 0.72544...   \n",
       "logistic      [0.7151334327863418, 0.7127797115862755, 0.716...   \n",
       "gradient      [0.8461130449196088, 0.8448201558097133, 0.842...   \n",
       "multinb                                                     NaN   \n",
       "gaussiannb                                                  NaN   \n",
       "complementnb                                                NaN   \n",
       "\n",
       "                                      matrix  \\\n",
       "forest        [[11805, 2772], [2873, 20257]]   \n",
       "svm            [[6487, 8090], [2900, 20230]]   \n",
       "knn            [[7003, 7574], [2609, 20521]]   \n",
       "logistic       [[6774, 7803], [3012, 20118]]   \n",
       "gradient      [[11616, 2961], [2704, 20426]]   \n",
       "multinb                                  NaN   \n",
       "gaussiannb                               NaN   \n",
       "complementnb                             NaN   \n",
       "\n",
       "                                                         report  \n",
       "forest                      precision    recall  f1-score   ...  \n",
       "svm                         precision    recall  f1-score   ...  \n",
       "knn                         precision    recall  f1-score   ...  \n",
       "logistic                    precision    recall  f1-score   ...  \n",
       "gradient                    precision    recall  f1-score   ...  \n",
       "multinb                                                     NaN  \n",
       "gaussiannb                                                  NaN  \n",
       "complementnb                                                NaN  "
      ]
     },
     "execution_count": 245,
     "metadata": {},
     "output_type": "execute_result"
    }
   ],
   "source": [
    "result"
   ]
  },
  {
   "cell_type": "markdown",
   "metadata": {},
   "source": [
    "### Naive Bayes"
   ]
  },
  {
   "cell_type": "markdown",
   "metadata": {},
   "source": [
    "For naive bayes, we use three different model, multinomial, gaussian and complement naive bayes. Of which we tune alpha parameter for multinomial and complement naive bayes and test training and test dataset with best parameter, alpha=100000"
   ]
  },
  {
   "cell_type": "code",
   "execution_count": 249,
   "metadata": {},
   "outputs": [
    {
     "name": "stdout",
     "output_type": "stream",
     "text": [
      "0.6585778219791149\n",
      "0.6568541650091495\n",
      "Wall time: 107 ms\n"
     ]
    }
   ],
   "source": [
    "%%time\n",
    "from sklearn.naive_bayes import MultinomialNB\n",
    "\n",
    "nb = MultinomialNB()\n",
    "\n",
    "nb.fit(X_train, y_train)\n",
    "print(nb.score(X_train, y_train))\n",
    "print(nb.score(X_test, y_test))"
   ]
  },
  {
   "cell_type": "code",
   "execution_count": 273,
   "metadata": {},
   "outputs": [],
   "source": [
    "nb = MultinomialNB()\n",
    "param={'alpha': np.logspace(-2, 6, 9)}\n",
    "\n",
    "grid = GridSearchCV(nb, param, cv=5)"
   ]
  },
  {
   "cell_type": "code",
   "execution_count": 274,
   "metadata": {},
   "outputs": [
    {
     "data": {
      "text/plain": [
       "GridSearchCV(cv=5, error_score=nan,\n",
       "             estimator=MultinomialNB(alpha=1.0, class_prior=None,\n",
       "                                     fit_prior=True),\n",
       "             iid='deprecated', n_jobs=None,\n",
       "             param_grid={'alpha': array([1.e-02, 1.e-01, 1.e+00, 1.e+01, 1.e+02, 1.e+03, 1.e+04, 1.e+05,\n",
       "       1.e+06])},\n",
       "             pre_dispatch='2*n_jobs', refit=True, return_train_score=False,\n",
       "             scoring=None, verbose=0)"
      ]
     },
     "execution_count": 274,
     "metadata": {},
     "output_type": "execute_result"
    }
   ],
   "source": [
    "grid.fit(X_train, y_train)"
   ]
  },
  {
   "cell_type": "code",
   "execution_count": 275,
   "metadata": {},
   "outputs": [
    {
     "name": "stdout",
     "output_type": "stream",
     "text": [
      "0.6587369467926404\n",
      "{'alpha': 100000.0}\n",
      "   mean_fit_time  std_fit_time  mean_score_time  std_score_time param_alpha  \\\n",
      "0       0.069215      0.005412         0.004986    7.325311e-07        0.01   \n",
      "1       0.067024      0.000742         0.005187    3.975177e-04         0.1   \n",
      "2       0.068417      0.002931         0.004986    4.156970e-07           1   \n",
      "3       0.074202      0.007637         0.005584    1.197100e-03          10   \n",
      "4       0.070013      0.003960         0.005385    4.884417e-04         100   \n",
      "5       0.068417      0.002054         0.005584    1.196885e-03        1000   \n",
      "6       0.069214      0.002054         0.005186    9.772332e-04       10000   \n",
      "7       0.071611      0.005900         0.005385    7.982017e-04      100000   \n",
      "8       0.067101      0.001690         0.004986    3.873843e-07       1e+06   \n",
      "\n",
      "                 params  split0_test_score  split1_test_score  \\\n",
      "0       {'alpha': 0.01}           0.655959           0.661064   \n",
      "1        {'alpha': 0.1}           0.655959           0.661064   \n",
      "2        {'alpha': 1.0}           0.655959           0.661064   \n",
      "3       {'alpha': 10.0}           0.655959           0.661064   \n",
      "4      {'alpha': 100.0}           0.655959           0.661064   \n",
      "5     {'alpha': 1000.0}           0.655959           0.661064   \n",
      "6    {'alpha': 10000.0}           0.655959           0.661031   \n",
      "7   {'alpha': 100000.0}           0.656191           0.661329   \n",
      "8  {'alpha': 1000000.0}           0.653804           0.658180   \n",
      "\n",
      "   split2_test_score  split3_test_score  split4_test_score  mean_test_score  \\\n",
      "0           0.660302           0.657683           0.657716         0.658545   \n",
      "1           0.660302           0.657683           0.657716         0.658545   \n",
      "2           0.660302           0.657683           0.657716         0.658545   \n",
      "3           0.660302           0.657683           0.657716         0.658545   \n",
      "4           0.660302           0.657650           0.657716         0.658538   \n",
      "5           0.660368           0.657716           0.657716         0.658565   \n",
      "6           0.660169           0.657418           0.657815         0.658478   \n",
      "7           0.659937           0.657981           0.658246         0.658737   \n",
      "8           0.655859           0.656324           0.656058         0.656045   \n",
      "\n",
      "   std_test_score  rank_test_score  \n",
      "0        0.001874                3  \n",
      "1        0.001874                3  \n",
      "2        0.001874                3  \n",
      "3        0.001874                3  \n",
      "4        0.001877                7  \n",
      "5        0.001883                2  \n",
      "6        0.001859                8  \n",
      "7        0.001758                1  \n",
      "8        0.001392                9  \n"
     ]
    }
   ],
   "source": [
    "print(grid.best_score_)\n",
    "print(grid.best_params_)\n",
    "print(pd.DataFrame(grid.cv_results_))"
   ]
  },
  {
   "cell_type": "code",
   "execution_count": 276,
   "metadata": {},
   "outputs": [
    {
     "data": {
      "image/png": "[encoded data removed]",
      "text/plain": [
       "<Figure size 432x288 with 1 Axes>"
      ]
     },
     "metadata": {
      "needs_background": "light"
     },
     "output_type": "display_data"
    }
   ],
   "source": [
    "n = pd.DataFrame(grid.cv_results_)\n",
    "plt.plot(n.param_alpha, n.mean_test_score, marker='.')\n",
    "plt.xscale('log')"
   ]
  },
  {
   "cell_type": "markdown",
   "metadata": {},
   "source": [
    "Above result"
   ]
  },
  {
   "cell_type": "code",
   "execution_count": 538,
   "metadata": {},
   "outputs": [
    {
     "name": "stdout",
     "output_type": "stream",
     "text": [
      "0.658591082380242\n",
      "0.6570132866576498\n"
     ]
    }
   ],
   "source": [
    "nb = MultinomialNB(alpha=100000)\n",
    "\n",
    "nb.fit(X_train, y_train)\n",
    "print(nb.score(X_train, y_train))\n",
    "print(nb.score(X_test, y_test))"
   ]
  },
  {
   "cell_type": "code",
   "execution_count": 539,
   "metadata": {},
   "outputs": [],
   "source": [
    "store_result(nb, 'multinb')\n",
    "store_roc(nb, 'multinb')"
   ]
  },
  {
   "cell_type": "code",
   "execution_count": 540,
   "metadata": {},
   "outputs": [
    {
     "name": "stdout",
     "output_type": "stream",
     "text": [
      "0.6403248798276148\n",
      "0.6362744318031135\n",
      "Wall time: 475 ms\n"
     ]
    }
   ],
   "source": [
    "%%time\n",
    "from sklearn.naive_bayes import GaussianNB\n",
    "\n",
    "nb = GaussianNB()\n",
    "\n",
    "nb.fit(X_train, y_train)\n",
    "print(nb.score(X_train, y_train))\n",
    "print(nb.score(X_test, y_test))"
   ]
  },
  {
   "cell_type": "code",
   "execution_count": 541,
   "metadata": {},
   "outputs": [],
   "source": [
    "store_result(nb, 'gaussiannb')\n",
    "store_roc(nb, 'gaussiannb')"
   ]
  },
  {
   "cell_type": "code",
   "execution_count": 285,
   "metadata": {},
   "outputs": [
    {
     "name": "stdout",
     "output_type": "stream",
     "text": [
      "0.6585844521796784\n",
      "0.6568541650091495\n",
      "Wall time: 88.8 ms\n"
     ]
    }
   ],
   "source": [
    "%%time\n",
    "from sklearn.naive_bayes import ComplementNB\n",
    "\n",
    "nb = ComplementNB()\n",
    "\n",
    "nb.fit(X_train, y_train)\n",
    "print(nb.score(X_train, y_train))\n",
    "print(nb.score(X_test, y_test))"
   ]
  },
  {
   "cell_type": "code",
   "execution_count": 290,
   "metadata": {},
   "outputs": [],
   "source": [
    "nb = ComplementNB()\n",
    "param={'alpha': np.logspace(-2, 6, 9)}\n",
    "\n",
    "grid = GridSearchCV(nb, param, cv=5)"
   ]
  },
  {
   "cell_type": "code",
   "execution_count": 291,
   "metadata": {},
   "outputs": [
    {
     "data": {
      "text/plain": [
       "GridSearchCV(cv=5, error_score=nan,\n",
       "             estimator=ComplementNB(alpha=1.0, class_prior=None, fit_prior=True,\n",
       "                                    norm=False),\n",
       "             iid='deprecated', n_jobs=None,\n",
       "             param_grid={'alpha': array([1.e-02, 1.e-01, 1.e+00, 1.e+01, 1.e+02, 1.e+03, 1.e+04, 1.e+05,\n",
       "       1.e+06])},\n",
       "             pre_dispatch='2*n_jobs', refit=True, return_train_score=False,\n",
       "             scoring=None, verbose=0)"
      ]
     },
     "execution_count": 291,
     "metadata": {},
     "output_type": "execute_result"
    }
   ],
   "source": [
    "grid.fit(X_train, y_train)"
   ]
  },
  {
   "cell_type": "code",
   "execution_count": 292,
   "metadata": {},
   "outputs": [
    {
     "name": "stdout",
     "output_type": "stream",
     "text": [
      "0.6587568373943313\n",
      "{'alpha': 100000.0}\n",
      "   mean_fit_time  std_fit_time  mean_score_time  std_score_time param_alpha  \\\n",
      "0       0.067621      0.001715         0.004588    4.883443e-04        0.01   \n",
      "1       0.068412      0.000814         0.004585    4.910407e-04         0.1   \n",
      "2       0.067620      0.001323         0.005487    1.094546e-03           1   \n",
      "3       0.070013      0.004522         0.004987    6.910027e-07          10   \n",
      "4       0.069520      0.000399         0.004389    4.878418e-04         100   \n",
      "5       0.070808      0.006823         0.005784    1.163620e-03        1000   \n",
      "6       0.069525      0.002939         0.005255    1.105027e-03       10000   \n",
      "7       0.067620      0.002476         0.004786    3.984226e-04      100000   \n",
      "8       0.067420      0.000488         0.004986    5.091228e-07       1e+06   \n",
      "\n",
      "                 params  split0_test_score  split1_test_score  \\\n",
      "0       {'alpha': 0.01}           0.655959           0.661064   \n",
      "1        {'alpha': 0.1}           0.655959           0.661064   \n",
      "2        {'alpha': 1.0}           0.655959           0.661064   \n",
      "3       {'alpha': 10.0}           0.655959           0.661064   \n",
      "4      {'alpha': 100.0}           0.655959           0.661064   \n",
      "5     {'alpha': 1000.0}           0.655959           0.661064   \n",
      "6    {'alpha': 10000.0}           0.655959           0.660998   \n",
      "7   {'alpha': 100000.0}           0.656191           0.661363   \n",
      "8  {'alpha': 1000000.0}           0.653804           0.658180   \n",
      "\n",
      "   split2_test_score  split3_test_score  split4_test_score  mean_test_score  \\\n",
      "0           0.660302           0.657650           0.657716         0.658538   \n",
      "1           0.660302           0.657650           0.657716         0.658538   \n",
      "2           0.660302           0.657650           0.657716         0.658538   \n",
      "3           0.660302           0.657650           0.657716         0.658538   \n",
      "4           0.660368           0.657683           0.657716         0.658558   \n",
      "5           0.660368           0.657716           0.657716         0.658565   \n",
      "6           0.660169           0.657418           0.657815         0.658472   \n",
      "7           0.659970           0.658014           0.658246         0.658757   \n",
      "8           0.655826           0.656357           0.656025         0.656038   \n",
      "\n",
      "   std_test_score  rank_test_score  \n",
      "0        0.001877                4  \n",
      "1        0.001877                4  \n",
      "2        0.001877                4  \n",
      "3        0.001877                4  \n",
      "4        0.001886                3  \n",
      "5        0.001883                2  \n",
      "6        0.001850                8  \n",
      "7        0.001770                1  \n",
      "8        0.001395                9  \n"
     ]
    }
   ],
   "source": [
    "print(grid.best_score_)\n",
    "print(grid.best_params_)\n",
    "print(pd.DataFrame(grid.cv_results_))"
   ]
  },
  {
   "cell_type": "code",
   "execution_count": 293,
   "metadata": {},
   "outputs": [
    {
     "data": {
      "image/png": "[encoded data removed]",
      "text/plain": [
       "<Figure size 432x288 with 1 Axes>"
      ]
     },
     "metadata": {
      "needs_background": "light"
     },
     "output_type": "display_data"
    }
   ],
   "source": [
    "n = pd.DataFrame(grid.cv_results_)\n",
    "plt.plot(n.param_alpha, n.mean_test_score, marker='.')\n",
    "plt.xscale('log')"
   ]
  },
  {
   "cell_type": "code",
   "execution_count": 543,
   "metadata": {},
   "outputs": [
    {
     "name": "stdout",
     "output_type": "stream",
     "text": [
      "0.6585711917785513\n",
      "0.6570132866576498\n"
     ]
    }
   ],
   "source": [
    "nb = ComplementNB(alpha=100000)\n",
    "\n",
    "nb.fit(X_train, y_train)\n",
    "print(nb.score(X_train, y_train))\n",
    "print(nb.score(X_test, y_test))"
   ]
  },
  {
   "cell_type": "code",
   "execution_count": 544,
   "metadata": {},
   "outputs": [],
   "source": [
    "store_result(nb, 'complementnb')\n",
    "store_roc(nb, 'complementnb')"
   ]
  },
  {
   "cell_type": "markdown",
   "metadata": {},
   "source": [
    "### Model Comparison "
   ]
  },
  {
   "cell_type": "code",
   "execution_count": 546,
   "metadata": {},
   "outputs": [
    {
     "data": {
      "text/html": [
       "<div>\n",
       "<style scoped>\n",
       "    .dataframe tbody tr th:only-of-type {\n",
       "        vertical-align: middle;\n",
       "    }\n",
       "\n",
       "    .dataframe tbody tr th {\n",
       "        vertical-align: top;\n",
       "    }\n",
       "\n",
       "    .dataframe thead th {\n",
       "        text-align: right;\n",
       "    }\n",
       "</style>\n",
       "<table border=\"1\" class=\"dataframe\">\n",
       "  <thead>\n",
       "    <tr style=\"text-align: right;\">\n",
       "      <th></th>\n",
       "      <th>forest</th>\n",
       "      <th>svm</th>\n",
       "      <th>knn</th>\n",
       "      <th>logistic</th>\n",
       "      <th>gradient</th>\n",
       "      <th>multinb</th>\n",
       "      <th>gaussiannb</th>\n",
       "      <th>complementnb</th>\n",
       "    </tr>\n",
       "  </thead>\n",
       "  <tbody>\n",
       "    <tr>\n",
       "      <th>0</th>\n",
       "      <td>0.844257</td>\n",
       "      <td>0.712316</td>\n",
       "      <td>0.728792</td>\n",
       "      <td>0.715133</td>\n",
       "      <td>0.845085</td>\n",
       "      <td>0.656191</td>\n",
       "      <td>0.640511</td>\n",
       "      <td>0.656191</td>\n",
       "    </tr>\n",
       "    <tr>\n",
       "      <th>1</th>\n",
       "      <td>0.844688</td>\n",
       "      <td>0.709995</td>\n",
       "      <td>0.720305</td>\n",
       "      <td>0.712780</td>\n",
       "      <td>0.844455</td>\n",
       "      <td>0.661329</td>\n",
       "      <td>0.640278</td>\n",
       "      <td>0.661363</td>\n",
       "    </tr>\n",
       "    <tr>\n",
       "      <th>2</th>\n",
       "      <td>0.843859</td>\n",
       "      <td>0.712448</td>\n",
       "      <td>0.725443</td>\n",
       "      <td>0.716725</td>\n",
       "      <td>0.844820</td>\n",
       "      <td>0.659937</td>\n",
       "      <td>0.640245</td>\n",
       "      <td>0.659970</td>\n",
       "    </tr>\n",
       "    <tr>\n",
       "      <th>3</th>\n",
       "      <td>0.848434</td>\n",
       "      <td>0.710393</td>\n",
       "      <td>0.725443</td>\n",
       "      <td>0.714305</td>\n",
       "      <td>0.846279</td>\n",
       "      <td>0.657981</td>\n",
       "      <td>0.640312</td>\n",
       "      <td>0.658014</td>\n",
       "    </tr>\n",
       "    <tr>\n",
       "      <th>4</th>\n",
       "      <td>0.844124</td>\n",
       "      <td>0.710161</td>\n",
       "      <td>0.723918</td>\n",
       "      <td>0.714039</td>\n",
       "      <td>0.843726</td>\n",
       "      <td>0.658246</td>\n",
       "      <td>0.639450</td>\n",
       "      <td>0.658246</td>\n",
       "    </tr>\n",
       "  </tbody>\n",
       "</table>\n",
       "</div>"
      ],
      "text/plain": [
       "     forest       svm       knn  logistic  gradient   multinb  gaussiannb  \\\n",
       "0  0.844257  0.712316  0.728792  0.715133  0.845085  0.656191    0.640511   \n",
       "1  0.844688  0.709995  0.720305  0.712780  0.844455  0.661329    0.640278   \n",
       "2  0.843859  0.712448  0.725443  0.716725  0.844820  0.659937    0.640245   \n",
       "3  0.848434  0.710393  0.725443  0.714305  0.846279  0.657981    0.640312   \n",
       "4  0.844124  0.710161  0.723918  0.714039  0.843726  0.658246    0.639450   \n",
       "\n",
       "   complementnb  \n",
       "0      0.656191  \n",
       "1      0.661363  \n",
       "2      0.659970  \n",
       "3      0.658014  \n",
       "4      0.658246  "
      ]
     },
     "execution_count": 546,
     "metadata": {},
     "output_type": "execute_result"
    }
   ],
   "source": [
    "cv = pd.DataFrame(dict(result.cv))\n",
    "cv"
   ]
  },
  {
   "cell_type": "code",
   "execution_count": 557,
   "metadata": {},
   "outputs": [],
   "source": [
    "result['precision'] = result.matrix.apply(lambda x: x[1,1]/(x[0,1]+x[1,1]))\n",
    "result['recall'] = result.matrix.apply(lambda x: x[1,1]/(x[1,0]+x[1,1]))\n",
    "result['F1'] = (result['precision']+result['recall'])/2"
   ]
  },
  {
   "cell_type": "code",
   "execution_count": 591,
   "metadata": {},
   "outputs": [
    {
     "data": {
      "text/plain": [
       "(array([0, 1, 2, 3, 4, 5, 6, 7]), <a list of 8 Text xticklabel objects>)"
      ]
     },
     "execution_count": 591,
     "metadata": {},
     "output_type": "execute_result"
    },
    {
     "data": {
      "image/png": "[encoded data removed]",
      "text/plain": [
       "<Figure size 1152x432 with 2 Axes>"
      ]
     },
     "metadata": {
      "needs_background": "light"
     },
     "output_type": "display_data"
    }
   ],
   "source": [
    "import seaborn as sns\n",
    "\n",
    "fig, ax = plt.subplots(1, 2, figsize=(16,6))\n",
    "result.plot(kind='bar', y=['train_score', 'test_score', 'roc_auc', 'recall', 'precision', 'F1'], ax=ax[0])\n",
    "for tick in ax[0].get_xticklabels():\n",
    "    tick.set_rotation(45)\n",
    "\n",
    "sns.boxplot(data=cv, ax=ax[1])\n",
    "plt.xticks(rotation=45)"
   ]
  },
  {
   "cell_type": "code",
   "execution_count": 571,
   "metadata": {},
   "outputs": [],
   "source": [
    "def plt_roc(name, ax=ax, result=result):\n",
    "    ax.plot(result.roc[name][0], result.roc[name][1])\n",
    "    ax.set_xlabel('False Positive rate')\n",
    "    ax.set_ylabel('True Positive rate')\n",
    "    ax.title.set_text(name)"
   ]
  },
  {
   "cell_type": "code",
   "execution_count": 578,
   "metadata": {},
   "outputs": [
    {
     "data": {
      "image/png": "[encoded data removed]",
      "text/plain": [
       "<Figure size 1296x648 with 8 Axes>"
      ]
     },
     "metadata": {
      "needs_background": "light"
     },
     "output_type": "display_data"
    }
   ],
   "source": [
    "fig, ax = plt.subplots(2, 4, figsize=(18,9))\n",
    "for i, name in enumerate(result[result.index != 'svm'].index):\n",
    "    #print(i, name)\n",
    "    plt_roc(name, ax[i//4, i%4])\n",
    "fig.tight_layout(pad=2)"
   ]
  },
  {
   "cell_type": "markdown",
   "metadata": {},
   "source": [
    "From the above graphs, we can see ensemble methods are the clear winner in term of prediction ability as both Random forest and gradient boosting model shows accuracy of around 85%, much higher than any other models (75%) on testing dataset. Logistic regression and naive bayes method shows relative poor accuracy, but the prediction speed is much faster compared to ensemble methods. KNN and SVM predict result is also poor, but they take much longer to predict compared to logistic regression or naive bayes. Among the three naive bayes methods, multinimial and complement naive bayes shows the exact same result, and both perform slightly better than gaussian naive bayes. \n",
    "\n",
    "Based on these test result, we pick random forest as our model since it not only gave highest accuracy score (slightly higher than gradient boosting), but also take much time compared to gradient boosting."
   ]
  },
  {
   "cell_type": "code",
   "execution_count": 592,
   "metadata": {},
   "outputs": [
    {
     "data": {
      "image/png": "[encoded data removed]",
      "text/plain": [
       "<Figure size 864x576 with 1 Axes>"
      ]
     },
     "metadata": {
      "needs_background": "light"
     },
     "output_type": "display_data"
    }
   ],
   "source": [
    "fig, ax = plt.subplots(figsize=(12,8))\n",
    "ax.bar(features, rf.feature_importances_, color=color)\n",
    "for tick in ax.get_xticklabels():\n",
    "    tick.set_rotation(90)\n",
    "    "
   ]
  },
  {
   "cell_type": "markdown",
   "metadata": {},
   "source": [
    "From above graph, we can see usd_goal, duration and year shows highest impact on predicted result. Usd_goal and duration is very easy to understand, as for a project to be successful, they need to reach setted goal within the time of duration, so longer duration and lower target will surely make the project more likely to be successful. As for year, from story telling part, we can see there's a clear increase in successful rate around 2015, so this might impact the predicted result, but won't provide much insight for future prediction, as trend in the future might not follow previous trend. Staff pick is also very important feature, as project labeled as staff pick have higher chance to be successful. Category features also shows high impact on the predicted result, as we have seen from EDA, project from different category shows very different successful rate. Pick project from category with higher successful rate will also likely to increase the successful rate of the project."
   ]
  }
 ],
 "metadata": {
  "kernelspec": {
   "display_name": "Python 3",
   "language": "python",
   "name": "python3"
  },
  "language_info": {
   "codemirror_mode": {
    "name": "ipython",
    "version": 3
   },
   "file_extension": ".py",
   "mimetype": "text/x-python",
   "name": "python",
   "nbconvert_exporter": "python",
   "pygments_lexer": "ipython3",
   "version": "3.7.3"
  }
 },
 "nbformat": 4,
 "nbformat_minor": 2
}
